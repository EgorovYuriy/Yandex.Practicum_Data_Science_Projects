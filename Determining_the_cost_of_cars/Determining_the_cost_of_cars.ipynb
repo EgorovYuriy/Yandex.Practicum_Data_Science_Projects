{
 "cells": [
  {
   "cell_type": "markdown",
   "metadata": {
    "tags": []
   },
   "source": [
    "## Описание проекта \"Определение стоимости автомобилей\""
   ]
  },
  {
   "cell_type": "markdown",
   "metadata": {},
   "source": [
    "Сервис по продаже автомобилей с пробегом «Не бит, не крашен» разрабатывает приложение для привлечения новых клиентов. В нём можно быстро узнать рыночную стоимость своего автомобиля. В вашем распоряжении исторические данные: технические характеристики, комплектации и цены автомобилей. Вам нужно построить модель для определения стоимости. \n",
    "\n",
    "Заказчику важны:\n",
    "\n",
    "- качество предсказания;\n",
    "- скорость предсказания;\n",
    "- время обучения.\n",
    "\n",
    "Нашей задачей будет разработка модели машинного обучения для предсказания примерной рыночной стоимости автомобиля на основе исторических данных. Пользователь должен будет указать характеристики своего автомобиля и получить его примерную стоимость. \n",
    "\n",
    "На основе поставленной задачи подготовим план действий:\n",
    "\n",
    "- изучим данные, проверим пропуски, дубликаты, распределения значений признаков;\n",
    "- сделаем предобработку признаков разных типов данных;\n",
    "- подготовим данные к обучению с учитом особенностей моделей разных модулей;\n",
    "- после обучения моделей выведем показания метрик в итоговую таблицу для анализа и оценки качества этих моделей, дадим иттговое заключение."
   ]
  },
  {
   "cell_type": "markdown",
   "metadata": {
    "tags": []
   },
   "source": [
    "##  1. Подготовка данных"
   ]
  },
  {
   "cell_type": "markdown",
   "metadata": {
    "tags": []
   },
   "source": [
    "### 1.1 Изучение данных"
   ]
  },
  {
   "cell_type": "markdown",
   "metadata": {},
   "source": [
    "импорты"
   ]
  },
  {
   "cell_type": "code",
   "execution_count": 1,
   "metadata": {},
   "outputs": [],
   "source": [
    "import time\n",
    "import warnings\n",
    "\n",
    "import pandas as pd\n",
    "import numpy as np\n",
    "\n",
    "import matplotlib.pyplot as plt\n",
    "import seaborn as sns\n",
    "\n",
    "from sklearn.model_selection import (\n",
    "    train_test_split,\n",
    "    KFold,\n",
    "    RandomizedSearchCV\n",
    ")\n",
    "from sklearn.preprocessing import (\n",
    "    StandardScaler,\n",
    "    OneHotEncoder,\n",
    "    OrdinalEncoder\n",
    ")\n",
    "from sklearn.compose import ColumnTransformer\n",
    "from sklearn.pipeline import Pipeline\n",
    "from sklearn.metrics import mean_squared_error\n",
    "\n",
    "from sklearn.tree import DecisionTreeRegressor\n",
    "from sklearn.ensemble import RandomForestRegressor\n",
    "from sklearn.linear_model import LinearRegression\n",
    "from xgboost import XGBRegressor\n",
    "from catboost import CatBoostRegressor\n",
    "from lightgbm import LGBMRegressor\n",
    "\n",
    "warnings.filterwarnings('ignore')\n",
    "pd.set_option(\"display.float_format\", lambda x: \"%.2f\" % x)\n",
    "\n",
    "RS = 17"
   ]
  },
  {
   "cell_type": "markdown",
   "metadata": {},
   "source": [
    "изучим данные, проверим на дубликаты, пропуски"
   ]
  },
  {
   "cell_type": "code",
   "execution_count": null,
   "metadata": {},
   "outputs": [
    {
     "ename": "NameError",
     "evalue": "name 'pd' is not defined",
     "output_type": "error",
     "traceback": [
      "\u001b[1;31m---------------------------------------------------------------------------\u001b[0m",
      "\u001b[1;31mNameError\u001b[0m                                 Traceback (most recent call last)",
      "Input \u001b[1;32mIn [1]\u001b[0m, in \u001b[0;36m<cell line: 1>\u001b[1;34m()\u001b[0m\n\u001b[1;32m----> 1\u001b[0m contract \u001b[38;5;241m=\u001b[39m \u001b[43mpd\u001b[49m\u001b[38;5;241m.\u001b[39mread_csv(\u001b[38;5;124m'\u001b[39m\u001b[38;5;124m/datasets/final_provider/contract.csv\u001b[39m\u001b[38;5;124m'\u001b[39m)\n\u001b[0;32m      2\u001b[0m personal \u001b[38;5;241m=\u001b[39m pd\u001b[38;5;241m.\u001b[39mread_csv(\u001b[38;5;124m'\u001b[39m\u001b[38;5;124m/datasets/final_provider/personal.csv\u001b[39m\u001b[38;5;124m'\u001b[39m)\n\u001b[0;32m      3\u001b[0m internet \u001b[38;5;241m=\u001b[39m pd\u001b[38;5;241m.\u001b[39mread_csv(\u001b[38;5;124m'\u001b[39m\u001b[38;5;124m/datasets/final_provider/internet.csv\u001b[39m\u001b[38;5;124m'\u001b[39m)\n",
      "\u001b[1;31mNameError\u001b[0m: name 'pd' is not defined"
     ]
    }
   ],
   "source": [
    "try:\n",
    "    df = pd.read_csv('/datasets/autos.csv')\n",
    "except:\n",
    "     df = pd.read_csv('https://code.s3.yandex.net/datasets/autos.csv')"
   ]
  },
  {
   "cell_type": "code",
   "execution_count": 3,
   "metadata": {},
   "outputs": [
    {
     "data": {
      "text/html": [
       "<div>\n",
       "<style scoped>\n",
       "    .dataframe tbody tr th:only-of-type {\n",
       "        vertical-align: middle;\n",
       "    }\n",
       "\n",
       "    .dataframe tbody tr th {\n",
       "        vertical-align: top;\n",
       "    }\n",
       "\n",
       "    .dataframe thead th {\n",
       "        text-align: right;\n",
       "    }\n",
       "</style>\n",
       "<table border=\"1\" class=\"dataframe\">\n",
       "  <thead>\n",
       "    <tr style=\"text-align: right;\">\n",
       "      <th></th>\n",
       "      <th>DateCrawled</th>\n",
       "      <th>Price</th>\n",
       "      <th>VehicleType</th>\n",
       "      <th>RegistrationYear</th>\n",
       "      <th>Gearbox</th>\n",
       "      <th>Power</th>\n",
       "      <th>Model</th>\n",
       "      <th>Kilometer</th>\n",
       "      <th>RegistrationMonth</th>\n",
       "      <th>FuelType</th>\n",
       "      <th>Brand</th>\n",
       "      <th>Repaired</th>\n",
       "      <th>DateCreated</th>\n",
       "      <th>NumberOfPictures</th>\n",
       "      <th>PostalCode</th>\n",
       "      <th>LastSeen</th>\n",
       "    </tr>\n",
       "  </thead>\n",
       "  <tbody>\n",
       "    <tr>\n",
       "      <th>0</th>\n",
       "      <td>2016-03-24 11:52:17</td>\n",
       "      <td>480</td>\n",
       "      <td>NaN</td>\n",
       "      <td>1993</td>\n",
       "      <td>manual</td>\n",
       "      <td>0</td>\n",
       "      <td>golf</td>\n",
       "      <td>150000</td>\n",
       "      <td>0</td>\n",
       "      <td>petrol</td>\n",
       "      <td>volkswagen</td>\n",
       "      <td>NaN</td>\n",
       "      <td>2016-03-24 00:00:00</td>\n",
       "      <td>0</td>\n",
       "      <td>70435</td>\n",
       "      <td>2016-04-07 03:16:57</td>\n",
       "    </tr>\n",
       "  </tbody>\n",
       "</table>\n",
       "</div>"
      ],
      "text/plain": [
       "           DateCrawled  Price VehicleType  RegistrationYear Gearbox  Power  \\\n",
       "0  2016-03-24 11:52:17    480         NaN              1993  manual      0   \n",
       "\n",
       "  Model  Kilometer  RegistrationMonth FuelType       Brand Repaired  \\\n",
       "0  golf     150000                  0   petrol  volkswagen      NaN   \n",
       "\n",
       "           DateCreated  NumberOfPictures  PostalCode             LastSeen  \n",
       "0  2016-03-24 00:00:00                 0       70435  2016-04-07 03:16:57  "
      ]
     },
     "metadata": {},
     "output_type": "display_data"
    },
    {
     "name": "stdout",
     "output_type": "stream",
     "text": [
      "<class 'pandas.core.frame.DataFrame'>\n",
      "RangeIndex: 354369 entries, 0 to 354368\n",
      "Data columns (total 16 columns):\n",
      " #   Column             Non-Null Count   Dtype \n",
      "---  ------             --------------   ----- \n",
      " 0   DateCrawled        354369 non-null  object\n",
      " 1   Price              354369 non-null  int64 \n",
      " 2   VehicleType        316879 non-null  object\n",
      " 3   RegistrationYear   354369 non-null  int64 \n",
      " 4   Gearbox            334536 non-null  object\n",
      " 5   Power              354369 non-null  int64 \n",
      " 6   Model              334664 non-null  object\n",
      " 7   Kilometer          354369 non-null  int64 \n",
      " 8   RegistrationMonth  354369 non-null  int64 \n",
      " 9   FuelType           321474 non-null  object\n",
      " 10  Brand              354369 non-null  object\n",
      " 11  Repaired           283215 non-null  object\n",
      " 12  DateCreated        354369 non-null  object\n",
      " 13  NumberOfPictures   354369 non-null  int64 \n",
      " 14  PostalCode         354369 non-null  int64 \n",
      " 15  LastSeen           354369 non-null  object\n",
      "dtypes: int64(7), object(9)\n",
      "memory usage: 43.3+ MB\n",
      "None\n",
      "\n",
      "--------------------------------------------------\n",
      "Количество пропусков = 181077\n",
      "Количество дубликатов = 4\n",
      "--------------------------------------------------\n",
      "Процент потери данных при удалении пропусков =     30.63 %\n"
     ]
    }
   ],
   "source": [
    "display(df.head(1))\n",
    "df_copy = df.copy()\n",
    "print(df.info())\n",
    "print()\n",
    "print('-'*50)\n",
    "print(f'Количество пропусков = {df.isna().sum().sum()}')\n",
    "print(f'Количество дубликатов = {df.duplicated().sum().sum()}')\n",
    "print('-'*50)\n",
    "print(f'Процент потери данных при удалении пропусков = \\\n",
    "    {(1-df_copy.dropna().shape[0]/df.shape[0])*100:.2f} %')"
   ]
  },
  {
   "cell_type": "markdown",
   "metadata": {
    "tags": []
   },
   "source": [
    "### 1.2 Предобработка численных признаков"
   ]
  },
  {
   "cell_type": "markdown",
   "metadata": {},
   "source": [
    "Удаление пропусков приведет к большой потере данных, поэтому будем снижать их процент путем заполнения/частичного удаления. Сначала удалим неинформативные признаки, т.к. они не вляиют на поведение цены авто. Также стоит удалить месяц регистрации, т.к. одним из ключевых признаков является именно год регистрации."
   ]
  },
  {
   "cell_type": "code",
   "execution_count": 4,
   "metadata": {},
   "outputs": [
    {
     "data": {
      "text/html": [
       "<div>\n",
       "<style scoped>\n",
       "    .dataframe tbody tr th:only-of-type {\n",
       "        vertical-align: middle;\n",
       "    }\n",
       "\n",
       "    .dataframe tbody tr th {\n",
       "        vertical-align: top;\n",
       "    }\n",
       "\n",
       "    .dataframe thead th {\n",
       "        text-align: right;\n",
       "    }\n",
       "</style>\n",
       "<table border=\"1\" class=\"dataframe\">\n",
       "  <thead>\n",
       "    <tr style=\"text-align: right;\">\n",
       "      <th></th>\n",
       "      <th>Price</th>\n",
       "      <th>VehicleType</th>\n",
       "      <th>RegistrationYear</th>\n",
       "      <th>Gearbox</th>\n",
       "      <th>Power</th>\n",
       "      <th>Model</th>\n",
       "      <th>Kilometer</th>\n",
       "      <th>FuelType</th>\n",
       "      <th>Brand</th>\n",
       "      <th>Repaired</th>\n",
       "    </tr>\n",
       "  </thead>\n",
       "  <tbody>\n",
       "    <tr>\n",
       "      <th>0</th>\n",
       "      <td>480</td>\n",
       "      <td>NaN</td>\n",
       "      <td>1993</td>\n",
       "      <td>manual</td>\n",
       "      <td>0</td>\n",
       "      <td>golf</td>\n",
       "      <td>150000</td>\n",
       "      <td>petrol</td>\n",
       "      <td>volkswagen</td>\n",
       "      <td>NaN</td>\n",
       "    </tr>\n",
       "  </tbody>\n",
       "</table>\n",
       "</div>"
      ],
      "text/plain": [
       "   Price VehicleType  RegistrationYear Gearbox  Power Model  Kilometer  \\\n",
       "0    480         NaN              1993  manual      0  golf     150000   \n",
       "\n",
       "  FuelType       Brand Repaired  \n",
       "0   petrol  volkswagen      NaN  "
      ]
     },
     "execution_count": 4,
     "metadata": {},
     "output_type": "execute_result"
    }
   ],
   "source": [
    "df = df.drop(\n",
    "    ['DateCrawled','DateCreated','NumberOfPictures','LastSeen','RegistrationMonth','PostalCode'],\n",
    "    axis=1)\n",
    "\n",
    "df.head(1)"
   ]
  },
  {
   "cell_type": "markdown",
   "metadata": {},
   "source": [
    "Теперь датасет содержит только актуальную информацию. Проверим датасет на пропуски"
   ]
  },
  {
   "cell_type": "code",
   "execution_count": 5,
   "metadata": {
    "scrolled": true
   },
   "outputs": [
    {
     "data": {
      "text/plain": [
       "Price                   0\n",
       "VehicleType         37490\n",
       "RegistrationYear        0\n",
       "Gearbox             19833\n",
       "Power                   0\n",
       "Model               19705\n",
       "Kilometer               0\n",
       "FuelType            32895\n",
       "Brand                   0\n",
       "Repaired            71154\n",
       "dtype: int64"
      ]
     },
     "execution_count": 5,
     "metadata": {},
     "output_type": "execute_result"
    }
   ],
   "source": [
    "df.isna().sum()"
   ]
  },
  {
   "cell_type": "markdown",
   "metadata": {},
   "source": [
    "Из таблицы видно, что пропуски содержатся только в категориальных признаках, один из которых бинарый. Далее следует в числовых признаках удалить аномалии/выбросы, в категориальных - устранить пропуски.\n",
    "\n",
    "Числовые признаки: **'Price','RegistrationYear','Power'**. Объявим функцию, которая на вход принимает название признака, на выходе боксплот, для каждого признака масштаб по оси абсцисс вводится вручную для поиска границ лимитирования."
   ]
  },
  {
   "cell_type": "code",
   "execution_count": 6,
   "metadata": {
    "scrolled": true
   },
   "outputs": [
    {
     "data": {
      "image/png": "[encoded data removed]",
      "text/plain": [
       "<Figure size 648x288 with 1 Axes>"
      ]
     },
     "metadata": {
      "needs_background": "light"
     },
     "output_type": "display_data"
    }
   ],
   "source": [
    "def boxplot_info(title):\n",
    "    \n",
    "    plt.figure(figsize=(9,4))\n",
    "    plt.boxplot(df[title], vert=False)\n",
    "    plt.grid(True)\n",
    "    plt.title(title);\n",
    "    \n",
    "boxplot_info('Price')"
   ]
  },
  {
   "cell_type": "code",
   "execution_count": 7,
   "metadata": {
    "scrolled": true
   },
   "outputs": [
    {
     "data": {
      "image/png": "[encoded data removed]",
      "text/plain": [
       "<Figure size 648x288 with 1 Axes>"
      ]
     },
     "metadata": {
      "needs_background": "light"
     },
     "output_type": "display_data"
    }
   ],
   "source": [
    "boxplot_info('RegistrationYear')\n",
    "plt.xlim(1940,1990);"
   ]
  },
  {
   "cell_type": "code",
   "execution_count": 8,
   "metadata": {
    "scrolled": true
   },
   "outputs": [
    {
     "data": {
      "image/png": "[encoded data removed]",
      "text/plain": [
       "<Figure size 648x288 with 1 Axes>"
      ]
     },
     "metadata": {
      "needs_background": "light"
     },
     "output_type": "display_data"
    }
   ],
   "source": [
    "boxplot_info('Power')\n",
    "plt.xlim(0,500);"
   ]
  },
  {
   "cell_type": "markdown",
   "metadata": {},
   "source": [
    "**Вывод по графикам:**\n",
    "\n",
    "- в признаке Price возьмем нижнюю границу за 5% квантиль, т.к. совсем низкие цены выглядят нелогично;\n",
    "- в признаке RegistrationYear зададим диапазон 1980-2016, дата последней выгрузки данных 2016 год;\n",
    "- в признаке Power зададим интервал от 5% квантиля до 460 л.с., т.к. меньше нижней границы машины с такой мощностью двигателя не актуальны, а свыше - дорогой лошадинный налог, авто невозможно будет перерегистрировать после покупки в связи с изменением заводской конструкции."
   ]
  },
  {
   "cell_type": "code",
   "execution_count": 9,
   "metadata": {},
   "outputs": [],
   "source": [
    "df = df[(df['Price'] > df['Price'].quantile(.05)) &\n",
    "        (df['RegistrationYear'] >= 1980) &\n",
    "        (df['RegistrationYear'] <= 2016) &\n",
    "        (df['Power'] > df['Power'].quantile(.05)) &\n",
    "        (df['Power'] <=460)]"
   ]
  },
  {
   "cell_type": "markdown",
   "metadata": {
    "tags": []
   },
   "source": [
    "### 1.3 Предобработка категориальных признаков"
   ]
  },
  {
   "cell_type": "markdown",
   "metadata": {},
   "source": [
    "Категориальные признаки: **'VehicleType','Gearbox','Model','FuelType','Brand','Repaired','Kilometer'**\n",
    "\n",
    "Проверив график для признака Kilometer видно, что он принимает строгие значения с равными периодами, значит его можно отнести к категоримальным, преобразуем его тип.\n",
    "\n",
    "Создадим бинарную маску для признака Repaired. Для признаков Gearbox и Repaired можно заполнить значениями manual и 1 соответственно, т.к. АКПП используется не так давно и реже относительно МКПП, а если пользователь не указал наличие в прошлом ремонта, то по умолчанию будем считать это фактом, т.к. порядочный пользователь укажет факт отсутствия ремонта для удержания высокой цены авто"
   ]
  },
  {
   "cell_type": "code",
   "execution_count": 10,
   "metadata": {},
   "outputs": [
    {
     "data": {
      "image/png": "[encoded data removed]",
      "text/plain": [
       "<Figure size 648x288 with 1 Axes>"
      ]
     },
     "metadata": {
      "needs_background": "light"
     },
     "output_type": "display_data"
    }
   ],
   "source": [
    "boxplot_info('Kilometer')"
   ]
  },
  {
   "cell_type": "code",
   "execution_count": 11,
   "metadata": {},
   "outputs": [],
   "source": [
    "df.Kilometer = df.Kilometer.astype('object')\n",
    "df.Repaired = df.Repaired.map({'yes':1,'no':0}).fillna(1).astype('int')\n",
    "df.Gearbox = df.Gearbox.fillna('manual')"
   ]
  },
  {
   "cell_type": "markdown",
   "metadata": {},
   "source": [
    "Объявим функцию для заполнения пропусков в оставшихся признаках, которая будет принимать на вход 2 признака для агрегации данных, по которым на выходе для 3его признака будет заполнять пропуск модой по группировке данных согласно методу transform."
   ]
  },
  {
   "cell_type": "code",
   "execution_count": 12,
   "metadata": {},
   "outputs": [
    {
     "data": {
      "text/plain": [
       "Price               0\n",
       "VehicleType         0\n",
       "RegistrationYear    0\n",
       "Gearbox             0\n",
       "Power               0\n",
       "Model               0\n",
       "Kilometer           0\n",
       "FuelType            0\n",
       "Brand               0\n",
       "Repaired            0\n",
       "dtype: int64"
      ]
     },
     "metadata": {},
     "output_type": "display_data"
    },
    {
     "name": "stdout",
     "output_type": "stream",
     "text": [
      "--------------------------------------------------\n",
      "Количество пропусков в итоговом датасете  = 0\n",
      "Количество дубликатов в итоговом датасете = 43064\n",
      "--------------------------------------------------\n"
     ]
    }
   ],
   "source": [
    "def fillna_mode(col1, col2, col3):\n",
    "    \n",
    "    df[col3] = df.groupby([col1,col2])[col3].transform(\n",
    "        lambda x: x.fillna(x.mode()[0] if not x.mode().empty else 'unknown')\n",
    "    )\n",
    "    \n",
    "fillna_mode('RegistrationYear','Brand','Model')\n",
    "fillna_mode('Brand','Model','VehicleType')\n",
    "fillna_mode('Brand','Model','FuelType')\n",
    "\n",
    "# проверка\n",
    "display(df.isna().sum())\n",
    "print('-'*50)\n",
    "print(f'Количество пропусков в итоговом датасете  = {df.isna().sum().sum()}')\n",
    "print(f'Количество дубликатов в итоговом датасете = {df.duplicated().sum()}')\n",
    "print('-'*50)"
   ]
  },
  {
   "cell_type": "markdown",
   "metadata": {
    "tags": []
   },
   "source": [
    "### 1.4 Результаты предобработи"
   ]
  },
  {
   "cell_type": "markdown",
   "metadata": {},
   "source": [
    "Осталось удалить  дубликаты, проверить размер итогового датасета и провести корреляцию признаков"
   ]
  },
  {
   "cell_type": "code",
   "execution_count": 13,
   "metadata": {},
   "outputs": [
    {
     "name": "stdout",
     "output_type": "stream",
     "text": [
      "--------------------------------------------------\n",
      "Количество дубликатов = 0\n",
      "--------------------------------------------------\n",
      "Размер итогового датасета (245981, 10)\n",
      "--------------------------------------------------\n",
      "\n",
      "                *************** КОРРЕЛЯЦИИ ПРИЗНАКОВ ***************\n"
     ]
    },
    {
     "data": {
      "image/png": "[encoded data removed]",
      "text/plain": [
       "<Figure size 720x432 with 2 Axes>"
      ]
     },
     "metadata": {
      "needs_background": "light"
     },
     "output_type": "display_data"
    }
   ],
   "source": [
    "df = df.drop_duplicates().reset_index(drop=True)\n",
    "df_copy = df.copy()\n",
    "print('-'*50)\n",
    "print(f'Количество дубликатов = {df.duplicated().sum().sum()}')\n",
    "print('-'*50)\n",
    "print(f'Размер итогового датасета {df.shape}')\n",
    "print('-'*50)\n",
    "print()\n",
    "plt.figure(figsize=(10,6))\n",
    "print(' '*15,'*'*15, 'КОРРЕЛЯЦИИ ПРИЗНАКОВ','*'*15)\n",
    "sns.heatmap(df.corr(), annot=True, cmap = 'Blues', mask=np.triu(np.ones_like(df.corr())));"
   ]
  },
  {
   "cell_type": "markdown",
   "metadata": {
    "tags": []
   },
   "source": [
    "### 1.5 Вывод"
   ]
  },
  {
   "cell_type": "markdown",
   "metadata": {},
   "source": [
    "**Вывод по предобработке:**\n",
    "\n",
    "- удалены неинформативные признаки;\n",
    "- удалены выбросы/аномалии в числовых признаках;\n",
    "- заполнены пропуски в категориальных признаках;\n",
    "- удалены дубликаты, датасет приведен к дальнейшей работе.\n",
    "\n",
    "Была составлена таблица корреляций, обнаружена средняя корреляция между 2мя признаками и таргетом, которые улучшат качество предсказания модели. "
   ]
  },
  {
   "cell_type": "markdown",
   "metadata": {
    "tags": []
   },
   "source": [
    "## 2. Обучение моделей"
   ]
  },
  {
   "cell_type": "markdown",
   "metadata": {
    "tags": []
   },
   "source": [
    "### 2.1 Подготовка данных к обучению"
   ]
  },
  {
   "cell_type": "markdown",
   "metadata": {},
   "source": [
    "Для дальнейшей работы с моделями бустинга преобразуем категориальные признаки в тип category, подготовим выборки и таргет"
   ]
  },
  {
   "cell_type": "code",
   "execution_count": 14,
   "metadata": {
    "scrolled": true
   },
   "outputs": [
    {
     "name": "stdout",
     "output_type": "stream",
     "text": [
      "<class 'pandas.core.frame.DataFrame'>\n",
      "RangeIndex: 245981 entries, 0 to 245980\n",
      "Data columns (total 10 columns):\n",
      " #   Column            Non-Null Count   Dtype   \n",
      "---  ------            --------------   -----   \n",
      " 0   Price             245981 non-null  int64   \n",
      " 1   VehicleType       245981 non-null  category\n",
      " 2   RegistrationYear  245981 non-null  int64   \n",
      " 3   Gearbox           245981 non-null  category\n",
      " 4   Power             245981 non-null  int64   \n",
      " 5   Model             245981 non-null  category\n",
      " 6   Kilometer         245981 non-null  category\n",
      " 7   FuelType          245981 non-null  category\n",
      " 8   Brand             245981 non-null  category\n",
      " 9   Repaired          245981 non-null  int32   \n",
      "dtypes: category(6), int32(1), int64(3)\n",
      "memory usage: 8.2 MB\n"
     ]
    }
   ],
   "source": [
    "for i in df.columns:\n",
    "    if df[i].dtype == 'object':\n",
    "        df[i] = df[i].astype('category')\n",
    "\n",
    "df.info()"
   ]
  },
  {
   "cell_type": "code",
   "execution_count": 15,
   "metadata": {
    "scrolled": true
   },
   "outputs": [
    {
     "name": "stdout",
     "output_type": "stream",
     "text": [
      "Размер трейна ((184485, 9), (184485,))\n",
      "Размер теста  ((61496, 9), (61496,))\n"
     ]
    }
   ],
   "source": [
    "X, X_test, y, y_test = train_test_split(\n",
    "    df.drop('Price', axis=1),\n",
    "    df['Price'],\n",
    "    test_size=.25,\n",
    "    random_state=RS)\n",
    "\n",
    "print(f'Размер трейна {X.shape, y.shape}')\n",
    "print(f'Размер теста  {X_test.shape, y_test.shape}')"
   ]
  },
  {
   "cell_type": "markdown",
   "metadata": {
    "tags": []
   },
   "source": [
    "### 2.2 Кодирование признаков"
   ]
  },
  {
   "cell_type": "markdown",
   "metadata": {},
   "source": [
    "Разделим признаки на числовые и категориальные, для каждого проведем обработку, подготовим признаки для разных моделей модуля sklearn: OneHot для линеных моделей, Ordinal для деревьев."
   ]
  },
  {
   "cell_type": "code",
   "execution_count": 17,
   "metadata": {
    "scrolled": true
   },
   "outputs": [],
   "source": [
    "cat = ['VehicleType','Gearbox','Model','FuelType','Brand','Kilometer']\n",
    "num = ['RegistrationYear','Power']\n",
    "\n",
    "\n",
    "col_trans_lin = ColumnTransformer(\n",
    "                 [('ohe', OneHotEncoder(handle_unknown='ignore', drop='first', sparse=False), cat),\n",
    "                  ('scaler', StandardScaler(), num)],\n",
    "                    remainder='passthrough'\n",
    ")\n",
    "\n",
    "col_trans_trees = ColumnTransformer(\n",
    "                 [('oe', OrdinalEncoder(handle_unknown='use_encoded_value', unknown_value=-1), cat),\n",
    "                  ('scaler', StandardScaler(), num)],\n",
    "                    remainder='passthrough'\n",
    ")"
   ]
  },
  {
   "cell_type": "markdown",
   "metadata": {
    "tags": []
   },
   "source": [
    "### 2.3 Обучение"
   ]
  },
  {
   "cell_type": "markdown",
   "metadata": {},
   "source": [
    "Далее наша задача обучить разные модели на трейне, проверить итоговые замеры метрики и времени исполнения и на основе результатов выбрать одну модель для проверки на тесте. Сначала проверим 3  модели модуля skalearn: дерево, лес и регрессию, далее 3 модели бустинга: LightGBM, CatBoost, XGBoost. Для каждой модели будет проводить cv отдельно, т.к. согласно тз нужно замерить не только значение метрики, но и время обучения и предсказания модели. \n",
    "\n",
    "Объявим функцию, которая на вход принимает модель, ее параметры, набор признаков для трейна и теста, на выходе - значение метрики на cv, время обучения и предсказания, а также значение метрики на тесте, которые мы выведем только для модели с лучшим показателем метрики rmse на валиде. Метрика на тесте была включена в функцию сразу для упрощения расчетов и вывода в следующем пункте."
   ]
  },
  {
   "cell_type": "code",
   "execution_count": 18,
   "metadata": {},
   "outputs": [],
   "source": [
    "def model_metrics(model, params):\n",
    "    \n",
    "    regressor = RandomizedSearchCV(\n",
    "         model, \n",
    "         params, \n",
    "         cv = KFold(5, shuffle=True, random_state=RS),\n",
    "         scoring='neg_root_mean_squared_error',\n",
    "         n_jobs=-1,\n",
    "         verbose=10\n",
    "    )\n",
    "    regressor.fit(X, y)\n",
    "    \n",
    "    rmse_cv = -regressor.best_score_.round(4) \n",
    "    best_params = regressor.best_params_\n",
    "    time_fit = regressor.cv_results_['mean_fit_time'][regressor.best_index_].round(4)\n",
    "    time_predict = regressor.cv_results_['mean_score_time'][regressor.best_index_].round(4)\n",
    "    best_model = regressor.best_estimator_\n",
    "    \n",
    "    return rmse_cv, time_fit, time_predict, best_params, best_model"
   ]
  },
  {
   "cell_type": "markdown",
   "metadata": {},
   "source": [
    "Каждую модель с ее парметрами заложим в функцию и получим метрики, выводить их будем в датафрейме в пункте \"Анализ моделей\" для презентабельного отображения результатов."
   ]
  },
  {
   "cell_type": "markdown",
   "metadata": {
    "tags": []
   },
   "source": [
    "### 2.4 Sklearn"
   ]
  },
  {
   "cell_type": "markdown",
   "metadata": {},
   "source": [
    "**DecisionTree**"
   ]
  },
  {
   "cell_type": "code",
   "execution_count": 19,
   "metadata": {
    "scrolled": true
   },
   "outputs": [
    {
     "name": "stdout",
     "output_type": "stream",
     "text": [
      "Fitting 5 folds for each of 1 candidates, totalling 5 fits\n",
      "--------------------------------\n",
      "Simulated successfully, next up\n",
      "--------------------------------\n",
      "CPU times: total: 2.27 s\n",
      "Wall time: 43 s\n"
     ]
    }
   ],
   "source": [
    "%%time\n",
    "pipe_dt = Pipeline([\n",
    "    ('tree_transform', col_trans_trees),\n",
    "    ('dt', DecisionTreeRegressor(random_state=RS))\n",
    "])\n",
    "params_dt = {\n",
    "    'dt__max_depth':[15]\n",
    "}\n",
    "dt_rmse_cv, dt_time_fit, dt_time_predict, dt_best_params, dt_best_model = model_metrics(\n",
    "    pipe_dt, \n",
    "    params_dt\n",
    ")"
   ]
  },
  {
   "cell_type": "markdown",
   "metadata": {},
   "source": [
    "**RandomForest**"
   ]
  },
  {
   "cell_type": "code",
   "execution_count": 42,
   "metadata": {
    "scrolled": true
   },
   "outputs": [
    {
     "name": "stdout",
     "output_type": "stream",
     "text": [
      "Fitting 5 folds for each of 1 candidates, totalling 5 fits\n",
      "--------------------------------\n",
      "Simulated successfully, next up\n",
      "--------------------------------\n",
      "CPU times: total: 4min 13s\n",
      "Wall time: 10min 27s\n"
     ]
    },
    {
     "data": {
      "text/plain": [
       "1682.98"
      ]
     },
     "execution_count": 42,
     "metadata": {},
     "output_type": "execute_result"
    }
   ],
   "source": [
    "%%time\n",
    "pipe_rf = Pipeline([\n",
    "    ('tree_transform', col_trans_trees),\n",
    "    ('rf', RandomForestRegressor(random_state=RS))\n",
    "])\n",
    "params_rf = {\n",
    "    'rf__max_depth':[25],\n",
    "    'rf__n_estimators':[300]\n",
    "}\n",
    "rf_rmse_cv, rf_time_fit, rf_time_predict, rf_best_params, rf_best_model = model_metrics(\n",
    "    pipe_rf, \n",
    "    params_rf\n",
    ")"
   ]
  },
  {
   "cell_type": "markdown",
   "metadata": {},
   "source": [
    "**LinearRegresion**"
   ]
  },
  {
   "cell_type": "code",
   "execution_count": 21,
   "metadata": {},
   "outputs": [
    {
     "name": "stdout",
     "output_type": "stream",
     "text": [
      "Fitting 5 folds for each of 1 candidates, totalling 5 fits\n",
      "--------------------------------\n",
      "Simulated successfully, next up\n",
      "--------------------------------\n",
      "CPU times: total: 13.6 s\n",
      "Wall time: 22.7 s\n"
     ]
    }
   ],
   "source": [
    "%%time\n",
    "pipe_rf = Pipeline([\n",
    "    ('lin_transform', col_trans_lin),\n",
    "    ('lr', LinearRegression())\n",
    "])\n",
    "lr_rmse_cv, lr_time_fit, lr_time_predict, lr_best_params, lr_best_model = model_metrics(\n",
    "    pipe_rf, \n",
    "    {}\n",
    ")"
   ]
  },
  {
   "cell_type": "markdown",
   "metadata": {
    "tags": []
   },
   "source": [
    "### 2.5 Boosting"
   ]
  },
  {
   "cell_type": "markdown",
   "metadata": {},
   "source": [
    "**LightGBM**"
   ]
  },
  {
   "cell_type": "code",
   "execution_count": 22,
   "metadata": {
    "scrolled": true
   },
   "outputs": [
    {
     "name": "stdout",
     "output_type": "stream",
     "text": [
      "Fitting 5 folds for each of 1 candidates, totalling 5 fits\n",
      "--------------------------------\n",
      "Simulated successfully, next up\n",
      "--------------------------------\n",
      "CPU times: total: 17.6 s\n",
      "Wall time: 18.8 s\n"
     ]
    }
   ],
   "source": [
    "%%time\n",
    "pipe_lgbm = Pipeline([\n",
    "    ('lgbm', LGBMRegressor(random_state=RS))\n",
    "])\n",
    "params_lgbm = {\n",
    "    'lgbm__n_estimators':[500],\n",
    "    'lgbm__learning_rate':[0.1]\n",
    "    'lgbm__max_depth':[25]\n",
    "}\n",
    "lgbm_rmse_cv, lgbm_time_fit, lgbm_time_predict, lgbm_best_params, lgbm_best_model = model_metrics(\n",
    "    pipe_lgbm, \n",
    "    params_lgbm\n",
    ")"
   ]
  },
  {
   "cell_type": "markdown",
   "metadata": {},
   "source": [
    "**XGBoost**"
   ]
  },
  {
   "cell_type": "code",
   "execution_count": 27,
   "metadata": {
    "scrolled": true
   },
   "outputs": [
    {
     "name": "stdout",
     "output_type": "stream",
     "text": [
      "Fitting 5 folds for each of 2 candidates, totalling 10 fits\n",
      "--------------------------------\n",
      "Simulated successfully, next up\n",
      "--------------------------------\n",
      "CPU times: total: 1min 13s\n",
      "Wall time: 1min 19s\n"
     ]
    },
    {
     "data": {
      "text/plain": [
       "{'xgb__n_estimators': 100, 'xgb__max_depth': 10, 'xgb__learning_rate': 0.1}"
      ]
     },
     "execution_count": 27,
     "metadata": {},
     "output_type": "execute_result"
    }
   ],
   "source": [
    "%%time\n",
    "pipe_xgb = Pipeline([\n",
    "    ('tree_transform', col_trans_trees),\n",
    "    ('xgb', XGBRegressor(random_state=RS))\n",
    "])\n",
    "params_xgb = {\n",
    "    'xgb__n_estimators':[100],\n",
    "    'xgb__max_depth':[10],\n",
    "    'xgb__learning_rate':[0.1]\n",
    "}\n",
    "xgb_rmse_cv, xgb_time_fit, xgb_time_predict, xgb_best_params, xgb_best_model = model_metrics(\n",
    "    pipe_xgb, \n",
    "    params_xgb\n",
    ")"
   ]
  },
  {
   "cell_type": "markdown",
   "metadata": {
    "tags": []
   },
   "source": [
    "**CatBoost**"
   ]
  },
  {
   "cell_type": "code",
   "execution_count": 39,
   "metadata": {
    "scrolled": true
   },
   "outputs": [
    {
     "name": "stdout",
     "output_type": "stream",
     "text": [
      "Fitting 5 folds for each of 1 candidates, totalling 5 fits\n",
      "--------------------------------\n",
      "Simulated successfully, next up\n",
      "--------------------------------\n",
      "CPU times: total: 7min 52s\n",
      "Wall time: 5min 36s\n"
     ]
    }
   ],
   "source": [
    "%%time\n",
    "pipe_cat = Pipeline([\n",
    "    ('cat', CatBoostRegressor(cat_features=cat, verbose=False, random_state=RS))\n",
    "])\n",
    "params_cat = {\n",
    "    'cat__iterations':[500],\n",
    "    'cat__learning_rate':[0.5]\n",
    "}\n",
    "cat_rmse_cv, cat_time_fit, cat_time_predict, cat_best_params, cat_best_model = model_metrics(\n",
    "    pipe_cat, \n",
    "    params_cat,\n",
    ")"
   ]
  },
  {
   "cell_type": "markdown",
   "metadata": {
    "tags": []
   },
   "source": [
    "### 2.6 Вывод"
   ]
  },
  {
   "cell_type": "markdown",
   "metadata": {},
   "source": [
    "**Вывод по итогам обучения моделей:**\n",
    "\n",
    "- данные были поготовлены для обучения моделей;\n",
    "- было проведено обучение моделей с минимальным набором значений параметров для минимизации времени обучения;\n",
    "- для каждой модели по итогу обучения заложены и расчитаны значения метрик на трейне и тесте, время обучения и предскзания."
   ]
  },
  {
   "cell_type": "markdown",
   "metadata": {
    "tags": []
   },
   "source": [
    "## 3. Анализ моделей"
   ]
  },
  {
   "cell_type": "markdown",
   "metadata": {
    "tags": []
   },
   "source": [
    "### 3.1 Результаты работы моделей"
   ]
  },
  {
   "cell_type": "markdown",
   "metadata": {},
   "source": [
    "выведем результаты работы моделей в таблицу"
   ]
  },
  {
   "cell_type": "code",
   "execution_count": 43,
   "metadata": {},
   "outputs": [
    {
     "data": {
      "text/html": [
       "<div>\n",
       "<style scoped>\n",
       "    .dataframe tbody tr th:only-of-type {\n",
       "        vertical-align: middle;\n",
       "    }\n",
       "\n",
       "    .dataframe tbody tr th {\n",
       "        vertical-align: top;\n",
       "    }\n",
       "\n",
       "    .dataframe thead th {\n",
       "        text-align: right;\n",
       "    }\n",
       "</style>\n",
       "<table border=\"1\" class=\"dataframe\">\n",
       "  <thead>\n",
       "    <tr style=\"text-align: right;\">\n",
       "      <th></th>\n",
       "      <th>rmse cv</th>\n",
       "      <th>time fit</th>\n",
       "      <th>time predict</th>\n",
       "    </tr>\n",
       "  </thead>\n",
       "  <tbody>\n",
       "    <tr>\n",
       "      <th>Decision Tree</th>\n",
       "      <td>1945.91</td>\n",
       "      <td>2.80</td>\n",
       "      <td>0.20</td>\n",
       "    </tr>\n",
       "    <tr>\n",
       "      <th>Random Forest</th>\n",
       "      <td>1682.98</td>\n",
       "      <td>303.19</td>\n",
       "      <td>61.75</td>\n",
       "    </tr>\n",
       "    <tr>\n",
       "      <th>Linear Regression</th>\n",
       "      <td>2474.88</td>\n",
       "      <td>14.96</td>\n",
       "      <td>0.70</td>\n",
       "    </tr>\n",
       "    <tr>\n",
       "      <th>LightGBM</th>\n",
       "      <td>1585.73</td>\n",
       "      <td>8.79</td>\n",
       "      <td>2.60</td>\n",
       "    </tr>\n",
       "    <tr>\n",
       "      <th>XGBoost</th>\n",
       "      <td>1596.40</td>\n",
       "      <td>45.23</td>\n",
       "      <td>0.58</td>\n",
       "    </tr>\n",
       "    <tr>\n",
       "      <th>CatBoost</th>\n",
       "      <td>1613.23</td>\n",
       "      <td>251.47</td>\n",
       "      <td>0.37</td>\n",
       "    </tr>\n",
       "  </tbody>\n",
       "</table>\n",
       "</div>"
      ],
      "text/plain": [
       "                   rmse cv  time fit  time predict\n",
       "Decision Tree      1945.91      2.80          0.20\n",
       "Random Forest      1682.98    303.19         61.75\n",
       "Linear Regression  2474.88     14.96          0.70\n",
       "LightGBM           1585.73      8.79          2.60\n",
       "XGBoost            1596.40     45.23          0.58\n",
       "CatBoost           1613.23    251.47          0.37"
      ]
     },
     "execution_count": 43,
     "metadata": {},
     "output_type": "execute_result"
    }
   ],
   "source": [
    "pd.DataFrame(\n",
    "    {'rmse cv':[dt_rmse_cv, \n",
    "                rf_rmse_cv, \n",
    "                lr_rmse_cv, \n",
    "                lgbm_rmse_cv, \n",
    "                xgb_rmse_cv,\n",
    "                cat_rmse_cv],\n",
    "     \n",
    "     'time fit':[dt_time_fit,\n",
    "                 rf_time_fit,\n",
    "                 lr_time_fit,\n",
    "                 lgbm_time_fit,\n",
    "                 xgb_time_fit,\n",
    "                 cat_time_fit],\n",
    "     \n",
    "     'time predict':[dt_time_predict,\n",
    "                     rf_time_predict,\n",
    "                     lr_time_predict,\n",
    "                     lgbm_time_predict,\n",
    "                     xgb_time_predict,\n",
    "                     cat_time_predict]\n",
    "    },\n",
    "    index=['Decision Tree',\n",
    "           'Random Forest',\n",
    "           'Linear Regression',\n",
    "           'LightGBM',\n",
    "           'XGBoost',\n",
    "           'CatBoost']     \n",
    ")"
   ]
  },
  {
   "cell_type": "markdown",
   "metadata": {},
   "source": [
    "по результатам моделью с лучшим балансом значений метрики и времени обучения/предсказания является LightGBM. далее проверим ее качество на тестовой выборке"
   ]
  },
  {
   "cell_type": "markdown",
   "metadata": {
    "tags": []
   },
   "source": [
    "### 3.2 Тестирование"
   ]
  },
  {
   "cell_type": "code",
   "execution_count": 41,
   "metadata": {},
   "outputs": [
    {
     "data": {
      "text/html": [
       "<div>\n",
       "<style scoped>\n",
       "    .dataframe tbody tr th:only-of-type {\n",
       "        vertical-align: middle;\n",
       "    }\n",
       "\n",
       "    .dataframe tbody tr th {\n",
       "        vertical-align: top;\n",
       "    }\n",
       "\n",
       "    .dataframe thead th {\n",
       "        text-align: right;\n",
       "    }\n",
       "</style>\n",
       "<table border=\"1\" class=\"dataframe\">\n",
       "  <thead>\n",
       "    <tr style=\"text-align: right;\">\n",
       "      <th></th>\n",
       "      <th>LightGBM Regressor</th>\n",
       "    </tr>\n",
       "  </thead>\n",
       "  <tbody>\n",
       "    <tr>\n",
       "      <th>rmse valid</th>\n",
       "      <td>1585.73</td>\n",
       "    </tr>\n",
       "    <tr>\n",
       "      <th>rmse test</th>\n",
       "      <td>1581.19</td>\n",
       "    </tr>\n",
       "    <tr>\n",
       "      <th>time_fit</th>\n",
       "      <td>8.79</td>\n",
       "    </tr>\n",
       "    <tr>\n",
       "      <th>time_predict</th>\n",
       "      <td>2.60</td>\n",
       "    </tr>\n",
       "  </tbody>\n",
       "</table>\n",
       "</div>"
      ],
      "text/plain": [
       "              LightGBM Regressor\n",
       "rmse valid               1585.73\n",
       "rmse test                1581.19\n",
       "time_fit                    8.79\n",
       "time_predict                2.60"
      ]
     },
     "metadata": {},
     "output_type": "display_data"
    }
   ],
   "source": [
    "lgbm_rmse_test =  mean_squared_error(\n",
    "    y_test, lgbm_best_model.predict(X_test), squared=False)\n",
    "\n",
    "display(pd.DataFrame({\n",
    "     'LightGBM Regressor':[lgbm_rmse_cv,\n",
    "                          lgbm_rmse_test,\n",
    "                          lgbm_time_fit,\n",
    "                          lgbm_time_predict]\n",
    "     },\n",
    "     index=['rmse valid',\n",
    "            'rmse test',\n",
    "            'time_fit',\n",
    "            'time_predict']\n",
    "        )\n",
    ")"
   ]
  },
  {
   "cell_type": "markdown",
   "metadata": {
    "tags": []
   },
   "source": [
    "## 4. Вывод по итогам проекта"
   ]
  },
  {
   "cell_type": "markdown",
   "metadata": {},
   "source": [
    "   Нашей задачей является выбор модели согласно требованиям заказчика: качество предсказания, время обучения и время предсказания. Последний критерий можно не учитывать при выборе модели, т.к. время предсказания всех моделей быстрое, не более 2 сек. Выбор модели определяется балансом между показателем метрики и временем обучения, при этом важно учесть одну особенность исследования: выбор делается в пользу модели, которая показала лучший баланс НА ТЕСТИРУЕМОЙ ПЛАТФОРМЕ, т.к. разные платформы имеют разные ресурсы для проведения исследования. Для оптимизации выбора по итогам исследования представлена таблица с результатами, для каждой модели рассчитаны параметры реализации и метрики на трейне и тесте. В любой момент времени можно вывести метрики выбранной модели для дальнешей работы и оптимизации.\n",
    "\n",
    "   Согласно результатам таблицы исследования данных и работы моделей на представленной платформе (ЯндексПрактикум) оптимальный баланс значение метрики / время обучения показала модель градинентного бустинга CatBoost. Для простоты вывода метрик модели объявим функцию, которая на вход принимает переменную, в которой храянтся все метрики модели, собранные воедино, на выходе получим таблицу с метриками. Для дальнейшей работы с данной моделью следует реализовать ее отдельно и подобрать точные параметры на основе апрксимальных."
   ]
  }
 ],
 "metadata": {
  "ExecuteTimeLog": [
   {
    "duration": 1630,
    "start_time": "2022-12-23T20:58:33.488Z"
   },
   {
    "duration": 2251,
    "start_time": "2022-12-23T20:59:57.328Z"
   },
   {
    "duration": 44,
    "start_time": "2022-12-23T21:01:45.861Z"
   },
   {
    "duration": 72,
    "start_time": "2022-12-23T21:02:18.901Z"
   },
   {
    "duration": 159,
    "start_time": "2022-12-23T21:03:35.269Z"
   },
   {
    "duration": 209,
    "start_time": "2022-12-23T21:04:02.914Z"
   },
   {
    "duration": 101,
    "start_time": "2022-12-23T21:04:21.880Z"
   },
   {
    "duration": 144,
    "start_time": "2022-12-23T21:04:53.455Z"
   },
   {
    "duration": 38,
    "start_time": "2022-12-23T21:05:44.058Z"
   },
   {
    "duration": 95,
    "start_time": "2022-12-23T21:06:27.220Z"
   },
   {
    "duration": 4,
    "start_time": "2022-12-23T21:07:10.060Z"
   },
   {
    "duration": 1476,
    "start_time": "2022-12-23T21:07:25.978Z"
   },
   {
    "duration": 240,
    "start_time": "2022-12-23T21:07:39.319Z"
   },
   {
    "duration": 836,
    "start_time": "2022-12-23T21:08:14.406Z"
   },
   {
    "duration": 118,
    "start_time": "2022-12-23T21:09:44.079Z"
   },
   {
    "duration": 38,
    "start_time": "2022-12-23T21:10:27.354Z"
   },
   {
    "duration": 316,
    "start_time": "2022-12-23T21:11:10.452Z"
   },
   {
    "duration": 7,
    "start_time": "2022-12-23T21:12:19.060Z"
   },
   {
    "duration": 5,
    "start_time": "2022-12-23T21:12:51.823Z"
   },
   {
    "duration": 4842,
    "start_time": "2022-12-23T21:13:46.558Z"
   },
   {
    "duration": 4909,
    "start_time": "2022-12-23T21:14:06.574Z"
   },
   {
    "duration": 4,
    "start_time": "2022-12-23T21:14:50.983Z"
   },
   {
    "duration": 1373,
    "start_time": "2022-12-23T21:16:10.782Z"
   },
   {
    "duration": 4965,
    "start_time": "2022-12-23T21:16:43.355Z"
   },
   {
    "duration": 7,
    "start_time": "2022-12-23T21:17:10.107Z"
   },
   {
    "duration": 4893,
    "start_time": "2022-12-23T21:17:14.668Z"
   },
   {
    "duration": 4,
    "start_time": "2022-12-23T21:17:36.178Z"
   },
   {
    "duration": 1481,
    "start_time": "2022-12-23T21:17:40.774Z"
   },
   {
    "duration": 4865,
    "start_time": "2022-12-23T21:17:46.015Z"
   },
   {
    "duration": 2444,
    "start_time": "2022-12-23T21:41:13.963Z"
   },
   {
    "duration": 72,
    "start_time": "2022-12-24T06:31:16.198Z"
   },
   {
    "duration": 1712,
    "start_time": "2022-12-24T06:31:31.144Z"
   },
   {
    "duration": 2954,
    "start_time": "2022-12-24T06:31:32.858Z"
   },
   {
    "duration": 48,
    "start_time": "2022-12-24T06:31:48.579Z"
   },
   {
    "duration": 82,
    "start_time": "2022-12-24T06:31:53.015Z"
   },
   {
    "duration": 137,
    "start_time": "2022-12-24T06:31:59.626Z"
   },
   {
    "duration": 115,
    "start_time": "2022-12-24T06:32:03.514Z"
   },
   {
    "duration": 46,
    "start_time": "2022-12-24T06:32:07.367Z"
   },
   {
    "duration": 60,
    "start_time": "2022-12-24T06:32:11.405Z"
   },
   {
    "duration": 1849,
    "start_time": "2022-12-24T06:32:17.495Z"
   },
   {
    "duration": 800,
    "start_time": "2022-12-24T06:32:28.253Z"
   },
   {
    "duration": 160,
    "start_time": "2022-12-24T06:32:33.956Z"
   },
   {
    "duration": 40,
    "start_time": "2022-12-24T06:32:39.257Z"
   },
   {
    "duration": 322,
    "start_time": "2022-12-24T06:32:46.844Z"
   },
   {
    "duration": 1458,
    "start_time": "2022-12-24T06:33:39.102Z"
   },
   {
    "duration": 2200,
    "start_time": "2022-12-24T06:33:40.562Z"
   },
   {
    "duration": 52,
    "start_time": "2022-12-24T06:33:42.764Z"
   },
   {
    "duration": 97,
    "start_time": "2022-12-24T06:33:42.819Z"
   },
   {
    "duration": 146,
    "start_time": "2022-12-24T06:33:42.918Z"
   },
   {
    "duration": 131,
    "start_time": "2022-12-24T06:33:43.066Z"
   },
   {
    "duration": 179,
    "start_time": "2022-12-24T06:33:43.200Z"
   },
   {
    "duration": 159,
    "start_time": "2022-12-24T06:33:43.381Z"
   },
   {
    "duration": 38,
    "start_time": "2022-12-24T06:33:43.541Z"
   },
   {
    "duration": 73,
    "start_time": "2022-12-24T06:33:43.582Z"
   },
   {
    "duration": 1819,
    "start_time": "2022-12-24T06:33:43.657Z"
   },
   {
    "duration": 731,
    "start_time": "2022-12-24T06:33:45.478Z"
   },
   {
    "duration": 133,
    "start_time": "2022-12-24T06:33:46.211Z"
   },
   {
    "duration": 56,
    "start_time": "2022-12-24T06:33:46.346Z"
   },
   {
    "duration": 374,
    "start_time": "2022-12-24T06:33:46.405Z"
   },
   {
    "duration": 5,
    "start_time": "2022-12-24T06:33:46.780Z"
   },
   {
    "duration": 5178,
    "start_time": "2022-12-24T06:33:46.787Z"
   },
   {
    "duration": 47,
    "start_time": "2022-12-24T06:34:49.700Z"
   },
   {
    "duration": 1562,
    "start_time": "2022-12-24T06:36:31.783Z"
   },
   {
    "duration": 2126,
    "start_time": "2022-12-24T06:36:33.348Z"
   },
   {
    "duration": 47,
    "start_time": "2022-12-24T06:36:35.476Z"
   },
   {
    "duration": 96,
    "start_time": "2022-12-24T06:36:35.525Z"
   },
   {
    "duration": 152,
    "start_time": "2022-12-24T06:36:35.622Z"
   },
   {
    "duration": 129,
    "start_time": "2022-12-24T06:36:35.775Z"
   },
   {
    "duration": 204,
    "start_time": "2022-12-24T06:36:35.905Z"
   },
   {
    "duration": 180,
    "start_time": "2022-12-24T06:36:36.115Z"
   },
   {
    "duration": 55,
    "start_time": "2022-12-24T06:36:36.296Z"
   },
   {
    "duration": 75,
    "start_time": "2022-12-24T06:36:36.355Z"
   },
   {
    "duration": 1749,
    "start_time": "2022-12-24T06:36:36.432Z"
   },
   {
    "duration": 747,
    "start_time": "2022-12-24T06:36:38.183Z"
   },
   {
    "duration": 125,
    "start_time": "2022-12-24T06:36:38.932Z"
   },
   {
    "duration": 56,
    "start_time": "2022-12-24T06:36:39.059Z"
   },
   {
    "duration": 333,
    "start_time": "2022-12-24T06:36:39.117Z"
   },
   {
    "duration": 5,
    "start_time": "2022-12-24T06:36:39.452Z"
   },
   {
    "duration": 5192,
    "start_time": "2022-12-24T06:36:39.458Z"
   },
   {
    "duration": 1471,
    "start_time": "2022-12-24T06:47:29.744Z"
   },
   {
    "duration": 2186,
    "start_time": "2022-12-24T06:47:31.217Z"
   },
   {
    "duration": 46,
    "start_time": "2022-12-24T06:47:33.405Z"
   },
   {
    "duration": 100,
    "start_time": "2022-12-24T06:47:33.452Z"
   },
   {
    "duration": 166,
    "start_time": "2022-12-24T06:47:33.554Z"
   },
   {
    "duration": 142,
    "start_time": "2022-12-24T06:47:33.721Z"
   },
   {
    "duration": 209,
    "start_time": "2022-12-24T06:47:33.865Z"
   },
   {
    "duration": 172,
    "start_time": "2022-12-24T06:47:34.076Z"
   },
   {
    "duration": 39,
    "start_time": "2022-12-24T06:47:34.249Z"
   },
   {
    "duration": 73,
    "start_time": "2022-12-24T06:47:34.290Z"
   },
   {
    "duration": 1840,
    "start_time": "2022-12-24T06:47:34.365Z"
   },
   {
    "duration": 793,
    "start_time": "2022-12-24T06:47:36.207Z"
   },
   {
    "duration": 121,
    "start_time": "2022-12-24T06:47:37.001Z"
   },
   {
    "duration": 49,
    "start_time": "2022-12-24T06:47:37.125Z"
   },
   {
    "duration": 345,
    "start_time": "2022-12-24T06:47:37.176Z"
   },
   {
    "duration": 5,
    "start_time": "2022-12-24T06:47:37.524Z"
   },
   {
    "duration": 5225,
    "start_time": "2022-12-24T06:47:37.531Z"
   },
   {
    "duration": 1532,
    "start_time": "2022-12-24T06:48:01.443Z"
   },
   {
    "duration": 2162,
    "start_time": "2022-12-24T06:48:02.977Z"
   },
   {
    "duration": 47,
    "start_time": "2022-12-24T06:48:05.140Z"
   },
   {
    "duration": 99,
    "start_time": "2022-12-24T06:48:05.188Z"
   },
   {
    "duration": 153,
    "start_time": "2022-12-24T06:48:05.288Z"
   },
   {
    "duration": 131,
    "start_time": "2022-12-24T06:48:05.443Z"
   },
   {
    "duration": 196,
    "start_time": "2022-12-24T06:48:05.576Z"
   },
   {
    "duration": 159,
    "start_time": "2022-12-24T06:48:05.774Z"
   },
   {
    "duration": 40,
    "start_time": "2022-12-24T06:48:05.935Z"
   },
   {
    "duration": 79,
    "start_time": "2022-12-24T06:48:05.977Z"
   },
   {
    "duration": 1892,
    "start_time": "2022-12-24T06:48:06.058Z"
   },
   {
    "duration": 728,
    "start_time": "2022-12-24T06:48:07.952Z"
   },
   {
    "duration": 139,
    "start_time": "2022-12-24T06:48:08.682Z"
   },
   {
    "duration": 48,
    "start_time": "2022-12-24T06:48:08.823Z"
   },
   {
    "duration": 331,
    "start_time": "2022-12-24T06:48:08.873Z"
   },
   {
    "duration": 9,
    "start_time": "2022-12-24T06:48:09.206Z"
   },
   {
    "duration": 5129,
    "start_time": "2022-12-24T06:48:09.217Z"
   },
   {
    "duration": 1511,
    "start_time": "2022-12-24T06:48:39.762Z"
   },
   {
    "duration": 2217,
    "start_time": "2022-12-24T06:48:41.276Z"
   },
   {
    "duration": 53,
    "start_time": "2022-12-24T06:48:43.495Z"
   },
   {
    "duration": 105,
    "start_time": "2022-12-24T06:48:43.550Z"
   },
   {
    "duration": 170,
    "start_time": "2022-12-24T06:48:43.657Z"
   },
   {
    "duration": 137,
    "start_time": "2022-12-24T06:48:43.828Z"
   },
   {
    "duration": 206,
    "start_time": "2022-12-24T06:48:43.966Z"
   },
   {
    "duration": 164,
    "start_time": "2022-12-24T06:48:44.174Z"
   },
   {
    "duration": 40,
    "start_time": "2022-12-24T06:48:44.340Z"
   },
   {
    "duration": 75,
    "start_time": "2022-12-24T06:48:44.383Z"
   },
   {
    "duration": 1847,
    "start_time": "2022-12-24T06:48:44.460Z"
   },
   {
    "duration": 779,
    "start_time": "2022-12-24T06:48:46.309Z"
   },
   {
    "duration": 125,
    "start_time": "2022-12-24T06:48:47.090Z"
   },
   {
    "duration": 48,
    "start_time": "2022-12-24T06:48:47.216Z"
   },
   {
    "duration": 348,
    "start_time": "2022-12-24T06:48:47.266Z"
   },
   {
    "duration": 5,
    "start_time": "2022-12-24T06:48:47.616Z"
   },
   {
    "duration": 9933,
    "start_time": "2022-12-24T06:48:47.622Z"
   },
   {
    "duration": 684401,
    "start_time": "2022-12-24T06:48:57.556Z"
   },
   {
    "duration": 1277,
    "start_time": "2022-12-24T07:00:21.959Z"
   },
   {
    "duration": 1495,
    "start_time": "2022-12-24T07:13:21.852Z"
   },
   {
    "duration": 2441,
    "start_time": "2022-12-24T07:13:23.351Z"
   },
   {
    "duration": 55,
    "start_time": "2022-12-24T07:13:25.794Z"
   },
   {
    "duration": 91,
    "start_time": "2022-12-24T07:13:25.852Z"
   },
   {
    "duration": 157,
    "start_time": "2022-12-24T07:13:25.945Z"
   },
   {
    "duration": 139,
    "start_time": "2022-12-24T07:13:26.104Z"
   },
   {
    "duration": 232,
    "start_time": "2022-12-24T07:13:26.245Z"
   },
   {
    "duration": 157,
    "start_time": "2022-12-24T07:13:26.478Z"
   },
   {
    "duration": 41,
    "start_time": "2022-12-24T07:13:26.636Z"
   },
   {
    "duration": 75,
    "start_time": "2022-12-24T07:13:26.679Z"
   },
   {
    "duration": 1794,
    "start_time": "2022-12-24T07:13:26.755Z"
   },
   {
    "duration": 753,
    "start_time": "2022-12-24T07:13:28.551Z"
   },
   {
    "duration": 119,
    "start_time": "2022-12-24T07:13:29.306Z"
   },
   {
    "duration": 35,
    "start_time": "2022-12-24T07:13:29.427Z"
   },
   {
    "duration": 336,
    "start_time": "2022-12-24T07:13:29.463Z"
   },
   {
    "duration": 6,
    "start_time": "2022-12-24T07:13:29.800Z"
   },
   {
    "duration": 9800,
    "start_time": "2022-12-24T07:13:29.816Z"
   },
   {
    "duration": 683148,
    "start_time": "2022-12-24T07:13:39.618Z"
   },
   {
    "duration": 1150,
    "start_time": "2022-12-24T07:25:02.768Z"
   },
   {
    "duration": 1591,
    "start_time": "2022-12-24T07:45:32.701Z"
   },
   {
    "duration": 1435,
    "start_time": "2022-12-24T07:45:36.661Z"
   },
   {
    "duration": 2108,
    "start_time": "2022-12-24T07:45:38.098Z"
   },
   {
    "duration": 47,
    "start_time": "2022-12-24T07:45:40.207Z"
   },
   {
    "duration": 93,
    "start_time": "2022-12-24T07:45:40.256Z"
   },
   {
    "duration": 156,
    "start_time": "2022-12-24T07:45:40.351Z"
   },
   {
    "duration": 128,
    "start_time": "2022-12-24T07:45:40.508Z"
   },
   {
    "duration": 189,
    "start_time": "2022-12-24T07:45:40.638Z"
   },
   {
    "duration": 159,
    "start_time": "2022-12-24T07:45:40.829Z"
   },
   {
    "duration": 51,
    "start_time": "2022-12-24T07:45:40.989Z"
   },
   {
    "duration": 75,
    "start_time": "2022-12-24T07:45:41.042Z"
   },
   {
    "duration": 1824,
    "start_time": "2022-12-24T07:45:41.119Z"
   },
   {
    "duration": 744,
    "start_time": "2022-12-24T07:45:42.945Z"
   },
   {
    "duration": 125,
    "start_time": "2022-12-24T07:45:43.690Z"
   },
   {
    "duration": 51,
    "start_time": "2022-12-24T07:45:43.817Z"
   },
   {
    "duration": 361,
    "start_time": "2022-12-24T07:45:43.870Z"
   },
   {
    "duration": 5,
    "start_time": "2022-12-24T07:45:44.232Z"
   },
   {
    "duration": 9904,
    "start_time": "2022-12-24T07:45:44.239Z"
   },
   {
    "duration": 380528,
    "start_time": "2022-12-24T07:45:54.145Z"
   },
   {
    "duration": 1268,
    "start_time": "2022-12-24T07:52:14.675Z"
   },
   {
    "duration": 712300,
    "start_time": "2022-12-24T07:52:16.021Z"
   },
   {
    "duration": 335794,
    "start_time": "2022-12-24T08:04:08.323Z"
   },
   {
    "duration": 140236,
    "start_time": "2022-12-24T08:09:44.119Z"
   },
   {
    "duration": 11,
    "start_time": "2022-12-24T08:12:04.357Z"
   },
   {
    "duration": 16,
    "start_time": "2022-12-24T08:12:04.369Z"
   },
   {
    "duration": 4,
    "start_time": "2022-12-24T08:13:22.331Z"
   },
   {
    "duration": 4,
    "start_time": "2022-12-24T08:21:33.588Z"
   },
   {
    "duration": 3,
    "start_time": "2022-12-24T08:22:51.700Z"
   },
   {
    "duration": 1520,
    "start_time": "2022-12-24T08:23:01.458Z"
   },
   {
    "duration": 2507,
    "start_time": "2022-12-24T08:23:02.979Z"
   },
   {
    "duration": 48,
    "start_time": "2022-12-24T08:23:05.487Z"
   },
   {
    "duration": 92,
    "start_time": "2022-12-24T08:23:05.537Z"
   },
   {
    "duration": 157,
    "start_time": "2022-12-24T08:23:05.631Z"
   },
   {
    "duration": 128,
    "start_time": "2022-12-24T08:23:05.790Z"
   },
   {
    "duration": 176,
    "start_time": "2022-12-24T08:23:05.919Z"
   },
   {
    "duration": 157,
    "start_time": "2022-12-24T08:23:06.096Z"
   },
   {
    "duration": 47,
    "start_time": "2022-12-24T08:23:06.255Z"
   },
   {
    "duration": 70,
    "start_time": "2022-12-24T08:23:06.317Z"
   },
   {
    "duration": 1802,
    "start_time": "2022-12-24T08:23:06.389Z"
   },
   {
    "duration": 754,
    "start_time": "2022-12-24T08:23:08.193Z"
   },
   {
    "duration": 128,
    "start_time": "2022-12-24T08:23:08.949Z"
   },
   {
    "duration": 56,
    "start_time": "2022-12-24T08:23:09.079Z"
   },
   {
    "duration": 324,
    "start_time": "2022-12-24T08:23:09.136Z"
   },
   {
    "duration": 5,
    "start_time": "2022-12-24T08:23:09.462Z"
   },
   {
    "duration": 5768,
    "start_time": "2022-12-24T08:23:09.468Z"
   },
   {
    "duration": 372857,
    "start_time": "2022-12-24T08:23:15.238Z"
   },
   {
    "duration": 1220,
    "start_time": "2022-12-24T08:29:28.097Z"
   },
   {
    "duration": 30211,
    "start_time": "2022-12-24T08:29:29.319Z"
   },
   {
    "duration": 257205,
    "start_time": "2022-12-24T08:29:59.532Z"
   },
   {
    "duration": 136169,
    "start_time": "2022-12-24T08:34:16.815Z"
   },
   {
    "duration": 11,
    "start_time": "2022-12-24T08:36:32.986Z"
   },
   {
    "duration": 17,
    "start_time": "2022-12-24T08:36:32.999Z"
   },
   {
    "duration": 8,
    "start_time": "2022-12-24T08:36:33.017Z"
   },
   {
    "duration": 6,
    "start_time": "2022-12-24T08:39:17.563Z"
   },
   {
    "duration": 5750,
    "start_time": "2022-12-24T08:39:23.162Z"
   },
   {
    "duration": 5645,
    "start_time": "2022-12-24T08:39:39.303Z"
   },
   {
    "duration": 9,
    "start_time": "2022-12-24T08:39:54.504Z"
   },
   {
    "duration": 4,
    "start_time": "2022-12-24T08:40:17.750Z"
   },
   {
    "duration": 12,
    "start_time": "2022-12-24T08:40:18.633Z"
   },
   {
    "duration": 5,
    "start_time": "2022-12-24T08:40:33.437Z"
   },
   {
    "duration": 5660,
    "start_time": "2022-12-24T08:40:44.307Z"
   },
   {
    "duration": 17,
    "start_time": "2022-12-24T08:40:57.888Z"
   },
   {
    "duration": 3,
    "start_time": "2022-12-24T08:41:10.600Z"
   },
   {
    "duration": 12,
    "start_time": "2022-12-24T08:41:11.193Z"
   },
   {
    "duration": 3,
    "start_time": "2022-12-24T08:41:17.913Z"
   },
   {
    "duration": 12,
    "start_time": "2022-12-24T08:41:18.467Z"
   },
   {
    "duration": 3,
    "start_time": "2022-12-24T08:41:36.560Z"
   },
   {
    "duration": 7,
    "start_time": "2022-12-24T08:41:37.033Z"
   },
   {
    "duration": 3,
    "start_time": "2022-12-24T08:42:46.984Z"
   },
   {
    "duration": 7,
    "start_time": "2022-12-24T08:42:47.753Z"
   },
   {
    "duration": 4,
    "start_time": "2022-12-24T08:43:28.436Z"
   },
   {
    "duration": 7,
    "start_time": "2022-12-24T08:43:29.426Z"
   },
   {
    "duration": 3,
    "start_time": "2022-12-24T08:49:26.275Z"
   },
   {
    "duration": 1471,
    "start_time": "2022-12-24T08:50:16.718Z"
   },
   {
    "duration": 2682,
    "start_time": "2022-12-24T08:50:18.191Z"
   },
   {
    "duration": 49,
    "start_time": "2022-12-24T08:50:20.875Z"
   },
   {
    "duration": 97,
    "start_time": "2022-12-24T08:50:20.925Z"
   },
   {
    "duration": 157,
    "start_time": "2022-12-24T08:50:21.024Z"
   },
   {
    "duration": 135,
    "start_time": "2022-12-24T08:50:21.182Z"
   },
   {
    "duration": 180,
    "start_time": "2022-12-24T08:50:21.319Z"
   },
   {
    "duration": 164,
    "start_time": "2022-12-24T08:50:21.501Z"
   },
   {
    "duration": 41,
    "start_time": "2022-12-24T08:50:21.667Z"
   },
   {
    "duration": 60,
    "start_time": "2022-12-24T08:50:21.716Z"
   },
   {
    "duration": 1813,
    "start_time": "2022-12-24T08:50:21.778Z"
   },
   {
    "duration": 810,
    "start_time": "2022-12-24T08:50:23.593Z"
   },
   {
    "duration": 123,
    "start_time": "2022-12-24T08:50:24.406Z"
   },
   {
    "duration": 50,
    "start_time": "2022-12-24T08:50:24.531Z"
   },
   {
    "duration": 357,
    "start_time": "2022-12-24T08:50:24.583Z"
   },
   {
    "duration": 5,
    "start_time": "2022-12-24T08:50:24.942Z"
   },
   {
    "duration": 5979,
    "start_time": "2022-12-24T08:50:24.948Z"
   },
   {
    "duration": 1417,
    "start_time": "2022-12-24T08:52:09.236Z"
   },
   {
    "duration": 2143,
    "start_time": "2022-12-24T08:52:10.655Z"
   },
   {
    "duration": 50,
    "start_time": "2022-12-24T08:52:12.800Z"
   },
   {
    "duration": 95,
    "start_time": "2022-12-24T08:52:12.852Z"
   },
   {
    "duration": 140,
    "start_time": "2022-12-24T08:52:12.949Z"
   },
   {
    "duration": 118,
    "start_time": "2022-12-24T08:52:13.090Z"
   },
   {
    "duration": 168,
    "start_time": "2022-12-24T08:52:13.215Z"
   },
   {
    "duration": 143,
    "start_time": "2022-12-24T08:52:13.385Z"
   },
   {
    "duration": 39,
    "start_time": "2022-12-24T08:52:13.529Z"
   },
   {
    "duration": 77,
    "start_time": "2022-12-24T08:52:13.569Z"
   },
   {
    "duration": 1788,
    "start_time": "2022-12-24T08:52:13.647Z"
   },
   {
    "duration": 746,
    "start_time": "2022-12-24T08:52:15.436Z"
   },
   {
    "duration": 150,
    "start_time": "2022-12-24T08:52:16.183Z"
   },
   {
    "duration": 60,
    "start_time": "2022-12-24T08:52:16.337Z"
   },
   {
    "duration": 349,
    "start_time": "2022-12-24T08:52:16.399Z"
   },
   {
    "duration": 5,
    "start_time": "2022-12-24T08:52:16.750Z"
   },
   {
    "duration": 5764,
    "start_time": "2022-12-24T08:52:16.757Z"
   },
   {
    "duration": 369112,
    "start_time": "2022-12-24T08:52:22.523Z"
   },
   {
    "duration": 1182,
    "start_time": "2022-12-24T08:58:31.637Z"
   },
   {
    "duration": 37809,
    "start_time": "2022-12-24T08:58:32.821Z"
   },
   {
    "duration": 357598,
    "start_time": "2022-12-24T08:59:10.632Z"
   },
   {
    "duration": 140472,
    "start_time": "2022-12-24T09:05:08.232Z"
   },
   {
    "duration": 16,
    "start_time": "2022-12-24T09:07:28.706Z"
   },
   {
    "duration": 10,
    "start_time": "2022-12-24T09:07:28.723Z"
   },
   {
    "duration": 5,
    "start_time": "2022-12-24T09:07:28.734Z"
   },
   {
    "duration": 7,
    "start_time": "2022-12-24T09:08:00.619Z"
   },
   {
    "duration": 8,
    "start_time": "2022-12-24T09:15:06.435Z"
   },
   {
    "duration": 6,
    "start_time": "2022-12-24T09:15:41.642Z"
   },
   {
    "duration": 8,
    "start_time": "2022-12-24T09:15:54.309Z"
   },
   {
    "duration": 9,
    "start_time": "2022-12-24T09:16:02.311Z"
   },
   {
    "duration": 13,
    "start_time": "2022-12-24T09:16:12.310Z"
   },
   {
    "duration": 12,
    "start_time": "2022-12-24T09:16:31.109Z"
   },
   {
    "duration": 1603,
    "start_time": "2022-12-24T09:17:05.160Z"
   },
   {
    "duration": 2545,
    "start_time": "2022-12-24T09:17:06.765Z"
   },
   {
    "duration": 45,
    "start_time": "2022-12-24T09:17:09.312Z"
   },
   {
    "duration": 95,
    "start_time": "2022-12-24T09:17:09.359Z"
   },
   {
    "duration": 144,
    "start_time": "2022-12-24T09:17:09.455Z"
   },
   {
    "duration": 125,
    "start_time": "2022-12-24T09:17:09.600Z"
   },
   {
    "duration": 191,
    "start_time": "2022-12-24T09:17:09.726Z"
   },
   {
    "duration": 169,
    "start_time": "2022-12-24T09:17:09.918Z"
   },
   {
    "duration": 45,
    "start_time": "2022-12-24T09:17:10.089Z"
   },
   {
    "duration": 60,
    "start_time": "2022-12-24T09:17:10.137Z"
   },
   {
    "duration": 1789,
    "start_time": "2022-12-24T09:17:10.198Z"
   },
   {
    "duration": 800,
    "start_time": "2022-12-24T09:17:11.989Z"
   },
   {
    "duration": 127,
    "start_time": "2022-12-24T09:17:12.791Z"
   },
   {
    "duration": 47,
    "start_time": "2022-12-24T09:17:12.920Z"
   },
   {
    "duration": 332,
    "start_time": "2022-12-24T09:17:12.969Z"
   },
   {
    "duration": 5,
    "start_time": "2022-12-24T09:17:13.303Z"
   },
   {
    "duration": 5908,
    "start_time": "2022-12-24T09:17:13.315Z"
   },
   {
    "duration": 376525,
    "start_time": "2022-12-24T09:17:19.224Z"
   },
   {
    "duration": 1183,
    "start_time": "2022-12-24T09:23:35.750Z"
   },
   {
    "duration": 38787,
    "start_time": "2022-12-24T09:23:36.935Z"
   },
   {
    "duration": 273903,
    "start_time": "2022-12-24T09:24:15.724Z"
   },
   {
    "duration": 137481,
    "start_time": "2022-12-24T09:28:49.629Z"
   },
   {
    "duration": 11,
    "start_time": "2022-12-24T09:31:07.111Z"
   },
   {
    "duration": 10,
    "start_time": "2022-12-24T09:31:07.124Z"
   },
   {
    "duration": 15,
    "start_time": "2022-12-24T09:31:07.136Z"
   },
   {
    "duration": 1432,
    "start_time": "2022-12-24T23:29:28.239Z"
   },
   {
    "duration": 1756,
    "start_time": "2022-12-24T23:29:29.673Z"
   },
   {
    "duration": 44,
    "start_time": "2022-12-24T23:29:31.430Z"
   },
   {
    "duration": 112,
    "start_time": "2022-12-24T23:29:31.476Z"
   },
   {
    "duration": 136,
    "start_time": "2022-12-24T23:29:31.590Z"
   },
   {
    "duration": 111,
    "start_time": "2022-12-24T23:29:31.728Z"
   },
   {
    "duration": 163,
    "start_time": "2022-12-24T23:29:31.841Z"
   },
   {
    "duration": 143,
    "start_time": "2022-12-24T23:29:32.006Z"
   },
   {
    "duration": 39,
    "start_time": "2022-12-24T23:29:32.150Z"
   },
   {
    "duration": 71,
    "start_time": "2022-12-24T23:29:32.191Z"
   },
   {
    "duration": 2051,
    "start_time": "2022-12-24T23:29:32.263Z"
   },
   {
    "duration": 709,
    "start_time": "2022-12-24T23:29:34.315Z"
   },
   {
    "duration": 115,
    "start_time": "2022-12-24T23:29:35.026Z"
   },
   {
    "duration": 57,
    "start_time": "2022-12-24T23:29:35.143Z"
   },
   {
    "duration": 329,
    "start_time": "2022-12-24T23:29:35.202Z"
   },
   {
    "duration": 4,
    "start_time": "2022-12-24T23:29:35.533Z"
   },
   {
    "duration": 5273,
    "start_time": "2022-12-24T23:29:35.538Z"
   },
   {
    "duration": 345228,
    "start_time": "2022-12-24T23:29:40.813Z"
   },
   {
    "duration": 1281,
    "start_time": "2022-12-24T23:35:26.043Z"
   },
   {
    "duration": 26904,
    "start_time": "2022-12-24T23:35:27.326Z"
   },
   {
    "duration": 207697,
    "start_time": "2022-12-24T23:35:54.232Z"
   },
   {
    "duration": 125848,
    "start_time": "2022-12-24T23:39:21.930Z"
   },
   {
    "duration": 10,
    "start_time": "2022-12-24T23:41:27.780Z"
   },
   {
    "duration": 10,
    "start_time": "2022-12-24T23:41:27.791Z"
   },
   {
    "duration": 9,
    "start_time": "2022-12-24T23:41:27.802Z"
   },
   {
    "duration": 1663,
    "start_time": "2022-12-25T18:21:54.340Z"
   },
   {
    "duration": 90,
    "start_time": "2022-12-25T18:25:51.556Z"
   },
   {
    "duration": 27,
    "start_time": "2022-12-25T18:25:53.330Z"
   },
   {
    "duration": 1735,
    "start_time": "2022-12-25T18:26:08.382Z"
   },
   {
    "duration": 1044,
    "start_time": "2022-12-25T18:26:10.670Z"
   },
   {
    "duration": 52,
    "start_time": "2022-12-25T18:39:27.497Z"
   },
   {
    "duration": 1503,
    "start_time": "2022-12-25T18:39:32.766Z"
   },
   {
    "duration": 1126,
    "start_time": "2022-12-25T18:39:34.270Z"
   },
   {
    "duration": 954,
    "start_time": "2022-12-25T18:39:35.398Z"
   },
   {
    "duration": 50,
    "start_time": "2022-12-25T18:39:36.354Z"
   },
   {
    "duration": 79,
    "start_time": "2022-12-25T18:39:36.407Z"
   },
   {
    "duration": 158,
    "start_time": "2022-12-25T18:39:36.488Z"
   },
   {
    "duration": 135,
    "start_time": "2022-12-25T18:39:36.647Z"
   },
   {
    "duration": 201,
    "start_time": "2022-12-25T18:39:36.784Z"
   },
   {
    "duration": 39,
    "start_time": "2022-12-25T18:39:36.987Z"
   },
   {
    "duration": 163,
    "start_time": "2022-12-25T18:39:37.028Z"
   },
   {
    "duration": 61,
    "start_time": "2022-12-25T18:39:37.193Z"
   },
   {
    "duration": 1860,
    "start_time": "2022-12-25T18:39:37.255Z"
   },
   {
    "duration": 766,
    "start_time": "2022-12-25T18:39:39.117Z"
   },
   {
    "duration": 131,
    "start_time": "2022-12-25T18:39:42.878Z"
   },
   {
    "duration": 1550,
    "start_time": "2022-12-25T18:45:19.991Z"
   },
   {
    "duration": 1444,
    "start_time": "2022-12-25T18:45:21.543Z"
   },
   {
    "duration": 935,
    "start_time": "2022-12-25T18:45:22.988Z"
   },
   {
    "duration": 55,
    "start_time": "2022-12-25T18:45:23.925Z"
   },
   {
    "duration": 83,
    "start_time": "2022-12-25T18:45:23.983Z"
   },
   {
    "duration": 154,
    "start_time": "2022-12-25T18:45:24.068Z"
   },
   {
    "duration": 129,
    "start_time": "2022-12-25T18:45:24.224Z"
   },
   {
    "duration": 217,
    "start_time": "2022-12-25T18:45:24.355Z"
   },
   {
    "duration": 40,
    "start_time": "2022-12-25T18:45:24.577Z"
   },
   {
    "duration": 150,
    "start_time": "2022-12-25T18:45:29.978Z"
   },
   {
    "duration": 82,
    "start_time": "2022-12-25T18:45:32.970Z"
   },
   {
    "duration": 12,
    "start_time": "2022-12-25T18:45:40.211Z"
   },
   {
    "duration": 62,
    "start_time": "2022-12-25T18:45:44.403Z"
   },
   {
    "duration": 1825,
    "start_time": "2022-12-25T18:46:19.654Z"
   },
   {
    "duration": 810,
    "start_time": "2022-12-25T18:46:33.115Z"
   },
   {
    "duration": 144,
    "start_time": "2022-12-25T18:48:01.972Z"
   },
   {
    "duration": 40,
    "start_time": "2022-12-25T18:48:12.601Z"
   },
   {
    "duration": 132,
    "start_time": "2022-12-25T18:51:25.410Z"
   },
   {
    "duration": 25,
    "start_time": "2022-12-25T18:52:11.315Z"
   },
   {
    "duration": 26,
    "start_time": "2022-12-25T18:54:32.129Z"
   },
   {
    "duration": 2150,
    "start_time": "2022-12-25T18:56:54.648Z"
   },
   {
    "duration": 2432,
    "start_time": "2022-12-25T18:57:31.449Z"
   },
   {
    "duration": 2507,
    "start_time": "2022-12-25T18:58:18.471Z"
   },
   {
    "duration": 2205,
    "start_time": "2022-12-25T18:58:40.839Z"
   },
   {
    "duration": 1991,
    "start_time": "2022-12-25T18:58:46.773Z"
   },
   {
    "duration": 1974,
    "start_time": "2022-12-25T18:58:53.986Z"
   },
   {
    "duration": 1967,
    "start_time": "2022-12-25T18:58:59.467Z"
   },
   {
    "duration": 6,
    "start_time": "2022-12-25T18:59:21.246Z"
   },
   {
    "duration": 8035,
    "start_time": "2022-12-25T19:00:11.611Z"
   },
   {
    "duration": 1728,
    "start_time": "2022-12-25T19:10:37.963Z"
   },
   {
    "duration": 1454,
    "start_time": "2022-12-25T19:10:42.754Z"
   },
   {
    "duration": 982,
    "start_time": "2022-12-25T19:10:44.210Z"
   },
   {
    "duration": 48,
    "start_time": "2022-12-25T19:10:49.741Z"
   },
   {
    "duration": 966,
    "start_time": "2022-12-25T19:10:52.146Z"
   },
   {
    "duration": 41,
    "start_time": "2022-12-25T19:11:07.166Z"
   },
   {
    "duration": 124,
    "start_time": "2022-12-25T19:11:13.209Z"
   },
   {
    "duration": 20,
    "start_time": "2022-12-25T19:11:15.859Z"
   },
   {
    "duration": 1537,
    "start_time": "2022-12-25T19:11:35.785Z"
   },
   {
    "duration": 1446,
    "start_time": "2022-12-25T19:11:37.324Z"
   },
   {
    "duration": 1005,
    "start_time": "2022-12-25T19:11:38.772Z"
   },
   {
    "duration": 50,
    "start_time": "2022-12-25T19:11:42.240Z"
   },
   {
    "duration": 133,
    "start_time": "2022-12-25T19:15:46.301Z"
   },
   {
    "duration": 1540,
    "start_time": "2022-12-25T19:15:58.734Z"
   },
   {
    "duration": 1250,
    "start_time": "2022-12-25T19:16:00.276Z"
   },
   {
    "duration": 972,
    "start_time": "2022-12-25T19:16:01.529Z"
   },
   {
    "duration": 50,
    "start_time": "2022-12-25T19:16:05.667Z"
   },
   {
    "duration": 73,
    "start_time": "2022-12-25T19:16:10.527Z"
   },
   {
    "duration": 151,
    "start_time": "2022-12-25T19:16:21.128Z"
   },
   {
    "duration": 133,
    "start_time": "2022-12-25T19:16:24.720Z"
   },
   {
    "duration": 206,
    "start_time": "2022-12-25T19:16:27.116Z"
   },
   {
    "duration": 41,
    "start_time": "2022-12-25T19:16:29.545Z"
   },
   {
    "duration": 158,
    "start_time": "2022-12-25T19:16:34.686Z"
   },
   {
    "duration": 92,
    "start_time": "2022-12-25T19:16:37.990Z"
   },
   {
    "duration": 2021,
    "start_time": "2022-12-25T19:17:06.791Z"
   },
   {
    "duration": 864,
    "start_time": "2022-12-25T19:17:28.080Z"
   },
   {
    "duration": 150,
    "start_time": "2022-12-25T19:17:48.689Z"
   },
   {
    "duration": 64,
    "start_time": "2022-12-25T19:18:30.812Z"
   },
   {
    "duration": 1870,
    "start_time": "2022-12-25T19:18:57.372Z"
   },
   {
    "duration": 5,
    "start_time": "2022-12-25T19:19:51.912Z"
   },
   {
    "duration": 7461,
    "start_time": "2022-12-25T19:20:04.072Z"
   },
   {
    "duration": 674452,
    "start_time": "2022-12-25T19:20:31.591Z"
   },
   {
    "duration": 6,
    "start_time": "2022-12-25T19:31:56.107Z"
   },
   {
    "duration": 7320,
    "start_time": "2022-12-25T19:32:00.241Z"
   },
   {
    "duration": 7482,
    "start_time": "2022-12-25T19:32:36.901Z"
   },
   {
    "duration": 1463077,
    "start_time": "2022-12-25T19:33:04.007Z"
   },
   {
    "duration": 5,
    "start_time": "2022-12-25T19:57:27.107Z"
   },
   {
    "duration": 4,
    "start_time": "2022-12-25T19:57:39.520Z"
   },
   {
    "duration": 129834,
    "start_time": "2022-12-25T19:58:11.149Z"
   },
   {
    "duration": 6,
    "start_time": "2022-12-25T20:00:58.318Z"
   },
   {
    "duration": 4,
    "start_time": "2022-12-25T20:01:19.354Z"
   },
   {
    "duration": 5,
    "start_time": "2022-12-25T20:01:33.690Z"
   },
   {
    "duration": 11,
    "start_time": "2022-12-25T20:11:04.994Z"
   },
   {
    "duration": 14,
    "start_time": "2022-12-25T20:11:17.088Z"
   },
   {
    "duration": 7659,
    "start_time": "2022-12-25T20:11:32.387Z"
   },
   {
    "duration": 4,
    "start_time": "2022-12-25T20:11:49.774Z"
   },
   {
    "duration": 15,
    "start_time": "2022-12-25T20:12:19.158Z"
   },
   {
    "duration": 12,
    "start_time": "2022-12-25T20:12:32.216Z"
   },
   {
    "duration": 162517,
    "start_time": "2022-12-25T20:12:43.662Z"
   },
   {
    "duration": 4,
    "start_time": "2022-12-25T20:16:53.624Z"
   },
   {
    "duration": 28542,
    "start_time": "2022-12-25T20:47:29.267Z"
   },
   {
    "duration": 8,
    "start_time": "2022-12-25T20:48:52.696Z"
   },
   {
    "duration": 8656,
    "start_time": "2022-12-25T20:49:03.068Z"
   },
   {
    "duration": 5,
    "start_time": "2022-12-25T20:49:16.800Z"
   },
   {
    "duration": 1759,
    "start_time": "2022-12-25T20:50:10.824Z"
   },
   {
    "duration": 1640,
    "start_time": "2022-12-25T20:50:12.585Z"
   },
   {
    "duration": 1092,
    "start_time": "2022-12-25T20:50:14.227Z"
   },
   {
    "duration": 60,
    "start_time": "2022-12-25T20:50:15.327Z"
   },
   {
    "duration": 121,
    "start_time": "2022-12-25T20:50:15.394Z"
   },
   {
    "duration": 180,
    "start_time": "2022-12-25T20:50:15.517Z"
   },
   {
    "duration": 165,
    "start_time": "2022-12-25T20:50:15.699Z"
   },
   {
    "duration": 238,
    "start_time": "2022-12-25T20:50:15.866Z"
   },
   {
    "duration": 46,
    "start_time": "2022-12-25T20:50:16.106Z"
   },
   {
    "duration": 239,
    "start_time": "2022-12-25T20:50:16.155Z"
   },
   {
    "duration": 101,
    "start_time": "2022-12-25T20:50:16.396Z"
   },
   {
    "duration": 2530,
    "start_time": "2022-12-25T20:50:16.499Z"
   },
   {
    "duration": 919,
    "start_time": "2022-12-25T20:50:19.032Z"
   },
   {
    "duration": 172,
    "start_time": "2022-12-25T20:50:19.952Z"
   },
   {
    "duration": 53,
    "start_time": "2022-12-25T20:50:20.126Z"
   },
   {
    "duration": 1937,
    "start_time": "2022-12-25T20:50:20.183Z"
   },
   {
    "duration": 6,
    "start_time": "2022-12-25T20:50:22.122Z"
   },
   {
    "duration": 8220,
    "start_time": "2022-12-25T20:50:25.452Z"
   },
   {
    "duration": 11,
    "start_time": "2022-12-25T20:50:35.676Z"
   },
   {
    "duration": 1700,
    "start_time": "2022-12-25T21:09:26.300Z"
   },
   {
    "duration": 1287,
    "start_time": "2022-12-25T21:09:28.002Z"
   },
   {
    "duration": 978,
    "start_time": "2022-12-25T21:09:29.296Z"
   },
   {
    "duration": 54,
    "start_time": "2022-12-25T21:09:30.278Z"
   },
   {
    "duration": 90,
    "start_time": "2022-12-25T21:09:30.333Z"
   },
   {
    "duration": 183,
    "start_time": "2022-12-25T21:09:30.425Z"
   },
   {
    "duration": 144,
    "start_time": "2022-12-25T21:09:30.610Z"
   },
   {
    "duration": 235,
    "start_time": "2022-12-25T21:09:30.756Z"
   },
   {
    "duration": 46,
    "start_time": "2022-12-25T21:09:30.996Z"
   },
   {
    "duration": 173,
    "start_time": "2022-12-25T21:09:31.045Z"
   },
   {
    "duration": 97,
    "start_time": "2022-12-25T21:09:31.220Z"
   },
   {
    "duration": 2053,
    "start_time": "2022-12-25T21:09:31.319Z"
   },
   {
    "duration": 853,
    "start_time": "2022-12-25T21:09:33.379Z"
   },
   {
    "duration": 166,
    "start_time": "2022-12-25T21:09:34.234Z"
   },
   {
    "duration": 39,
    "start_time": "2022-12-25T21:09:34.402Z"
   },
   {
    "duration": 1886,
    "start_time": "2022-12-25T21:09:34.444Z"
   },
   {
    "duration": 6,
    "start_time": "2022-12-25T21:09:36.332Z"
   },
   {
    "duration": 8117,
    "start_time": "2022-12-25T21:09:41.524Z"
   },
   {
    "duration": 8,
    "start_time": "2022-12-25T21:09:54.273Z"
   },
   {
    "duration": 258662,
    "start_time": "2022-12-25T21:10:04.694Z"
   },
   {
    "duration": 109915,
    "start_time": "2022-12-25T21:14:41.791Z"
   },
   {
    "duration": 6475,
    "start_time": "2022-12-25T21:16:33.742Z"
   },
   {
    "duration": 4373,
    "start_time": "2022-12-25T21:17:09.550Z"
   },
   {
    "duration": 1052611,
    "start_time": "2022-12-25T21:17:56.768Z"
   },
   {
    "duration": 317337,
    "start_time": "2022-12-25T21:36:07.666Z"
   },
   {
    "duration": 213016,
    "start_time": "2022-12-25T21:41:28.094Z"
   },
   {
    "duration": 137461,
    "start_time": "2022-12-25T21:45:25.422Z"
   },
   {
    "duration": 4,
    "start_time": "2022-12-25T21:48:22.713Z"
   },
   {
    "duration": 6900,
    "start_time": "2022-12-25T21:55:08.765Z"
   },
   {
    "duration": 1599,
    "start_time": "2022-12-25T21:56:20.600Z"
   },
   {
    "duration": 1631,
    "start_time": "2022-12-25T21:56:22.201Z"
   },
   {
    "duration": 977,
    "start_time": "2022-12-25T21:56:23.834Z"
   },
   {
    "duration": 50,
    "start_time": "2022-12-25T21:56:24.813Z"
   },
   {
    "duration": 81,
    "start_time": "2022-12-25T21:56:24.866Z"
   },
   {
    "duration": 174,
    "start_time": "2022-12-25T21:56:24.949Z"
   },
   {
    "duration": 129,
    "start_time": "2022-12-25T21:56:25.125Z"
   },
   {
    "duration": 202,
    "start_time": "2022-12-25T21:56:25.255Z"
   },
   {
    "duration": 48,
    "start_time": "2022-12-25T21:56:25.458Z"
   },
   {
    "duration": 175,
    "start_time": "2022-12-25T21:56:25.507Z"
   },
   {
    "duration": 115,
    "start_time": "2022-12-25T21:56:25.684Z"
   },
   {
    "duration": 1879,
    "start_time": "2022-12-25T21:56:25.801Z"
   },
   {
    "duration": 869,
    "start_time": "2022-12-25T21:56:27.682Z"
   },
   {
    "duration": 159,
    "start_time": "2022-12-25T21:56:28.554Z"
   },
   {
    "duration": 41,
    "start_time": "2022-12-25T21:56:28.715Z"
   },
   {
    "duration": 1956,
    "start_time": "2022-12-25T21:56:50.173Z"
   },
   {
    "duration": 8,
    "start_time": "2022-12-25T21:56:56.890Z"
   },
   {
    "duration": 7443,
    "start_time": "2022-12-25T21:57:01.901Z"
   },
   {
    "duration": 4,
    "start_time": "2022-12-25T21:57:13.088Z"
   },
   {
    "duration": 144983,
    "start_time": "2022-12-25T21:57:17.801Z"
   },
   {
    "duration": 93,
    "start_time": "2022-12-25T21:59:42.786Z"
   },
   {
    "duration": 5,
    "start_time": "2022-12-25T21:59:45.726Z"
   },
   {
    "duration": 225453,
    "start_time": "2022-12-25T22:04:54.729Z"
   },
   {
    "duration": 4,
    "start_time": "2022-12-25T22:10:50.287Z"
   },
   {
    "duration": 2687532,
    "start_time": "2022-12-25T22:10:57.883Z"
   },
   {
    "duration": 7,
    "start_time": "2022-12-25T22:55:45.422Z"
   },
   {
    "duration": 5,
    "start_time": "2022-12-25T22:56:45.869Z"
   },
   {
    "duration": 5,
    "start_time": "2022-12-25T22:56:58.236Z"
   },
   {
    "duration": 4,
    "start_time": "2022-12-25T22:57:03.022Z"
   },
   {
    "duration": 7,
    "start_time": "2022-12-25T22:57:55.957Z"
   },
   {
    "duration": 1013664,
    "start_time": "2022-12-25T22:58:03.052Z"
   },
   {
    "duration": 1568,
    "start_time": "2022-12-26T04:11:34.508Z"
   },
   {
    "duration": 1268,
    "start_time": "2022-12-26T04:11:36.078Z"
   },
   {
    "duration": 892,
    "start_time": "2022-12-26T04:11:37.347Z"
   },
   {
    "duration": 43,
    "start_time": "2022-12-26T04:11:38.241Z"
   },
   {
    "duration": 89,
    "start_time": "2022-12-26T04:11:38.286Z"
   },
   {
    "duration": 133,
    "start_time": "2022-12-26T04:11:38.376Z"
   },
   {
    "duration": 113,
    "start_time": "2022-12-26T04:11:38.510Z"
   },
   {
    "duration": 168,
    "start_time": "2022-12-26T04:11:38.625Z"
   },
   {
    "duration": 41,
    "start_time": "2022-12-26T04:11:38.795Z"
   },
   {
    "duration": 132,
    "start_time": "2022-12-26T04:11:38.838Z"
   },
   {
    "duration": 84,
    "start_time": "2022-12-26T04:11:38.972Z"
   },
   {
    "duration": 1624,
    "start_time": "2022-12-26T04:11:39.058Z"
   },
   {
    "duration": 789,
    "start_time": "2022-12-26T04:11:40.683Z"
   },
   {
    "duration": 147,
    "start_time": "2022-12-26T04:11:41.474Z"
   },
   {
    "duration": 28,
    "start_time": "2022-12-26T04:11:41.623Z"
   },
   {
    "duration": 132,
    "start_time": "2022-12-26T04:11:41.653Z"
   },
   {
    "duration": 0,
    "start_time": "2022-12-26T04:11:41.787Z"
   },
   {
    "duration": 0,
    "start_time": "2022-12-26T04:11:41.788Z"
   },
   {
    "duration": 0,
    "start_time": "2022-12-26T04:11:41.789Z"
   },
   {
    "duration": 0,
    "start_time": "2022-12-26T04:11:41.790Z"
   },
   {
    "duration": 0,
    "start_time": "2022-12-26T04:11:41.791Z"
   },
   {
    "duration": 0,
    "start_time": "2022-12-26T04:11:41.792Z"
   },
   {
    "duration": 0,
    "start_time": "2022-12-26T04:11:41.792Z"
   },
   {
    "duration": 0,
    "start_time": "2022-12-26T04:11:41.793Z"
   },
   {
    "duration": 0,
    "start_time": "2022-12-26T04:11:41.794Z"
   },
   {
    "duration": 0,
    "start_time": "2022-12-26T04:11:41.795Z"
   },
   {
    "duration": 1355,
    "start_time": "2022-12-26T04:12:53.574Z"
   },
   {
    "duration": 1344,
    "start_time": "2022-12-26T04:12:54.930Z"
   },
   {
    "duration": 882,
    "start_time": "2022-12-26T04:12:56.276Z"
   },
   {
    "duration": 42,
    "start_time": "2022-12-26T04:12:57.160Z"
   },
   {
    "duration": 90,
    "start_time": "2022-12-26T04:12:57.203Z"
   },
   {
    "duration": 133,
    "start_time": "2022-12-26T04:12:57.294Z"
   },
   {
    "duration": 110,
    "start_time": "2022-12-26T04:12:57.428Z"
   },
   {
    "duration": 165,
    "start_time": "2022-12-26T04:12:57.539Z"
   },
   {
    "duration": 48,
    "start_time": "2022-12-26T04:12:57.705Z"
   },
   {
    "duration": 137,
    "start_time": "2022-12-26T04:12:57.755Z"
   },
   {
    "duration": 79,
    "start_time": "2022-12-26T04:12:57.894Z"
   },
   {
    "duration": 1640,
    "start_time": "2022-12-26T04:12:57.975Z"
   },
   {
    "duration": 735,
    "start_time": "2022-12-26T04:12:59.616Z"
   },
   {
    "duration": 140,
    "start_time": "2022-12-26T04:13:00.353Z"
   },
   {
    "duration": 43,
    "start_time": "2022-12-26T04:13:00.494Z"
   },
   {
    "duration": 1765,
    "start_time": "2022-12-26T04:13:00.538Z"
   },
   {
    "duration": 5,
    "start_time": "2022-12-26T04:13:02.305Z"
   },
   {
    "duration": 3645,
    "start_time": "2022-12-26T04:13:02.311Z"
   },
   {
    "duration": 292978,
    "start_time": "2022-12-26T04:13:05.958Z"
   },
   {
    "duration": 49584,
    "start_time": "2022-12-26T04:17:58.939Z"
   },
   {
    "duration": 57196,
    "start_time": "2022-12-26T04:18:48.526Z"
   },
   {
    "duration": 1412616,
    "start_time": "2022-12-26T04:19:45.723Z"
   },
   {
    "duration": 46,
    "start_time": "2022-12-26T05:29:01.948Z"
   },
   {
    "duration": 1492,
    "start_time": "2022-12-26T05:29:34.426Z"
   },
   {
    "duration": 1483,
    "start_time": "2022-12-26T05:29:35.920Z"
   },
   {
    "duration": 953,
    "start_time": "2022-12-26T05:29:37.405Z"
   },
   {
    "duration": 41,
    "start_time": "2022-12-26T05:29:38.360Z"
   },
   {
    "duration": 105,
    "start_time": "2022-12-26T05:29:38.403Z"
   },
   {
    "duration": 147,
    "start_time": "2022-12-26T05:29:38.509Z"
   },
   {
    "duration": 122,
    "start_time": "2022-12-26T05:29:38.658Z"
   },
   {
    "duration": 178,
    "start_time": "2022-12-26T05:29:38.781Z"
   },
   {
    "duration": 35,
    "start_time": "2022-12-26T05:29:38.960Z"
   },
   {
    "duration": 154,
    "start_time": "2022-12-26T05:29:38.998Z"
   },
   {
    "duration": 89,
    "start_time": "2022-12-26T05:29:39.154Z"
   },
   {
    "duration": 1767,
    "start_time": "2022-12-26T05:29:39.244Z"
   },
   {
    "duration": 740,
    "start_time": "2022-12-26T05:29:41.013Z"
   },
   {
    "duration": 143,
    "start_time": "2022-12-26T05:29:41.755Z"
   },
   {
    "duration": 48,
    "start_time": "2022-12-26T05:29:41.900Z"
   },
   {
    "duration": 1755,
    "start_time": "2022-12-26T05:29:41.950Z"
   },
   {
    "duration": 5,
    "start_time": "2022-12-26T05:29:43.707Z"
   },
   {
    "duration": 3859,
    "start_time": "2022-12-26T05:29:43.713Z"
   },
   {
    "duration": 303802,
    "start_time": "2022-12-26T05:29:47.574Z"
   },
   {
    "duration": 53043,
    "start_time": "2022-12-26T05:34:51.377Z"
   },
   {
    "duration": 58318,
    "start_time": "2022-12-26T05:35:44.423Z"
   },
   {
    "duration": 1557694,
    "start_time": "2022-12-26T05:36:42.743Z"
   },
   {
    "duration": 1841,
    "start_time": "2022-12-26T10:57:21.047Z"
   },
   {
    "duration": 1849,
    "start_time": "2022-12-26T10:57:22.891Z"
   },
   {
    "duration": 1227,
    "start_time": "2022-12-26T10:57:24.748Z"
   },
   {
    "duration": 68,
    "start_time": "2022-12-26T10:57:25.978Z"
   },
   {
    "duration": 114,
    "start_time": "2022-12-26T10:57:26.047Z"
   },
   {
    "duration": 207,
    "start_time": "2022-12-26T10:57:26.164Z"
   },
   {
    "duration": 187,
    "start_time": "2022-12-26T10:57:26.373Z"
   },
   {
    "duration": 242,
    "start_time": "2022-12-26T10:57:26.562Z"
   },
   {
    "duration": 51,
    "start_time": "2022-12-26T10:57:26.807Z"
   },
   {
    "duration": 168,
    "start_time": "2022-12-26T10:57:26.860Z"
   },
   {
    "duration": 100,
    "start_time": "2022-12-26T10:57:27.030Z"
   },
   {
    "duration": 1904,
    "start_time": "2022-12-26T10:57:27.142Z"
   },
   {
    "duration": 807,
    "start_time": "2022-12-26T10:57:29.048Z"
   },
   {
    "duration": 158,
    "start_time": "2022-12-26T10:57:29.856Z"
   },
   {
    "duration": 50,
    "start_time": "2022-12-26T10:57:30.016Z"
   },
   {
    "duration": 129,
    "start_time": "2022-12-26T10:57:42.613Z"
   },
   {
    "duration": 5,
    "start_time": "2022-12-26T10:58:20.538Z"
   },
   {
    "duration": 1007,
    "start_time": "2022-12-26T10:58:28.777Z"
   },
   {
    "duration": 5,
    "start_time": "2022-12-26T10:58:33.851Z"
   },
   {
    "duration": 17529,
    "start_time": "2022-12-26T10:58:39.623Z"
   },
   {
    "duration": 5,
    "start_time": "2022-12-26T10:59:22.704Z"
   },
   {
    "duration": 992,
    "start_time": "2022-12-26T10:59:58.277Z"
   },
   {
    "duration": 1652,
    "start_time": "2022-12-26T11:00:16.338Z"
   },
   {
    "duration": 1687,
    "start_time": "2022-12-26T11:00:17.992Z"
   },
   {
    "duration": 1066,
    "start_time": "2022-12-26T11:00:19.681Z"
   },
   {
    "duration": 44,
    "start_time": "2022-12-26T11:00:20.750Z"
   },
   {
    "duration": 148,
    "start_time": "2022-12-26T11:00:20.796Z"
   },
   {
    "duration": 149,
    "start_time": "2022-12-26T11:00:20.945Z"
   },
   {
    "duration": 147,
    "start_time": "2022-12-26T11:00:21.095Z"
   },
   {
    "duration": 178,
    "start_time": "2022-12-26T11:00:21.244Z"
   },
   {
    "duration": 54,
    "start_time": "2022-12-26T11:00:21.427Z"
   },
   {
    "duration": 177,
    "start_time": "2022-12-26T11:00:21.485Z"
   },
   {
    "duration": 102,
    "start_time": "2022-12-26T11:00:21.664Z"
   },
   {
    "duration": 1965,
    "start_time": "2022-12-26T11:00:21.768Z"
   },
   {
    "duration": 775,
    "start_time": "2022-12-26T11:00:23.739Z"
   },
   {
    "duration": 168,
    "start_time": "2022-12-26T11:00:24.521Z"
   },
   {
    "duration": 59,
    "start_time": "2022-12-26T11:00:24.691Z"
   },
   {
    "duration": 1129,
    "start_time": "2022-12-26T11:00:24.752Z"
   },
   {
    "duration": 5,
    "start_time": "2022-12-26T11:00:25.883Z"
   },
   {
    "duration": 4045,
    "start_time": "2022-12-26T11:00:25.889Z"
   },
   {
    "duration": 354262,
    "start_time": "2022-12-26T11:00:29.935Z"
   },
   {
    "duration": 15623,
    "start_time": "2022-12-26T11:06:24.199Z"
   },
   {
    "duration": 609626,
    "start_time": "2022-12-26T11:06:39.844Z"
   },
   {
    "duration": 0,
    "start_time": "2022-12-26T11:16:49.472Z"
   },
   {
    "duration": 0,
    "start_time": "2022-12-26T11:16:49.473Z"
   },
   {
    "duration": 0,
    "start_time": "2022-12-26T11:16:49.474Z"
   },
   {
    "duration": 0,
    "start_time": "2022-12-26T11:16:49.475Z"
   },
   {
    "duration": 0,
    "start_time": "2022-12-26T11:16:49.476Z"
   },
   {
    "duration": 1831,
    "start_time": "2022-12-26T11:16:53.994Z"
   },
   {
    "duration": 1617,
    "start_time": "2022-12-26T11:16:55.827Z"
   },
   {
    "duration": 1214,
    "start_time": "2022-12-26T11:16:57.446Z"
   },
   {
    "duration": 47,
    "start_time": "2022-12-26T11:16:58.663Z"
   },
   {
    "duration": 106,
    "start_time": "2022-12-26T11:16:58.727Z"
   },
   {
    "duration": 175,
    "start_time": "2022-12-26T11:16:58.842Z"
   },
   {
    "duration": 151,
    "start_time": "2022-12-26T11:16:59.025Z"
   },
   {
    "duration": 209,
    "start_time": "2022-12-26T11:16:59.178Z"
   },
   {
    "duration": 52,
    "start_time": "2022-12-26T11:16:59.389Z"
   },
   {
    "duration": 206,
    "start_time": "2022-12-26T11:16:59.448Z"
   },
   {
    "duration": 102,
    "start_time": "2022-12-26T11:16:59.663Z"
   },
   {
    "duration": 2132,
    "start_time": "2022-12-26T11:16:59.767Z"
   },
   {
    "duration": 912,
    "start_time": "2022-12-26T11:17:01.901Z"
   },
   {
    "duration": 204,
    "start_time": "2022-12-26T11:17:02.815Z"
   },
   {
    "duration": 47,
    "start_time": "2022-12-26T11:17:03.028Z"
   },
   {
    "duration": 1032,
    "start_time": "2022-12-26T11:17:03.077Z"
   },
   {
    "duration": 15,
    "start_time": "2022-12-26T11:17:04.111Z"
   },
   {
    "duration": 4388,
    "start_time": "2022-12-26T11:17:04.128Z"
   },
   {
    "duration": 344346,
    "start_time": "2022-12-26T11:17:08.530Z"
   },
   {
    "duration": 19179,
    "start_time": "2022-12-26T11:22:52.879Z"
   },
   {
    "duration": 1750,
    "start_time": "2022-12-26T11:32:33.149Z"
   },
   {
    "duration": 1833,
    "start_time": "2022-12-26T11:32:34.902Z"
   },
   {
    "duration": 1187,
    "start_time": "2022-12-26T11:32:36.742Z"
   },
   {
    "duration": 62,
    "start_time": "2022-12-26T11:32:37.940Z"
   },
   {
    "duration": 130,
    "start_time": "2022-12-26T11:32:38.004Z"
   },
   {
    "duration": 145,
    "start_time": "2022-12-26T11:32:38.136Z"
   },
   {
    "duration": 127,
    "start_time": "2022-12-26T11:32:38.282Z"
   },
   {
    "duration": 226,
    "start_time": "2022-12-26T11:32:38.412Z"
   },
   {
    "duration": 44,
    "start_time": "2022-12-26T11:32:38.640Z"
   },
   {
    "duration": 171,
    "start_time": "2022-12-26T11:32:38.687Z"
   },
   {
    "duration": 98,
    "start_time": "2022-12-26T11:32:38.860Z"
   },
   {
    "duration": 2024,
    "start_time": "2022-12-26T11:32:38.960Z"
   },
   {
    "duration": 813,
    "start_time": "2022-12-26T11:32:40.986Z"
   },
   {
    "duration": 170,
    "start_time": "2022-12-26T11:32:41.801Z"
   },
   {
    "duration": 35,
    "start_time": "2022-12-26T11:32:41.973Z"
   },
   {
    "duration": 1084,
    "start_time": "2022-12-26T11:32:42.010Z"
   },
   {
    "duration": 5,
    "start_time": "2022-12-26T11:32:43.096Z"
   },
   {
    "duration": 4281,
    "start_time": "2022-12-26T11:32:43.102Z"
   },
   {
    "duration": 346861,
    "start_time": "2022-12-26T11:32:47.384Z"
   },
   {
    "duration": 15782,
    "start_time": "2022-12-26T11:38:34.248Z"
   },
   {
    "duration": 5010324,
    "start_time": "2022-12-26T11:38:50.033Z"
   },
   {
    "duration": 4088885,
    "start_time": "2022-12-26T13:02:20.363Z"
   },
   {
    "duration": 545315,
    "start_time": "2022-12-26T14:10:29.250Z"
   },
   {
    "duration": 21,
    "start_time": "2022-12-26T14:19:34.568Z"
   },
   {
    "duration": 37,
    "start_time": "2022-12-26T14:19:34.591Z"
   },
   {
    "duration": 28,
    "start_time": "2022-12-26T14:19:34.630Z"
   },
   {
    "duration": 11,
    "start_time": "2022-12-26T14:53:55.062Z"
   },
   {
    "duration": 8,
    "start_time": "2022-12-26T14:54:28.172Z"
   },
   {
    "duration": 9,
    "start_time": "2022-12-26T14:55:04.656Z"
   },
   {
    "duration": 4,
    "start_time": "2022-12-26T14:58:18.270Z"
   },
   {
    "duration": 10,
    "start_time": "2022-12-26T14:58:18.680Z"
   },
   {
    "duration": 9,
    "start_time": "2022-12-26T14:58:32.413Z"
   },
   {
    "duration": 8,
    "start_time": "2022-12-26T14:58:44.970Z"
   },
   {
    "duration": 8,
    "start_time": "2022-12-26T15:01:41.181Z"
   },
   {
    "duration": 11,
    "start_time": "2022-12-26T15:12:19.578Z"
   },
   {
    "duration": 7,
    "start_time": "2022-12-26T15:12:30.540Z"
   },
   {
    "duration": 7,
    "start_time": "2022-12-26T15:12:36.265Z"
   },
   {
    "duration": 42,
    "start_time": "2022-12-26T15:12:47.616Z"
   },
   {
    "duration": 45,
    "start_time": "2022-12-26T15:13:09.942Z"
   },
   {
    "duration": 135,
    "start_time": "2022-12-26T15:13:33.193Z"
   },
   {
    "duration": 1651,
    "start_time": "2022-12-26T15:14:17.816Z"
   },
   {
    "duration": 1682,
    "start_time": "2022-12-26T15:14:19.469Z"
   },
   {
    "duration": 1058,
    "start_time": "2022-12-26T15:14:21.154Z"
   },
   {
    "duration": 53,
    "start_time": "2022-12-26T15:14:22.214Z"
   },
   {
    "duration": 152,
    "start_time": "2022-12-26T15:14:22.269Z"
   },
   {
    "duration": 147,
    "start_time": "2022-12-26T15:14:22.423Z"
   },
   {
    "duration": 153,
    "start_time": "2022-12-26T15:14:22.572Z"
   },
   {
    "duration": 195,
    "start_time": "2022-12-26T15:14:22.727Z"
   },
   {
    "duration": 41,
    "start_time": "2022-12-26T15:14:22.924Z"
   },
   {
    "duration": 149,
    "start_time": "2022-12-26T15:14:22.967Z"
   },
   {
    "duration": 101,
    "start_time": "2022-12-26T15:14:23.121Z"
   },
   {
    "duration": 1746,
    "start_time": "2022-12-26T15:14:23.224Z"
   },
   {
    "duration": 799,
    "start_time": "2022-12-26T15:14:24.972Z"
   },
   {
    "duration": 149,
    "start_time": "2022-12-26T15:14:30.873Z"
   },
   {
    "duration": 120,
    "start_time": "2022-12-26T15:14:44.642Z"
   },
   {
    "duration": 168,
    "start_time": "2022-12-26T15:14:48.115Z"
   },
   {
    "duration": 13,
    "start_time": "2022-12-26T15:14:53.111Z"
   },
   {
    "duration": 260,
    "start_time": "2022-12-26T15:14:59.927Z"
   },
   {
    "duration": 273,
    "start_time": "2022-12-26T15:15:08.960Z"
   },
   {
    "duration": 265,
    "start_time": "2022-12-26T15:15:23.169Z"
   },
   {
    "duration": 19,
    "start_time": "2022-12-26T15:15:35.323Z"
   },
   {
    "duration": 275,
    "start_time": "2022-12-26T15:15:39.931Z"
   },
   {
    "duration": 160,
    "start_time": "2022-12-26T15:15:50.754Z"
   },
   {
    "duration": 4,
    "start_time": "2022-12-26T15:18:04.449Z"
   },
   {
    "duration": 1554,
    "start_time": "2022-12-26T15:18:16.183Z"
   },
   {
    "duration": 1295,
    "start_time": "2022-12-26T15:18:17.740Z"
   },
   {
    "duration": 1033,
    "start_time": "2022-12-26T15:18:19.037Z"
   },
   {
    "duration": 58,
    "start_time": "2022-12-26T15:18:20.073Z"
   },
   {
    "duration": 98,
    "start_time": "2022-12-26T15:18:20.133Z"
   },
   {
    "duration": 145,
    "start_time": "2022-12-26T15:18:20.233Z"
   },
   {
    "duration": 143,
    "start_time": "2022-12-26T15:18:20.380Z"
   },
   {
    "duration": 241,
    "start_time": "2022-12-26T15:18:20.524Z"
   },
   {
    "duration": 38,
    "start_time": "2022-12-26T15:18:20.767Z"
   },
   {
    "duration": 162,
    "start_time": "2022-12-26T15:18:20.807Z"
   },
   {
    "duration": 99,
    "start_time": "2022-12-26T15:18:20.971Z"
   },
   {
    "duration": 1859,
    "start_time": "2022-12-26T15:18:21.072Z"
   },
   {
    "duration": 830,
    "start_time": "2022-12-26T15:18:22.932Z"
   },
   {
    "duration": 204,
    "start_time": "2022-12-26T15:18:23.764Z"
   },
   {
    "duration": 35,
    "start_time": "2022-12-26T15:18:23.970Z"
   },
   {
    "duration": 17,
    "start_time": "2022-12-26T15:18:27.251Z"
   },
   {
    "duration": 118,
    "start_time": "2022-12-26T15:21:59.699Z"
   },
   {
    "duration": 1637,
    "start_time": "2022-12-26T15:22:19.388Z"
   },
   {
    "duration": 1531,
    "start_time": "2022-12-26T15:22:21.028Z"
   },
   {
    "duration": 1022,
    "start_time": "2022-12-26T15:22:22.560Z"
   },
   {
    "duration": 47,
    "start_time": "2022-12-26T15:22:23.584Z"
   },
   {
    "duration": 91,
    "start_time": "2022-12-26T15:22:23.633Z"
   },
   {
    "duration": 144,
    "start_time": "2022-12-26T15:22:23.726Z"
   },
   {
    "duration": 125,
    "start_time": "2022-12-26T15:22:23.872Z"
   },
   {
    "duration": 199,
    "start_time": "2022-12-26T15:22:23.999Z"
   },
   {
    "duration": 52,
    "start_time": "2022-12-26T15:22:24.200Z"
   },
   {
    "duration": 190,
    "start_time": "2022-12-26T15:22:24.255Z"
   },
   {
    "duration": 93,
    "start_time": "2022-12-26T15:22:24.447Z"
   },
   {
    "duration": 1814,
    "start_time": "2022-12-26T15:22:24.542Z"
   },
   {
    "duration": 864,
    "start_time": "2022-12-26T15:22:26.358Z"
   },
   {
    "duration": 145,
    "start_time": "2022-12-26T15:22:27.224Z"
   },
   {
    "duration": 34,
    "start_time": "2022-12-26T15:22:27.371Z"
   },
   {
    "duration": 110,
    "start_time": "2022-12-26T15:22:29.709Z"
   },
   {
    "duration": 15,
    "start_time": "2022-12-26T15:22:39.878Z"
   },
   {
    "duration": 45,
    "start_time": "2022-12-26T15:22:55.914Z"
   },
   {
    "duration": 14,
    "start_time": "2022-12-26T15:23:07.359Z"
   },
   {
    "duration": 12,
    "start_time": "2022-12-26T15:23:57.146Z"
   },
   {
    "duration": 12,
    "start_time": "2022-12-26T15:24:00.972Z"
   },
   {
    "duration": 19,
    "start_time": "2022-12-26T15:24:06.435Z"
   },
   {
    "duration": 11,
    "start_time": "2022-12-26T15:24:24.282Z"
   },
   {
    "duration": 11,
    "start_time": "2022-12-26T15:25:12.760Z"
   },
   {
    "duration": 15,
    "start_time": "2022-12-26T15:25:31.938Z"
   },
   {
    "duration": 12,
    "start_time": "2022-12-26T15:26:08.422Z"
   },
   {
    "duration": 16,
    "start_time": "2022-12-26T15:26:33.081Z"
   },
   {
    "duration": 15,
    "start_time": "2022-12-26T15:27:01.570Z"
   },
   {
    "duration": 13,
    "start_time": "2022-12-26T15:27:07.499Z"
   },
   {
    "duration": 13,
    "start_time": "2022-12-26T15:27:10.986Z"
   },
   {
    "duration": 18,
    "start_time": "2022-12-26T15:27:16.656Z"
   },
   {
    "duration": 16,
    "start_time": "2022-12-26T15:27:28.004Z"
   },
   {
    "duration": 27,
    "start_time": "2022-12-26T15:27:37.666Z"
   },
   {
    "duration": 19,
    "start_time": "2022-12-26T15:27:44.725Z"
   },
   {
    "duration": 16,
    "start_time": "2022-12-26T15:28:14.629Z"
   },
   {
    "duration": 21,
    "start_time": "2022-12-26T15:28:24.131Z"
   },
   {
    "duration": 20,
    "start_time": "2022-12-26T15:28:33.751Z"
   },
   {
    "duration": 13,
    "start_time": "2022-12-26T15:28:44.809Z"
   },
   {
    "duration": 18,
    "start_time": "2022-12-26T15:30:08.700Z"
   },
   {
    "duration": 11,
    "start_time": "2022-12-26T15:30:23.542Z"
   },
   {
    "duration": 16,
    "start_time": "2022-12-26T15:31:27.820Z"
   },
   {
    "duration": 13,
    "start_time": "2022-12-26T15:33:22.607Z"
   },
   {
    "duration": 16,
    "start_time": "2022-12-26T15:33:41.369Z"
   },
   {
    "duration": 13,
    "start_time": "2022-12-26T15:33:49.783Z"
   },
   {
    "duration": 3,
    "start_time": "2022-12-26T15:37:00.769Z"
   },
   {
    "duration": 11,
    "start_time": "2022-12-26T15:37:01.254Z"
   },
   {
    "duration": 12,
    "start_time": "2022-12-26T15:37:09.020Z"
   },
   {
    "duration": 2839,
    "start_time": "2022-12-27T11:00:44.596Z"
   },
   {
    "duration": 1531,
    "start_time": "2022-12-27T11:00:47.437Z"
   },
   {
    "duration": 993,
    "start_time": "2022-12-27T11:00:48.970Z"
   },
   {
    "duration": 54,
    "start_time": "2022-12-27T11:00:49.964Z"
   },
   {
    "duration": 102,
    "start_time": "2022-12-27T11:00:50.020Z"
   },
   {
    "duration": 168,
    "start_time": "2022-12-27T11:00:50.124Z"
   },
   {
    "duration": 229,
    "start_time": "2022-12-27T11:00:50.293Z"
   },
   {
    "duration": 124,
    "start_time": "2022-12-27T11:00:50.524Z"
   },
   {
    "duration": 57,
    "start_time": "2022-12-27T11:00:50.650Z"
   },
   {
    "duration": 163,
    "start_time": "2022-12-27T11:00:50.709Z"
   },
   {
    "duration": 89,
    "start_time": "2022-12-27T11:00:50.874Z"
   },
   {
    "duration": 1928,
    "start_time": "2022-12-27T11:00:50.965Z"
   },
   {
    "duration": 821,
    "start_time": "2022-12-27T11:00:52.895Z"
   },
   {
    "duration": 160,
    "start_time": "2022-12-27T11:00:53.719Z"
   },
   {
    "duration": 55,
    "start_time": "2022-12-27T11:00:53.882Z"
   },
   {
    "duration": 16,
    "start_time": "2022-12-27T11:00:53.939Z"
   },
   {
    "duration": 937,
    "start_time": "2022-12-27T11:00:53.977Z"
   },
   {
    "duration": 5,
    "start_time": "2022-12-27T11:00:54.916Z"
   },
   {
    "duration": 4070,
    "start_time": "2022-12-27T11:00:54.923Z"
   },
   {
    "duration": 327271,
    "start_time": "2022-12-27T11:00:58.995Z"
   },
   {
    "duration": 15216,
    "start_time": "2022-12-27T11:06:26.268Z"
   },
   {
    "duration": 82119,
    "start_time": "2022-12-27T11:06:41.487Z"
   },
   {
    "duration": 579289,
    "start_time": "2022-12-27T11:08:03.608Z"
   },
   {
    "duration": 0,
    "start_time": "2022-12-27T11:17:42.899Z"
   },
   {
    "duration": 0,
    "start_time": "2022-12-27T11:17:42.900Z"
   },
   {
    "duration": 0,
    "start_time": "2022-12-27T11:17:42.902Z"
   },
   {
    "duration": 0,
    "start_time": "2022-12-27T11:17:42.903Z"
   }
  ],
  "kernelspec": {
   "display_name": "Python 3 (ipykernel)",
   "language": "python",
   "name": "python3"
  },
  "language_info": {
   "codemirror_mode": {
    "name": "ipython",
    "version": 3
   },
   "file_extension": ".py",
   "mimetype": "text/x-python",
   "name": "python",
   "nbconvert_exporter": "python",
   "pygments_lexer": "ipython3",
   "version": "3.9.12"
  },
  "toc": {
   "base_numbering": 1,
   "nav_menu": {},
   "number_sections": true,
   "sideBar": true,
   "skip_h1_title": true,
   "title_cell": "Table of Contents",
   "title_sidebar": "Contents",
   "toc_cell": false,
   "toc_position": {},
   "toc_section_display": true,
   "toc_window_display": false
  }
 },
 "nbformat": 4,
 "nbformat_minor": 4
}
