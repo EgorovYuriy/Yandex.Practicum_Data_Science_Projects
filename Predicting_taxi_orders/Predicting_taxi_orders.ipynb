{
 "cells": [
  {
   "cell_type": "markdown",
   "metadata": {
    "tags": []
   },
   "source": [
    "## Описание проекта \" Прогнозирование заказов такси\""
   ]
  },
  {
   "cell_type": "markdown",
   "metadata": {},
   "source": [
    "Компания «Чётенькое такси» собрала исторические данные о заказах такси в аэропортах. Чтобы привлекать больше водителей в период пиковой нагрузки, нужно спрогнозировать количество заказов такси на следующий час. Постройте модель для такого предсказания.\n",
    "\n",
    "Значение метрики *RMSE* на тестовой выборке должно быть не больше 48.\n",
    "\n",
    "Вам нужно:\n",
    "\n",
    "1. Загрузить данные и выполнить их ресемплирование по одному часу.\n",
    "2. Проанализировать данные.\n",
    "3. Обучить разные модели с различными гиперпараметрами. Сделать тестовую выборку размером 10% от исходных данных.\n",
    "4. Проверить данные на тестовой выборке и сделать выводы.\n",
    "\n",
    "\n",
    "Данные лежат в файле `taxi.csv`. Количество заказов находится в столбце `num_orders` (от англ. *number of orders*, «число заказов»)."
   ]
  },
  {
   "cell_type": "markdown",
   "metadata": {
    "tags": []
   },
   "source": [
    "## 1. Подготовка"
   ]
  },
  {
   "cell_type": "markdown",
   "metadata": {
    "tags": []
   },
   "source": [
    "### 1.1 Изучение данных"
   ]
  },
  {
   "cell_type": "markdown",
   "metadata": {},
   "source": [
    "импорты"
   ]
  },
  {
   "cell_type": "code",
   "execution_count": 1,
   "metadata": {},
   "outputs": [],
   "source": [
    "import time\n",
    "import warnings\n",
    "\n",
    "import pandas as pd\n",
    "import numpy as np\n",
    "from statsmodels.tsa.seasonal import seasonal_decompose\n",
    "import matplotlib.pyplot as plt\n",
    "import seaborn as sns\n",
    "\n",
    "from sklearn.model_selection import(\n",
    "    train_test_split,\n",
    "    TimeSeriesSplit,\n",
    "    RandomizedSearchCV\n",
    ")\n",
    "from sklearn.pipeline import Pipeline\n",
    "from sklearn.preprocessing import StandardScaler\n",
    "from sklearn.metrics import mean_squared_error\n",
    "from sklearn.ensemble import RandomForestRegressor\n",
    "from sklearn.linear_model import LinearRegression\n",
    "from lightgbm import LGBMRegressor\n",
    "\n",
    "warnings.filterwarnings('ignore')\n",
    "pd.set_option(\"display.float_format\", lambda x: \"%.2f\" % x)\n",
    "\n",
    "RS = 17"
   ]
  },
  {
   "cell_type": "markdown",
   "metadata": {},
   "source": [
    "чтение файла"
   ]
  },
  {
   "cell_type": "code",
   "execution_count": 2,
   "metadata": {},
   "outputs": [],
   "source": [
    "try:\n",
    "    df = pd.read_csv('/datasets/taxi.csv', parse_dates=[0], index_col=[0])\n",
    "except:\n",
    "    df = pd.read_csv('https://code.s3.yandex.net/datasets/taxi.csv', parse_dates=[0], index_col=[0])"
   ]
  },
  {
   "cell_type": "markdown",
   "metadata": {},
   "source": [
    "установим индекс таблицы равным столбцу datetime"
   ]
  },
  {
   "cell_type": "code",
   "execution_count": 3,
   "metadata": {},
   "outputs": [
    {
     "name": "stdout",
     "output_type": "stream",
     "text": [
      "---------------------------------------------\n",
      "Данные расположены в хронологическом порядке\n",
      "---------------------------------------------\n",
      "<class 'pandas.core.frame.DataFrame'>\n",
      "DatetimeIndex: 26496 entries, 2018-03-01 00:00:00 to 2018-08-31 23:50:00\n",
      "Data columns (total 1 columns):\n",
      " #   Column      Non-Null Count  Dtype\n",
      "---  ------      --------------  -----\n",
      " 0   num_orders  26496 non-null  int64\n",
      "dtypes: int64(1)\n",
      "memory usage: 414.0 KB\n"
     ]
    },
    {
     "data": {
      "text/plain": [
       "None"
      ]
     },
     "metadata": {},
     "output_type": "display_data"
    },
    {
     "name": "stdout",
     "output_type": "stream",
     "text": [
      "----------------------------------------\n"
     ]
    },
    {
     "data": {
      "text/html": [
       "<div>\n",
       "<style scoped>\n",
       "    .dataframe tbody tr th:only-of-type {\n",
       "        vertical-align: middle;\n",
       "    }\n",
       "\n",
       "    .dataframe tbody tr th {\n",
       "        vertical-align: top;\n",
       "    }\n",
       "\n",
       "    .dataframe thead th {\n",
       "        text-align: right;\n",
       "    }\n",
       "</style>\n",
       "<table border=\"1\" class=\"dataframe\">\n",
       "  <thead>\n",
       "    <tr style=\"text-align: right;\">\n",
       "      <th></th>\n",
       "      <th>num_orders</th>\n",
       "    </tr>\n",
       "    <tr>\n",
       "      <th>datetime</th>\n",
       "      <th></th>\n",
       "    </tr>\n",
       "  </thead>\n",
       "  <tbody>\n",
       "    <tr>\n",
       "      <th>2018-03-01 00:00:00</th>\n",
       "      <td>9</td>\n",
       "    </tr>\n",
       "    <tr>\n",
       "      <th>2018-03-01 00:10:00</th>\n",
       "      <td>14</td>\n",
       "    </tr>\n",
       "    <tr>\n",
       "      <th>2018-03-01 00:20:00</th>\n",
       "      <td>28</td>\n",
       "    </tr>\n",
       "    <tr>\n",
       "      <th>2018-03-01 00:30:00</th>\n",
       "      <td>20</td>\n",
       "    </tr>\n",
       "    <tr>\n",
       "      <th>2018-03-01 00:40:00</th>\n",
       "      <td>32</td>\n",
       "    </tr>\n",
       "    <tr>\n",
       "      <th>...</th>\n",
       "      <td>...</td>\n",
       "    </tr>\n",
       "    <tr>\n",
       "      <th>2018-08-31 23:10:00</th>\n",
       "      <td>32</td>\n",
       "    </tr>\n",
       "    <tr>\n",
       "      <th>2018-08-31 23:20:00</th>\n",
       "      <td>24</td>\n",
       "    </tr>\n",
       "    <tr>\n",
       "      <th>2018-08-31 23:30:00</th>\n",
       "      <td>27</td>\n",
       "    </tr>\n",
       "    <tr>\n",
       "      <th>2018-08-31 23:40:00</th>\n",
       "      <td>39</td>\n",
       "    </tr>\n",
       "    <tr>\n",
       "      <th>2018-08-31 23:50:00</th>\n",
       "      <td>53</td>\n",
       "    </tr>\n",
       "  </tbody>\n",
       "</table>\n",
       "<p>26496 rows × 1 columns</p>\n",
       "</div>"
      ],
      "text/plain": [
       "                     num_orders\n",
       "datetime                       \n",
       "2018-03-01 00:00:00           9\n",
       "2018-03-01 00:10:00          14\n",
       "2018-03-01 00:20:00          28\n",
       "2018-03-01 00:30:00          20\n",
       "2018-03-01 00:40:00          32\n",
       "...                         ...\n",
       "2018-08-31 23:10:00          32\n",
       "2018-08-31 23:20:00          24\n",
       "2018-08-31 23:30:00          27\n",
       "2018-08-31 23:40:00          39\n",
       "2018-08-31 23:50:00          53\n",
       "\n",
       "[26496 rows x 1 columns]"
      ]
     },
     "metadata": {},
     "output_type": "display_data"
    }
   ],
   "source": [
    "print('-'*45)\n",
    "if df.index.is_monotonic == True:\n",
    "    print('Данные расположены в хронологическом порядке')\n",
    "else:\n",
    "    print('Данные расположены не в хронологическом порядке, примените метод sort_index()') \n",
    "    \n",
    "print('-'*45)\n",
    "display(df.info())\n",
    "print('-'*40)\n",
    "display(df)"
   ]
  },
  {
   "cell_type": "markdown",
   "metadata": {
    "tags": []
   },
   "source": [
    "### 1.2 Ресемлирование"
   ]
  },
  {
   "cell_type": "markdown",
   "metadata": {},
   "source": [
    "после вывода таблицы видно, что временные рамки расположены в хронологическом порядке, проведем ресемплирование по часам согласно тз"
   ]
  },
  {
   "cell_type": "code",
   "execution_count": 4,
   "metadata": {},
   "outputs": [
    {
     "data": {
      "image/png": "[encoded data removed]",
      "text/plain": [
       "<Figure size 1080x360 with 1 Axes>"
      ]
     },
     "metadata": {
      "needs_background": "light"
     },
     "output_type": "display_data"
    }
   ],
   "source": [
    "df = df.resample('1H').sum()\n",
    "\n",
    "plt.figure(figsize=(15,5))\n",
    "plt.plot(df['num_orders'])\n",
    "plt.title(f'Распределение заказов по часам за весь период')\n",
    "plt.xlabel('месяц')\n",
    "plt.ylabel('количество заказов')\n",
    "plt.grid()"
   ]
  },
  {
   "cell_type": "markdown",
   "metadata": {
    "tags": []
   },
   "source": [
    "### 1.3 Вывод"
   ]
  },
  {
   "cell_type": "markdown",
   "metadata": {},
   "source": [
    "**Вывод по пункту:**\n",
    "\n",
    "- данные загружены, подготовлены к анализу;\n",
    "- проведено ресемплирование целевого признака по часам.\n",
    "\n",
    "Данные готовы к анализу."
   ]
  },
  {
   "cell_type": "markdown",
   "metadata": {
    "tags": []
   },
   "source": [
    "## 2. Анализ"
   ]
  },
  {
   "cell_type": "markdown",
   "metadata": {
    "tags": []
   },
   "source": [
    "### 2.1 Декомпозиция и визуализация"
   ]
  },
  {
   "cell_type": "markdown",
   "metadata": {},
   "source": [
    "проведем декомпозицию ряда: вглянем на тренд, сезонность, шум"
   ]
  },
  {
   "cell_type": "code",
   "execution_count": 5,
   "metadata": {},
   "outputs": [
    {
     "data": {
      "image/png": "[encoded data removed]",
      "text/plain": [
       "<Figure size 864x1080 with 3 Axes>"
      ]
     },
     "metadata": {
      "needs_background": "light"
     },
     "output_type": "display_data"
    }
   ],
   "source": [
    "decomposed = seasonal_decompose(df)\n",
    "\n",
    "plt.figure(figsize=(12, 15))\n",
    "plt.subplot(311)\n",
    "\n",
    "decomposed.trend.plot(ax=plt.gca(), grid=True)\n",
    "plt.title('Тренд')\n",
    "plt.subplot(312)\n",
    "\n",
    "decomposed.seasonal.plot(ax=plt.gca(), grid=True)\n",
    "plt.title('Сезонность')\n",
    "plt.subplot(313)\n",
    "\n",
    "decomposed.resid.plot(ax=plt.gca(), grid=True)\n",
    "plt.title('Шум')\n",
    "plt.tight_layout()"
   ]
  },
  {
   "cell_type": "markdown",
   "metadata": {},
   "source": [
    "посмотрим сезонность нескольких дней в начале июля"
   ]
  },
  {
   "cell_type": "code",
   "execution_count": 6,
   "metadata": {},
   "outputs": [
    {
     "data": {
      "image/png": "[encoded data removed]",
      "text/plain": [
       "<Figure size 1080x360 with 1 Axes>"
      ]
     },
     "metadata": {
      "needs_background": "light"
     },
     "output_type": "display_data"
    }
   ],
   "source": [
    "def decomposed_seasonal_period(start_period, end_period, title_period):\n",
    "    \n",
    "    plt.figure(figsize=(15,5))\n",
    "    decomposed.seasonal[start_period:end_period].plot()\n",
    "    plt.title(f'Сезонность заказов за {title_period}')\n",
    "    plt.xlabel('период')\n",
    "    plt.ylabel('количество заказов')\n",
    "    plt.grid()\n",
    "    \n",
    "decomposed_seasonal_period('2018-07-01','2018-07-03', 'несколько дней июля')"
   ]
  },
  {
   "cell_type": "markdown",
   "metadata": {},
   "source": [
    "присутствует суточная сезонность, проверим недельную сезонность"
   ]
  },
  {
   "cell_type": "code",
   "execution_count": 7,
   "metadata": {},
   "outputs": [
    {
     "data": {
      "image/png": "[encoded data removed]",
      "text/plain": [
       "<Figure size 1080x360 with 1 Axes>"
      ]
     },
     "metadata": {
      "needs_background": "light"
     },
     "output_type": "display_data"
    }
   ],
   "source": [
    "df_day = df.copy().resample('1D').sum()\n",
    "decomposed = seasonal_decompose(df_day)\n",
    "decomposed_seasonal_period('2018-07','2018-07', 'несколько недель июля')"
   ]
  },
  {
   "cell_type": "markdown",
   "metadata": {},
   "source": [
    "присутствует недельная сезонность, как видно на графике, количество заказов имеет нормальное распределение в течение каждой недели и всплеск заказов на каждых выходных. проверять месячную сезонность нет смысла, т.к. весь период составляет полгода - данных мало, нужен период минимум в год"
   ]
  },
  {
   "cell_type": "markdown",
   "metadata": {
    "tags": []
   },
   "source": [
    "### 2.2 Вывод"
   ]
  },
  {
   "cell_type": "markdown",
   "metadata": {},
   "source": [
    "Вывод по графикам:\n",
    "\n",
    "- согласно тренду, количество заказов такси растет с каждым месяцем за последние полгода, особенно большой спрос в конце лета - период отпусков;\n",
    "- согласно сезонности, в течение дня наибольший спрос такси в аэропортах наблюдается в районах 10 утра, 5 часов вечера и ночью. это связано с количеством сотрудников аэропорта, прибывающих рано утром на работу и уезжающих с работы вечером, а также пассажиропоток: в утренние и дневные часы регулярные популярные рейсы, ночью преимущественно чартерные, летающие в курортные рейсы;\n",
    "- согласно шуму, в конце лета ситуация с заказами становится непредсказуемой в связи с резкими перепадами количества заказов в сторону увеличения в соотвествии с увеличением значения тренда.\n",
    "\n",
    "Изучив графики, за количество лагов возьмем значения 24 и 168, т.к. наблюдается разница заказов в течения дня и недели, за скользящее среднее возьмем 24, т.е. среднее за сутки."
   ]
  },
  {
   "cell_type": "markdown",
   "metadata": {
    "tags": []
   },
   "source": [
    "## 3. Обучение моделей"
   ]
  },
  {
   "cell_type": "markdown",
   "metadata": {
    "tags": []
   },
   "source": [
    "### 3.1 Подготовка к обучению"
   ]
  },
  {
   "cell_type": "markdown",
   "metadata": {},
   "source": [
    "Будем перебирать 2 возможных сценария с количеством лагов, объявим 2 функции: \n",
    "\n",
    "- первая - **make_features** - будет создавать новые признаки, лаги, скользящее среднее, делить данные на трейн и тест, в каждом из которых делить данные на признаки и таргеты, на выходе будем получать преобразованные данные и набор отмасштабированных признаков и таргетов для для обучения моделей для каждого значения лагов;\n",
    "\n",
    "- вторая - **make_cv_time_series** - будет выполнять кросс-валидацию для разных моделей с перебором параметров для улучшения качества предсказания метрики и выводом метрик."
   ]
  },
  {
   "cell_type": "code",
   "execution_count": 8,
   "metadata": {
    "scrolled": true,
    "tags": []
   },
   "outputs": [
    {
     "name": "stdout",
     "output_type": "stream",
     "text": [
      "Данные при количестве лагов = 24\n",
      "---------------------------------\n",
      "размер трейна (3952, 27), размер таргета на трейне (3952,)\n",
      "размер трейна (440, 27),  размер таргета на трейне (440,)\n",
      "------------------------------------------------------------\n",
      "Данные при количестве лагов = 168\n",
      "---------------------------------\n",
      "размер трейна (3823, 171), размер таргета на трейне (3823,)\n",
      "размер трейна (425, 171),  размер таргета на трейне (425,)\n",
      "------------------------------------------------------------\n"
     ]
    }
   ],
   "source": [
    "def make_features(data, max_lag, rolling_mean_size):\n",
    "\n",
    "    data['hour'] = data.index.hour\n",
    "    data['dayofweek'] = data.index.dayofweek\n",
    "\n",
    "    for lag in range(1, max_lag + 1):\n",
    "            data['lag_{}'.format(lag)] = data['num_orders'].shift(lag)\n",
    "    \n",
    "    data['rolling_mean'] = data['num_orders'].shift().rolling(rolling_mean_size).mean()\n",
    "    \n",
    "    data = data.dropna()\n",
    "    \n",
    "    train, test = train_test_split(data, shuffle=False, test_size=.1)\n",
    "\n",
    "    X_train, y_train = train.drop('num_orders', axis=1), train['num_orders']\n",
    "    X_test, y_test = test.drop('num_orders', axis=1), test['num_orders']\n",
    "    \n",
    "    print(f'Данные при количестве лагов = {max_lag}')\n",
    "    print('-'*33)\n",
    "    print(f'размер трейна {X_train.shape}, размер таргета на трейне {y_train.shape}')\n",
    "    print(f'размер трейна {X_test.shape},  размер таргета на трейне {y_test.shape}') \n",
    "    print('-'*60)\n",
    "    \n",
    "    return X_train, y_train, X_test, y_test\n",
    "    \n",
    "X_train_24, y_train_24, X_test_24, y_test_24 = make_features(df, 24, 24)\n",
    "X_train_168, y_train_168, X_test_168, y_test_168 = make_features(df, 168, 24)"
   ]
  },
  {
   "cell_type": "code",
   "execution_count": 9,
   "metadata": {},
   "outputs": [],
   "source": [
    "def regressor_cv(model, params, X_train_set, y_train_set):\n",
    "    \n",
    "    regressor = RandomizedSearchCV(\n",
    "         model, \n",
    "         params, \n",
    "         cv = TimeSeriesSplit(n_splits=5),\n",
    "         scoring='neg_root_mean_squared_error',\n",
    "         n_jobs=-1,\n",
    "         verbose=10\n",
    "    )\n",
    "    \n",
    "    regressor.fit(X_train_set, y_train_set)\n",
    "    \n",
    "    rmse_cv = -regressor.best_score_.round(4)\n",
    "    best_params = regressor.best_params_\n",
    "    best_model = regressor.best_estimator_\n",
    "    \n",
    "    return rmse_cv, best_params, best_model"
   ]
  },
  {
   "cell_type": "markdown",
   "metadata": {
    "tags": []
   },
   "source": [
    "### 3.2 Обучение"
   ]
  },
  {
   "cell_type": "markdown",
   "metadata": {},
   "source": [
    "в целях экономии времени работы моделей и ресурсов платформы произведен перебор параметров и указаны лучшие"
   ]
  },
  {
   "cell_type": "markdown",
   "metadata": {},
   "source": [
    "**Random Forest 24 lags** "
   ]
  },
  {
   "cell_type": "code",
   "execution_count": 10,
   "metadata": {
    "scrolled": true
   },
   "outputs": [
    {
     "name": "stdout",
     "output_type": "stream",
     "text": [
      "Fitting 5 folds for each of 1 candidates, totalling 5 fits\n",
      "CPU times: total: 52 s\n",
      "Wall time: 1min 49s\n"
     ]
    }
   ],
   "source": [
    "%%time\n",
    "pipe_rf = Pipeline([\n",
    "    ('ss',StandardScaler()),\n",
    "    ('rf',RandomForestRegressor(random_state=RS))\n",
    "])\n",
    "params_rf = {\n",
    "    'rf__max_depth':[25],\n",
    "    'rf__n_estimators':[500]\n",
    "}\n",
    "RF_24lags_rmse_cv, RF_24lags_best_params, RF_24lags_best_model = regressor_cv(\n",
    "    pipe_rf,\n",
    "    params_rf,\n",
    "    X_train_24, \n",
    "    y_train_24\n",
    ")"
   ]
  },
  {
   "cell_type": "markdown",
   "metadata": {},
   "source": [
    "**Random Forest 168 lags** "
   ]
  },
  {
   "cell_type": "code",
   "execution_count": 11,
   "metadata": {
    "scrolled": true
   },
   "outputs": [
    {
     "name": "stdout",
     "output_type": "stream",
     "text": [
      "Fitting 5 folds for each of 1 candidates, totalling 5 fits\n",
      "CPU times: total: 4min 57s\n",
      "Wall time: 9min 55s\n"
     ]
    }
   ],
   "source": [
    "%%time\n",
    "params_rf = {\n",
    "    'rf__max_depth':[50],\n",
    "    'rf__n_estimators':[500]\n",
    "}\n",
    "RF_168lags_rmse_cv, RF_168lags_best_params, RF_168lags_best_model = regressor_cv(\n",
    "    pipe_rf,\n",
    "    params_rf,\n",
    "    X_train_168, \n",
    "    y_train_168\n",
    ")"
   ]
  },
  {
   "cell_type": "markdown",
   "metadata": {},
   "source": [
    "**Linear Regression 24 lags** "
   ]
  },
  {
   "cell_type": "code",
   "execution_count": 12,
   "metadata": {},
   "outputs": [
    {
     "name": "stdout",
     "output_type": "stream",
     "text": [
      "Fitting 5 folds for each of 1 candidates, totalling 5 fits\n",
      "CPU times: total: 203 ms\n",
      "Wall time: 6.41 s\n"
     ]
    }
   ],
   "source": [
    "%%time\n",
    "pipe_lr = Pipeline([\n",
    "    ('ss',StandardScaler()),\n",
    "    ('lr',LinearRegression())\n",
    "])\n",
    "LR_24lags_rmse_cv, LR_24lags_best_params, LR_24lags_best_model = regressor_cv(\n",
    "    pipe_lr,\n",
    "    {},\n",
    "    X_train_24, \n",
    "    y_train_24\n",
    ")"
   ]
  },
  {
   "cell_type": "markdown",
   "metadata": {},
   "source": [
    "**Linear Regression 168 lags** "
   ]
  },
  {
   "cell_type": "code",
   "execution_count": 13,
   "metadata": {},
   "outputs": [
    {
     "name": "stdout",
     "output_type": "stream",
     "text": [
      "Fitting 5 folds for each of 1 candidates, totalling 5 fits\n",
      "CPU times: total: 484 ms\n",
      "Wall time: 2.99 s\n"
     ]
    }
   ],
   "source": [
    "%%time\n",
    "LR_168lags_rmse_cv, LR_168lags_best_params, LR_168lags_best_model = regressor_cv(\n",
    "    pipe_lr,\n",
    "    {},\n",
    "    X_train_168, \n",
    "    y_train_168\n",
    ")"
   ]
  },
  {
   "cell_type": "markdown",
   "metadata": {},
   "source": [
    "**LightGBM Regressor 24 lags** "
   ]
  },
  {
   "cell_type": "code",
   "execution_count": 14,
   "metadata": {
    "scrolled": true
   },
   "outputs": [
    {
     "name": "stdout",
     "output_type": "stream",
     "text": [
      "Fitting 5 folds for each of 1 candidates, totalling 5 fits\n",
      "[LightGBM] [Warning] Unknown parameter: lgbm__max_depth\n",
      "[LightGBM] [Warning] Unknown parameter: lgbm__learning_rate\n",
      "[LightGBM] [Warning] Unknown parameter: lgbm__iterations\n",
      "CPU times: total: 1.91 s\n",
      "Wall time: 3.77 s\n"
     ]
    }
   ],
   "source": [
    "%%time\n",
    "params_lgbm = {\n",
    "    'lgbm__iterations':[100],\n",
    "    'lgbm__max_depth': [5],\n",
    "    'lgbm__learning_rate':[0.01]\n",
    "}\n",
    "LGBM_24lags_rmse_cv, LGBM_24lags_best_params, LGBM_24lags_best_model = regressor_cv(\n",
    "    LGBMRegressor(random_state=RS),\n",
    "    params_lgbm,\n",
    "    X_train_24, \n",
    "    y_train_24\n",
    ")"
   ]
  },
  {
   "cell_type": "markdown",
   "metadata": {},
   "source": [
    "**LightGBM Regressor 168 lags** "
   ]
  },
  {
   "cell_type": "code",
   "execution_count": 15,
   "metadata": {
    "scrolled": true
   },
   "outputs": [
    {
     "name": "stdout",
     "output_type": "stream",
     "text": [
      "Fitting 5 folds for each of 1 candidates, totalling 5 fits\n",
      "CPU times: total: 5.36 s\n",
      "Wall time: 5.49 s\n"
     ]
    }
   ],
   "source": [
    "%%time\n",
    "params_lgbm = {\n",
    "    'lgbm__iterations':[100],\n",
    "    'lgbm__max_depth': [5],\n",
    "    'lgbm__learning_rate':[0.01]\n",
    "}\n",
    "LGBM_168lags_rmse_cv, LGBM_168lags_best_params, LGBM_168lags_best_model = regressor_cv(\n",
    "    LGBMRegressor(random_state=RS),\n",
    "    params_lgbm,\n",
    "    X_train_168, \n",
    "    y_train_168\n",
    ")"
   ]
  },
  {
   "cell_type": "markdown",
   "metadata": {
    "tags": []
   },
   "source": [
    "### 3.3 Вывод"
   ]
  },
  {
   "cell_type": "markdown",
   "metadata": {},
   "source": [
    "выведем результаты в таблицу"
   ]
  },
  {
   "cell_type": "code",
   "execution_count": 16,
   "metadata": {
    "scrolled": true
   },
   "outputs": [
    {
     "data": {
      "text/html": [
       "<div>\n",
       "<style scoped>\n",
       "    .dataframe tbody tr th:only-of-type {\n",
       "        vertical-align: middle;\n",
       "    }\n",
       "\n",
       "    .dataframe tbody tr th {\n",
       "        vertical-align: top;\n",
       "    }\n",
       "\n",
       "    .dataframe thead th {\n",
       "        text-align: right;\n",
       "    }\n",
       "</style>\n",
       "<table border=\"1\" class=\"dataframe\">\n",
       "  <thead>\n",
       "    <tr style=\"text-align: right;\">\n",
       "      <th></th>\n",
       "      <th>RandomForest</th>\n",
       "      <th>LinearRegression</th>\n",
       "      <th>LightGBM</th>\n",
       "    </tr>\n",
       "  </thead>\n",
       "  <tbody>\n",
       "    <tr>\n",
       "      <th>RMSE valid 24 lags</th>\n",
       "      <td>25.09</td>\n",
       "      <td>27.14</td>\n",
       "      <td>25.12</td>\n",
       "    </tr>\n",
       "    <tr>\n",
       "      <th>RMSE valid 168 lags</th>\n",
       "      <td>22.95</td>\n",
       "      <td>22.69</td>\n",
       "      <td>23.39</td>\n",
       "    </tr>\n",
       "  </tbody>\n",
       "</table>\n",
       "</div>"
      ],
      "text/plain": [
       "                     RandomForest  LinearRegression  LightGBM\n",
       "RMSE valid 24 lags          25.09             27.14     25.12\n",
       "RMSE valid 168 lags         22.95             22.69     23.39"
      ]
     },
     "execution_count": 16,
     "metadata": {},
     "output_type": "execute_result"
    }
   ],
   "source": [
    "pd.DataFrame({\n",
    "    'RandomForest':[RF_24lags_rmse_cv, \n",
    "                    RF_168lags_rmse_cv],\n",
    "    'LinearRegression':[LR_24lags_rmse_cv,\n",
    "                        LR_168lags_rmse_cv],\n",
    "    'LightGBM':[LGBM_24lags_rmse_cv, \n",
    "                LGBM_168lags_rmse_cv]\n",
    "    },\n",
    "    index=['RMSE valid 24 lags',\n",
    "          'RMSE valid 168 lags']\n",
    ")"
   ]
  },
  {
   "cell_type": "markdown",
   "metadata": {},
   "source": [
    "**Вывод по пункту:** \n",
    "\n",
    "- по итогу обучения моделей лучшее значение метрики на кросс-валидации показала линейная регрессия с 168 лагами. Далее проверим ее на тестовой выборке. "
   ]
  },
  {
   "cell_type": "markdown",
   "metadata": {
    "tags": []
   },
   "source": [
    "## 4. Тестирование"
   ]
  },
  {
   "cell_type": "markdown",
   "metadata": {},
   "source": [
    "выведем итоговые показатели модели с лучшим значением метрики и визуализацию"
   ]
  },
  {
   "cell_type": "code",
   "execution_count": 17,
   "metadata": {},
   "outputs": [
    {
     "data": {
      "text/html": [
       "<div>\n",
       "<style scoped>\n",
       "    .dataframe tbody tr th:only-of-type {\n",
       "        vertical-align: middle;\n",
       "    }\n",
       "\n",
       "    .dataframe tbody tr th {\n",
       "        vertical-align: top;\n",
       "    }\n",
       "\n",
       "    .dataframe thead th {\n",
       "        text-align: right;\n",
       "    }\n",
       "</style>\n",
       "<table border=\"1\" class=\"dataframe\">\n",
       "  <thead>\n",
       "    <tr style=\"text-align: right;\">\n",
       "      <th></th>\n",
       "      <th>Linear Regression 168 lags</th>\n",
       "    </tr>\n",
       "  </thead>\n",
       "  <tbody>\n",
       "    <tr>\n",
       "      <th>rmse valid</th>\n",
       "      <td>22.69</td>\n",
       "    </tr>\n",
       "    <tr>\n",
       "      <th>rmse test</th>\n",
       "      <td>34.26</td>\n",
       "    </tr>\n",
       "  </tbody>\n",
       "</table>\n",
       "</div>"
      ],
      "text/plain": [
       "            Linear Regression 168 lags\n",
       "rmse valid                       22.69\n",
       "rmse test                        34.26"
      ]
     },
     "metadata": {},
     "output_type": "display_data"
    },
    {
     "name": "stdout",
     "output_type": "stream",
     "text": [
      "----------------------------------------------------------------------------------------------------------------------------------------------------------------\n"
     ]
    },
    {
     "data": {
      "image/png": "[encoded data removed]",
      "text/plain": [
       "<Figure size 1296x432 with 1 Axes>"
      ]
     },
     "metadata": {
      "needs_background": "light"
     },
     "output_type": "display_data"
    }
   ],
   "source": [
    "LR_168lags_rmse_test = round(mean_squared_error(\n",
    "    y_test_168,LR_168lags_best_model.predict(X_test_168),squared=False),2\n",
    ")\n",
    "\n",
    "display(pd.DataFrame({\n",
    "    'Linear Regression 168 lags':\n",
    "                 [LR_168lags_rmse_cv,\n",
    "                  LR_168lags_rmse_test]\n",
    "},\n",
    "    index=['rmse valid',\n",
    "           'rmse test']\n",
    "        )\n",
    ")\n",
    "\n",
    "print('-'*160)\n",
    "plt.subplots(figsize=(18,6))\n",
    "plt.plot(y_test_168.index, y_test_168, label=\"реальность\")\n",
    "plt.plot(y_test_168.index, LR_168lags_best_model.predict(X_test_168), label=\"предсказанния\")\n",
    "plt.title(\"действительные и предсказанные значения на тесте\")\n",
    "plt.xlabel(\"период\")\n",
    "plt.ylabel(\"количество заказов\")\n",
    "plt.legend()\n",
    "plt.grid()"
   ]
  },
  {
   "cell_type": "markdown",
   "metadata": {},
   "source": [
    "**Вывод по тестированию лучшей модели:**\n",
    "\n",
    "- лучшая модель показала отличный результат на тестовой выборке, учитывая разницу предсказаний на кросс-валидации и тестовой выборки;\n",
    "- на графике видно, что лучшая модель большей частью предсказывает целевой признак правильно; в большинстве случаев модель ошибается в пиковые нагрузки, в остальных случаях в краткосрочных всплесках заказов. "
   ]
  },
  {
   "cell_type": "markdown",
   "metadata": {
    "tags": []
   },
   "source": [
    "## 5. Вывод по проекту"
   ]
  },
  {
   "cell_type": "markdown",
   "metadata": {},
   "source": [
    "Мы работаем с заказом компании \"Чётенькое такси\". Компания предоставила нам исторические даные за последние полгода о заказах такси в аэропортах, чтобы мы могли на их основе предсказать требуемое количество машин такси на ближайший час. Нашей задачей является разработка и отладка модели предсказания со значением метрики RMSE не более 48, т.е. итоговая модель должна ошибаться не более чем на 48 заказов в час. \n",
    "\n",
    "В течение работы над проектом были проработаны следующие этапы:\n",
    "\n",
    "- изучены и предобработаны данные, представляющие собой временной ряд;\n",
    "- проведено ресемплирование временного ряда но часам и дням недели;\n",
    "- на основе пункта выше проведены визуализация данных и их анализ, выявлены часовая и недельная сезонность;\n",
    "- на основе проведенного анализа было предложено 2 варианта создания признаков для обучения моделей;\n",
    "- была создана функция, которая создает признаки на основе обоих вариантов выявленной сезонности в данных, преобразует датасет, производит его разделение на выборки;\n",
    "- проведена кросс-валидация данных на разных моделях с перебором параметров, получены значения метрик для каждого варианта модели;\n",
    "- на основе полученных значений метрик моделей выбрана модель с лучшим показателем и осуществлена ее проверка на тестовых данных;\n",
    "- результаты на тестовых данных выведены в таблицу и визуализированы, подведен итоговый вывод.\n",
    "\n",
    "По результатам работы проекта можно сказать, что с работой над временными рядами все модели показали отличный результат с минимальной разницой между собой по изучаемой метрике. Это говорит о том, что была проведена корректная обработка данных и обучение моделей. Для решения поставленной задачи нам подходят все модели, но по условию тз требуется только одна - линейная регрессия, т.к. она показала лучшее значение метрики RMSE.\n",
    "\n",
    "Для дальнейшего использования выбранной модели требуется ее дальнейшая доработка и оптимизация для работы на платформе заказчика. "
   ]
  },
  {
   "cell_type": "code",
   "execution_count": null,
   "metadata": {},
   "outputs": [],
   "source": []
  }
 ],
 "metadata": {
  "ExecuteTimeLog": [
   {
    "duration": 1870,
    "start_time": "2022-12-29T17:20:07.315Z"
   },
   {
    "duration": 125,
    "start_time": "2022-12-29T17:20:26.742Z"
   },
   {
    "duration": 116,
    "start_time": "2022-12-29T17:20:45.580Z"
   },
   {
    "duration": 337,
    "start_time": "2022-12-29T17:21:19.735Z"
   },
   {
    "duration": 960,
    "start_time": "2022-12-29T17:22:39.883Z"
   },
   {
    "duration": 186,
    "start_time": "2022-12-29T17:23:23.378Z"
   },
   {
    "duration": 179,
    "start_time": "2022-12-29T17:23:31.919Z"
   },
   {
    "duration": 192,
    "start_time": "2022-12-29T17:26:23.266Z"
   },
   {
    "duration": 307,
    "start_time": "2022-12-29T17:27:35.718Z"
   },
   {
    "duration": 256,
    "start_time": "2022-12-29T18:45:18.497Z"
   },
   {
    "duration": 179,
    "start_time": "2022-12-29T18:45:28.212Z"
   },
   {
    "duration": 265,
    "start_time": "2022-12-29T19:01:02.632Z"
   },
   {
    "duration": 178,
    "start_time": "2022-12-29T19:03:57.655Z"
   },
   {
    "duration": 156,
    "start_time": "2022-12-29T19:05:28.396Z"
   },
   {
    "duration": 73,
    "start_time": "2022-12-29T19:06:10.061Z"
   },
   {
    "duration": 228,
    "start_time": "2022-12-29T19:06:14.033Z"
   },
   {
    "duration": 176,
    "start_time": "2022-12-29T19:06:44.211Z"
   },
   {
    "duration": 207,
    "start_time": "2022-12-29T19:07:03.954Z"
   },
   {
    "duration": 194,
    "start_time": "2022-12-29T19:07:30.560Z"
   },
   {
    "duration": 164,
    "start_time": "2022-12-29T19:07:39.572Z"
   },
   {
    "duration": 169,
    "start_time": "2022-12-29T19:07:46.620Z"
   },
   {
    "duration": 206,
    "start_time": "2022-12-29T19:11:56.366Z"
   },
   {
    "duration": 312,
    "start_time": "2022-12-29T19:12:18.713Z"
   },
   {
    "duration": 1480,
    "start_time": "2022-12-29T19:12:28.535Z"
   },
   {
    "duration": 144,
    "start_time": "2022-12-29T19:12:30.016Z"
   },
   {
    "duration": 29,
    "start_time": "2022-12-29T19:12:30.162Z"
   },
   {
    "duration": 284,
    "start_time": "2022-12-29T19:12:30.193Z"
   },
   {
    "duration": 968,
    "start_time": "2022-12-29T19:12:30.479Z"
   },
   {
    "duration": 185,
    "start_time": "2022-12-29T19:12:31.449Z"
   },
   {
    "duration": 226,
    "start_time": "2022-12-29T19:12:31.636Z"
   },
   {
    "duration": 156,
    "start_time": "2022-12-29T19:13:23.199Z"
   },
   {
    "duration": 166,
    "start_time": "2022-12-29T19:13:32.664Z"
   },
   {
    "duration": 304,
    "start_time": "2022-12-29T19:13:39.378Z"
   },
   {
    "duration": 225,
    "start_time": "2022-12-29T19:13:43.265Z"
   },
   {
    "duration": 360,
    "start_time": "2022-12-29T19:14:03.855Z"
   },
   {
    "duration": 233,
    "start_time": "2022-12-29T19:14:21.017Z"
   },
   {
    "duration": 201,
    "start_time": "2022-12-29T19:14:28.516Z"
   },
   {
    "duration": 206,
    "start_time": "2022-12-29T19:14:42.663Z"
   },
   {
    "duration": 185,
    "start_time": "2022-12-29T19:14:51.172Z"
   },
   {
    "duration": 199,
    "start_time": "2022-12-29T19:15:13.098Z"
   },
   {
    "duration": 281,
    "start_time": "2022-12-29T19:16:04.145Z"
   },
   {
    "duration": 210,
    "start_time": "2022-12-29T19:21:20.220Z"
   },
   {
    "duration": 187,
    "start_time": "2022-12-29T19:21:25.056Z"
   },
   {
    "duration": 211,
    "start_time": "2022-12-29T19:22:29.662Z"
   },
   {
    "duration": 202,
    "start_time": "2022-12-29T19:23:36.351Z"
   },
   {
    "duration": 162,
    "start_time": "2022-12-29T19:24:50.295Z"
   },
   {
    "duration": 193,
    "start_time": "2022-12-29T19:25:39.373Z"
   },
   {
    "duration": 195,
    "start_time": "2022-12-29T19:25:44.647Z"
   },
   {
    "duration": 212,
    "start_time": "2022-12-29T19:26:32.864Z"
   },
   {
    "duration": 331,
    "start_time": "2022-12-29T19:26:49.295Z"
   },
   {
    "duration": 224,
    "start_time": "2022-12-29T19:27:02.337Z"
   },
   {
    "duration": 214,
    "start_time": "2022-12-29T19:27:33.786Z"
   },
   {
    "duration": 225,
    "start_time": "2022-12-29T19:27:42.298Z"
   },
   {
    "duration": 199,
    "start_time": "2022-12-29T19:27:55.208Z"
   },
   {
    "duration": 194,
    "start_time": "2022-12-29T19:28:10.650Z"
   },
   {
    "duration": 300,
    "start_time": "2022-12-29T19:34:04.901Z"
   },
   {
    "duration": 279,
    "start_time": "2022-12-29T19:34:18.870Z"
   },
   {
    "duration": 254,
    "start_time": "2022-12-29T19:34:33.729Z"
   },
   {
    "duration": 72,
    "start_time": "2022-12-29T19:39:18.772Z"
   },
   {
    "duration": 71,
    "start_time": "2022-12-29T19:39:26.444Z"
   },
   {
    "duration": 72,
    "start_time": "2022-12-29T19:39:33.229Z"
   },
   {
    "duration": 230,
    "start_time": "2022-12-29T19:40:26.841Z"
   },
   {
    "duration": 236,
    "start_time": "2022-12-29T19:40:51.503Z"
   },
   {
    "duration": 248,
    "start_time": "2022-12-29T19:41:18.622Z"
   },
   {
    "duration": 213,
    "start_time": "2022-12-29T19:41:35.419Z"
   },
   {
    "duration": 310,
    "start_time": "2022-12-29T19:41:49.201Z"
   },
   {
    "duration": 249,
    "start_time": "2022-12-29T19:41:54.131Z"
   },
   {
    "duration": 238,
    "start_time": "2022-12-29T19:42:17.857Z"
   },
   {
    "duration": 202,
    "start_time": "2022-12-29T19:43:40.701Z"
   },
   {
    "duration": 209,
    "start_time": "2022-12-29T19:43:44.824Z"
   },
   {
    "duration": 231,
    "start_time": "2022-12-29T19:43:54.746Z"
   },
   {
    "duration": 216,
    "start_time": "2022-12-29T19:44:29.223Z"
   },
   {
    "duration": 213,
    "start_time": "2022-12-29T19:44:39.195Z"
   },
   {
    "duration": 247,
    "start_time": "2022-12-29T19:44:45.842Z"
   },
   {
    "duration": 5,
    "start_time": "2022-12-29T19:46:46.485Z"
   },
   {
    "duration": 23,
    "start_time": "2022-12-29T20:03:20.701Z"
   },
   {
    "duration": 19,
    "start_time": "2022-12-29T20:10:12.849Z"
   },
   {
    "duration": 112,
    "start_time": "2022-12-29T20:10:50.848Z"
   },
   {
    "duration": 24,
    "start_time": "2022-12-29T20:10:59.478Z"
   },
   {
    "duration": 30741,
    "start_time": "2022-12-29T20:11:43.050Z"
   },
   {
    "duration": 20,
    "start_time": "2022-12-29T20:12:25.335Z"
   },
   {
    "duration": 16,
    "start_time": "2022-12-29T20:12:31.900Z"
   },
   {
    "duration": 52,
    "start_time": "2022-12-29T20:12:39.244Z"
   },
   {
    "duration": 48,
    "start_time": "2022-12-29T20:12:56.397Z"
   },
   {
    "duration": 16,
    "start_time": "2022-12-29T20:13:05.361Z"
   },
   {
    "duration": 44,
    "start_time": "2022-12-29T20:13:40.167Z"
   },
   {
    "duration": 11,
    "start_time": "2022-12-29T20:13:46.394Z"
   },
   {
    "duration": 13,
    "start_time": "2022-12-29T20:13:52.019Z"
   },
   {
    "duration": 13,
    "start_time": "2022-12-29T20:13:58.543Z"
   },
   {
    "duration": 14,
    "start_time": "2022-12-29T20:13:59.721Z"
   },
   {
    "duration": 31,
    "start_time": "2022-12-29T20:14:14.624Z"
   },
   {
    "duration": 29,
    "start_time": "2022-12-29T20:14:23.294Z"
   },
   {
    "duration": 1527,
    "start_time": "2022-12-29T20:14:29.530Z"
   },
   {
    "duration": 145,
    "start_time": "2022-12-29T20:14:31.059Z"
   },
   {
    "duration": 32,
    "start_time": "2022-12-29T20:14:31.206Z"
   },
   {
    "duration": 263,
    "start_time": "2022-12-29T20:14:31.240Z"
   },
   {
    "duration": 1023,
    "start_time": "2022-12-29T20:14:31.505Z"
   },
   {
    "duration": 178,
    "start_time": "2022-12-29T20:14:32.529Z"
   },
   {
    "duration": 219,
    "start_time": "2022-12-29T20:14:32.709Z"
   },
   {
    "duration": 235,
    "start_time": "2022-12-29T20:14:32.929Z"
   },
   {
    "duration": 234,
    "start_time": "2022-12-29T20:14:33.165Z"
   },
   {
    "duration": 51,
    "start_time": "2022-12-29T20:14:33.401Z"
   },
   {
    "duration": 10,
    "start_time": "2022-12-29T20:14:33.453Z"
   },
   {
    "duration": 123,
    "start_time": "2022-12-29T20:14:43.904Z"
   },
   {
    "duration": 23,
    "start_time": "2022-12-29T20:14:48.613Z"
   },
   {
    "duration": 85,
    "start_time": "2022-12-29T20:15:02.856Z"
   },
   {
    "duration": 30,
    "start_time": "2022-12-29T20:15:15.040Z"
   },
   {
    "duration": 13,
    "start_time": "2022-12-29T20:15:22.699Z"
   },
   {
    "duration": 1444,
    "start_time": "2022-12-29T20:15:34.145Z"
   },
   {
    "duration": 81,
    "start_time": "2022-12-29T20:15:35.590Z"
   },
   {
    "duration": 31,
    "start_time": "2022-12-29T20:15:35.673Z"
   },
   {
    "duration": 278,
    "start_time": "2022-12-29T20:15:35.705Z"
   },
   {
    "duration": 1035,
    "start_time": "2022-12-29T20:15:35.985Z"
   },
   {
    "duration": 190,
    "start_time": "2022-12-29T20:15:37.021Z"
   },
   {
    "duration": 232,
    "start_time": "2022-12-29T20:15:37.212Z"
   },
   {
    "duration": 231,
    "start_time": "2022-12-29T20:15:37.445Z"
   },
   {
    "duration": 241,
    "start_time": "2022-12-29T20:15:37.678Z"
   },
   {
    "duration": 42,
    "start_time": "2022-12-29T20:15:37.922Z"
   },
   {
    "duration": 10,
    "start_time": "2022-12-29T20:15:37.966Z"
   },
   {
    "duration": 119,
    "start_time": "2022-12-29T20:15:49.682Z"
   },
   {
    "duration": 22,
    "start_time": "2022-12-29T20:15:54.409Z"
   },
   {
    "duration": 1915,
    "start_time": "2022-12-29T20:16:24.066Z"
   },
   {
    "duration": 89,
    "start_time": "2022-12-29T20:16:25.984Z"
   },
   {
    "duration": 36,
    "start_time": "2022-12-29T20:16:26.075Z"
   },
   {
    "duration": 260,
    "start_time": "2022-12-29T20:16:26.112Z"
   },
   {
    "duration": 1092,
    "start_time": "2022-12-29T20:16:26.375Z"
   },
   {
    "duration": 164,
    "start_time": "2022-12-29T20:16:27.469Z"
   },
   {
    "duration": 207,
    "start_time": "2022-12-29T20:16:27.634Z"
   },
   {
    "duration": 236,
    "start_time": "2022-12-29T20:16:27.842Z"
   },
   {
    "duration": 235,
    "start_time": "2022-12-29T20:16:28.080Z"
   },
   {
    "duration": 47,
    "start_time": "2022-12-29T20:16:28.316Z"
   },
   {
    "duration": 132,
    "start_time": "2022-12-29T20:16:34.949Z"
   },
   {
    "duration": 39,
    "start_time": "2022-12-29T20:16:42.497Z"
   },
   {
    "duration": 1435,
    "start_time": "2022-12-29T20:16:48.670Z"
   },
   {
    "duration": 66,
    "start_time": "2022-12-29T20:16:50.107Z"
   },
   {
    "duration": 32,
    "start_time": "2022-12-29T20:16:50.174Z"
   },
   {
    "duration": 279,
    "start_time": "2022-12-29T20:16:50.208Z"
   },
   {
    "duration": 950,
    "start_time": "2022-12-29T20:16:50.489Z"
   },
   {
    "duration": 181,
    "start_time": "2022-12-29T20:16:51.441Z"
   },
   {
    "duration": 240,
    "start_time": "2022-12-29T20:16:51.624Z"
   },
   {
    "duration": 233,
    "start_time": "2022-12-29T20:16:51.865Z"
   },
   {
    "duration": 252,
    "start_time": "2022-12-29T20:16:52.100Z"
   },
   {
    "duration": 50,
    "start_time": "2022-12-29T20:16:52.353Z"
   },
   {
    "duration": 5,
    "start_time": "2022-12-29T20:17:05.636Z"
   },
   {
    "duration": 10,
    "start_time": "2022-12-29T20:20:20.832Z"
   },
   {
    "duration": 21,
    "start_time": "2022-12-29T20:22:31.009Z"
   },
   {
    "duration": 4,
    "start_time": "2022-12-29T20:22:58.780Z"
   },
   {
    "duration": 193,
    "start_time": "2022-12-29T20:23:43.638Z"
   },
   {
    "duration": 7,
    "start_time": "2022-12-29T20:26:13.804Z"
   },
   {
    "duration": 32,
    "start_time": "2022-12-29T20:26:15.903Z"
   },
   {
    "duration": 6,
    "start_time": "2022-12-29T20:26:56.080Z"
   },
   {
    "duration": 93,
    "start_time": "2022-12-29T20:27:00.305Z"
   },
   {
    "duration": 3,
    "start_time": "2022-12-29T20:30:05.641Z"
   },
   {
    "duration": 70,
    "start_time": "2022-12-29T20:31:37.207Z"
   },
   {
    "duration": 6,
    "start_time": "2022-12-29T20:31:47.234Z"
   },
   {
    "duration": 11,
    "start_time": "2022-12-29T20:32:23.675Z"
   },
   {
    "duration": 19,
    "start_time": "2022-12-29T20:33:52.107Z"
   },
   {
    "duration": 507,
    "start_time": "2022-12-29T20:33:59.964Z"
   },
   {
    "duration": 1437,
    "start_time": "2022-12-29T20:35:41.156Z"
   },
   {
    "duration": 75,
    "start_time": "2022-12-29T20:35:42.595Z"
   },
   {
    "duration": 30,
    "start_time": "2022-12-29T20:35:42.672Z"
   },
   {
    "duration": 273,
    "start_time": "2022-12-29T20:35:42.704Z"
   },
   {
    "duration": 968,
    "start_time": "2022-12-29T20:35:42.979Z"
   },
   {
    "duration": 197,
    "start_time": "2022-12-29T20:35:43.949Z"
   },
   {
    "duration": 284,
    "start_time": "2022-12-29T20:35:44.148Z"
   },
   {
    "duration": 241,
    "start_time": "2022-12-29T20:35:44.434Z"
   },
   {
    "duration": 271,
    "start_time": "2022-12-29T20:35:44.676Z"
   },
   {
    "duration": 7,
    "start_time": "2022-12-29T20:35:44.949Z"
   },
   {
    "duration": 127,
    "start_time": "2022-12-29T20:35:44.957Z"
   },
   {
    "duration": 0,
    "start_time": "2022-12-29T20:35:45.086Z"
   },
   {
    "duration": 503,
    "start_time": "2022-12-29T20:36:19.998Z"
   },
   {
    "duration": 10,
    "start_time": "2022-12-29T20:37:34.474Z"
   },
   {
    "duration": 7,
    "start_time": "2022-12-29T20:37:39.240Z"
   },
   {
    "duration": 506,
    "start_time": "2022-12-29T20:37:39.637Z"
   },
   {
    "duration": 1166,
    "start_time": "2022-12-29T20:38:38.657Z"
   },
   {
    "duration": 1299,
    "start_time": "2022-12-29T20:38:51.032Z"
   },
   {
    "duration": 12,
    "start_time": "2022-12-29T20:40:07.961Z"
   },
   {
    "duration": 811,
    "start_time": "2022-12-29T20:40:15.913Z"
   },
   {
    "duration": 34285,
    "start_time": "2022-12-29T20:40:22.329Z"
   },
   {
    "duration": 4,
    "start_time": "2022-12-29T20:42:36.957Z"
   },
   {
    "duration": 80924,
    "start_time": "2022-12-29T20:42:48.735Z"
   },
   {
    "duration": 0,
    "start_time": "2022-12-29T20:44:09.662Z"
   },
   {
    "duration": 10,
    "start_time": "2022-12-29T20:44:13.956Z"
   },
   {
    "duration": 4,
    "start_time": "2022-12-29T20:44:23.480Z"
   },
   {
    "duration": 0,
    "start_time": "2022-12-29T20:45:16.165Z"
   },
   {
    "duration": 0,
    "start_time": "2022-12-29T20:45:16.167Z"
   },
   {
    "duration": 10,
    "start_time": "2022-12-29T20:45:25.079Z"
   },
   {
    "duration": 20,
    "start_time": "2022-12-29T20:45:31.041Z"
   },
   {
    "duration": 11244,
    "start_time": "2022-12-29T20:45:35.613Z"
   },
   {
    "duration": 5840,
    "start_time": "2022-12-29T20:45:56.098Z"
   },
   {
    "duration": 19123,
    "start_time": "2022-12-29T20:46:04.234Z"
   },
   {
    "duration": 184016,
    "start_time": "2022-12-29T20:46:43.416Z"
   },
   {
    "duration": 2810,
    "start_time": "2022-12-29T20:49:53.730Z"
   },
   {
    "duration": 1468,
    "start_time": "2022-12-29T21:33:28.302Z"
   },
   {
    "duration": 189,
    "start_time": "2022-12-29T21:33:29.772Z"
   },
   {
    "duration": 27,
    "start_time": "2022-12-29T21:33:29.963Z"
   },
   {
    "duration": 240,
    "start_time": "2022-12-29T21:33:29.992Z"
   },
   {
    "duration": 978,
    "start_time": "2022-12-29T21:33:30.234Z"
   },
   {
    "duration": 162,
    "start_time": "2022-12-29T21:33:31.213Z"
   },
   {
    "duration": 199,
    "start_time": "2022-12-29T21:33:31.377Z"
   },
   {
    "duration": 218,
    "start_time": "2022-12-29T21:33:31.578Z"
   },
   {
    "duration": 234,
    "start_time": "2022-12-29T21:33:31.798Z"
   },
   {
    "duration": 7,
    "start_time": "2022-12-29T21:33:32.034Z"
   },
   {
    "duration": 34238,
    "start_time": "2022-12-29T21:33:32.043Z"
   },
   {
    "duration": 845,
    "start_time": "2022-12-29T21:34:06.283Z"
   },
   {
    "duration": 186343,
    "start_time": "2022-12-29T21:34:07.217Z"
   },
   {
    "duration": 1958,
    "start_time": "2022-12-29T21:37:13.562Z"
   },
   {
    "duration": 96,
    "start_time": "2022-12-29T21:37:15.522Z"
   },
   {
    "duration": 8,
    "start_time": "2022-12-29T21:37:57.438Z"
   },
   {
    "duration": 3,
    "start_time": "2022-12-29T21:38:43.138Z"
   },
   {
    "duration": 12,
    "start_time": "2022-12-29T21:38:57.174Z"
   },
   {
    "duration": 8,
    "start_time": "2022-12-29T21:39:30.699Z"
   },
   {
    "duration": 10,
    "start_time": "2022-12-29T21:39:52.251Z"
   },
   {
    "duration": 8,
    "start_time": "2022-12-29T21:40:02.587Z"
   },
   {
    "duration": 7,
    "start_time": "2022-12-29T21:43:03.389Z"
   },
   {
    "duration": 1925,
    "start_time": "2022-12-29T21:43:09.093Z"
   },
   {
    "duration": 6,
    "start_time": "2022-12-29T21:43:30.997Z"
   },
   {
    "duration": 107,
    "start_time": "2022-12-29T21:43:44.379Z"
   },
   {
    "duration": 6,
    "start_time": "2022-12-29T21:44:05.903Z"
   },
   {
    "duration": 2315,
    "start_time": "2022-12-29T21:44:16.105Z"
   },
   {
    "duration": 11,
    "start_time": "2022-12-29T21:44:21.870Z"
   },
   {
    "duration": 231,
    "start_time": "2022-12-29T21:44:38.712Z"
   },
   {
    "duration": 7,
    "start_time": "2022-12-29T21:45:44.990Z"
   },
   {
    "duration": 47,
    "start_time": "2023-01-02T21:30:13.474Z"
   },
   {
    "duration": 1535,
    "start_time": "2023-01-02T21:30:26.585Z"
   },
   {
    "duration": 116,
    "start_time": "2023-01-02T21:30:31.421Z"
   },
   {
    "duration": 44,
    "start_time": "2023-01-02T21:44:23.426Z"
   },
   {
    "duration": 22,
    "start_time": "2023-01-02T21:44:28.841Z"
   },
   {
    "duration": 1279,
    "start_time": "2023-01-02T21:44:40.363Z"
   },
   {
    "duration": 48,
    "start_time": "2023-01-02T21:44:45.050Z"
   },
   {
    "duration": 21,
    "start_time": "2023-01-02T21:44:49.593Z"
   },
   {
    "duration": 1722,
    "start_time": "2023-01-03T09:06:54.661Z"
   },
   {
    "duration": 153,
    "start_time": "2023-01-03T09:06:59.819Z"
   },
   {
    "duration": 31,
    "start_time": "2023-01-03T09:07:03.734Z"
   },
   {
    "duration": 344,
    "start_time": "2023-01-03T09:07:09.699Z"
   },
   {
    "duration": 4,
    "start_time": "2023-01-03T09:17:24.416Z"
   },
   {
    "duration": 139,
    "start_time": "2023-01-03T09:17:42.978Z"
   },
   {
    "duration": 233,
    "start_time": "2023-01-03T09:18:22.025Z"
   },
   {
    "duration": 7710,
    "start_time": "2023-01-03T09:22:35.849Z"
   },
   {
    "duration": 1623,
    "start_time": "2023-01-03T09:23:28.971Z"
   },
   {
    "duration": 49,
    "start_time": "2023-01-03T09:23:32.991Z"
   },
   {
    "duration": 28,
    "start_time": "2023-01-03T09:23:37.130Z"
   },
   {
    "duration": 321,
    "start_time": "2023-01-03T09:23:41.287Z"
   },
   {
    "duration": 7602,
    "start_time": "2023-01-03T09:23:46.265Z"
   },
   {
    "duration": 7252,
    "start_time": "2023-01-03T09:24:36.173Z"
   },
   {
    "duration": 7638,
    "start_time": "2023-01-03T09:24:44.617Z"
   },
   {
    "duration": 20,
    "start_time": "2023-01-03T09:26:22.551Z"
   },
   {
    "duration": 7212,
    "start_time": "2023-01-03T09:26:49.907Z"
   },
   {
    "duration": 1395,
    "start_time": "2023-01-03T09:28:23.308Z"
   },
   {
    "duration": 48,
    "start_time": "2023-01-03T09:28:28.580Z"
   },
   {
    "duration": 25,
    "start_time": "2023-01-03T09:28:33.510Z"
   },
   {
    "duration": 320,
    "start_time": "2023-01-03T09:28:38.023Z"
   },
   {
    "duration": 132,
    "start_time": "2023-01-03T09:28:47.645Z"
   },
   {
    "duration": 13,
    "start_time": "2023-01-03T09:29:45.755Z"
   },
   {
    "duration": 14,
    "start_time": "2023-01-03T09:30:27.647Z"
   },
   {
    "duration": 17,
    "start_time": "2023-01-03T09:33:23.370Z"
   },
   {
    "duration": 14,
    "start_time": "2023-01-03T09:33:43.658Z"
   },
   {
    "duration": 1502,
    "start_time": "2023-01-03T09:33:53.334Z"
   },
   {
    "duration": 50,
    "start_time": "2023-01-03T09:33:57.920Z"
   },
   {
    "duration": 27,
    "start_time": "2023-01-03T09:34:00.086Z"
   },
   {
    "duration": 317,
    "start_time": "2023-01-03T09:34:05.699Z"
   },
   {
    "duration": 244,
    "start_time": "2023-01-03T09:35:17.575Z"
   },
   {
    "duration": 235,
    "start_time": "2023-01-03T09:35:21.820Z"
   },
   {
    "duration": 137,
    "start_time": "2023-01-03T09:35:45.755Z"
   },
   {
    "duration": 14,
    "start_time": "2023-01-03T09:37:10.575Z"
   },
   {
    "duration": 14,
    "start_time": "2023-01-03T09:39:23.965Z"
   },
   {
    "duration": 1638,
    "start_time": "2023-01-03T09:39:50.044Z"
   },
   {
    "duration": 50,
    "start_time": "2023-01-03T09:39:53.364Z"
   },
   {
    "duration": 26,
    "start_time": "2023-01-03T09:39:55.855Z"
   },
   {
    "duration": 337,
    "start_time": "2023-01-03T09:39:58.245Z"
   },
   {
    "duration": 122,
    "start_time": "2023-01-03T09:40:03.024Z"
   },
   {
    "duration": 12,
    "start_time": "2023-01-03T09:41:35.347Z"
   },
   {
    "duration": 83,
    "start_time": "2023-01-03T09:41:54.938Z"
   },
   {
    "duration": 15,
    "start_time": "2023-01-03T09:42:01.021Z"
   },
   {
    "duration": 204,
    "start_time": "2023-01-03T09:42:10.302Z"
   },
   {
    "duration": 987,
    "start_time": "2023-01-03T09:42:16.505Z"
   },
   {
    "duration": 899,
    "start_time": "2023-01-03T09:42:42.719Z"
   },
   {
    "duration": 20,
    "start_time": "2023-01-03T09:42:48.645Z"
   },
   {
    "duration": 1045,
    "start_time": "2023-01-03T09:42:54.895Z"
   },
   {
    "duration": 1005,
    "start_time": "2023-01-03T09:43:06.364Z"
   },
   {
    "duration": 11,
    "start_time": "2023-01-03T09:44:08.666Z"
   },
   {
    "duration": 14,
    "start_time": "2023-01-03T09:44:19.987Z"
   },
   {
    "duration": 916,
    "start_time": "2023-01-03T09:44:32.613Z"
   },
   {
    "duration": 200,
    "start_time": "2023-01-03T09:50:29.190Z"
   },
   {
    "duration": 1105,
    "start_time": "2023-01-03T09:53:23.181Z"
   },
   {
    "duration": 14,
    "start_time": "2023-01-03T09:57:05.831Z"
   },
   {
    "duration": 17,
    "start_time": "2023-01-03T09:58:22.645Z"
   },
   {
    "duration": 179,
    "start_time": "2023-01-03T09:58:33.599Z"
   },
   {
    "duration": 1054,
    "start_time": "2023-01-03T09:59:06.511Z"
   },
   {
    "duration": 1274,
    "start_time": "2023-01-03T10:01:17.029Z"
   },
   {
    "duration": 202,
    "start_time": "2023-01-03T10:02:07.876Z"
   },
   {
    "duration": 1368,
    "start_time": "2023-01-03T10:02:25.654Z"
   },
   {
    "duration": 207,
    "start_time": "2023-01-03T10:04:25.409Z"
   },
   {
    "duration": 202,
    "start_time": "2023-01-03T10:04:33.234Z"
   },
   {
    "duration": 204,
    "start_time": "2023-01-03T10:04:36.873Z"
   },
   {
    "duration": 203,
    "start_time": "2023-01-03T10:04:40.255Z"
   },
   {
    "duration": 1365,
    "start_time": "2023-01-03T10:04:44.376Z"
   },
   {
    "duration": 1282,
    "start_time": "2023-01-03T10:04:53.856Z"
   },
   {
    "duration": 1223,
    "start_time": "2023-01-03T10:09:36.094Z"
   },
   {
    "duration": 217,
    "start_time": "2023-01-03T10:12:19.174Z"
   },
   {
    "duration": 1504,
    "start_time": "2023-01-03T11:22:54.240Z"
   },
   {
    "duration": 51,
    "start_time": "2023-01-03T11:22:58.183Z"
   },
   {
    "duration": 28,
    "start_time": "2023-01-03T11:23:02.707Z"
   },
   {
    "duration": 20,
    "start_time": "2023-01-03T11:23:26.939Z"
   },
   {
    "duration": 123,
    "start_time": "2023-01-03T11:25:03.755Z"
   },
   {
    "duration": 294,
    "start_time": "2023-01-03T11:25:13.163Z"
   },
   {
    "duration": 1003,
    "start_time": "2023-01-03T11:25:20.805Z"
   },
   {
    "duration": 20,
    "start_time": "2023-01-03T11:25:33.880Z"
   },
   {
    "duration": 1011,
    "start_time": "2023-01-03T11:25:48.939Z"
   },
   {
    "duration": 17,
    "start_time": "2023-01-03T11:26:02.405Z"
   },
   {
    "duration": 180,
    "start_time": "2023-01-03T11:27:05.662Z"
   },
   {
    "duration": 185,
    "start_time": "2023-01-03T11:27:44.926Z"
   },
   {
    "duration": 203,
    "start_time": "2023-01-03T11:28:03.510Z"
   },
   {
    "duration": 213,
    "start_time": "2023-01-03T11:28:23.758Z"
   },
   {
    "duration": 292,
    "start_time": "2023-01-03T11:29:12.815Z"
   },
   {
    "duration": 208,
    "start_time": "2023-01-03T11:29:28.047Z"
   },
   {
    "duration": 211,
    "start_time": "2023-01-03T11:29:32.616Z"
   },
   {
    "duration": 215,
    "start_time": "2023-01-03T11:29:46.885Z"
   },
   {
    "duration": 214,
    "start_time": "2023-01-03T11:29:50.626Z"
   },
   {
    "duration": 239,
    "start_time": "2023-01-03T11:29:57.830Z"
   },
   {
    "duration": 239,
    "start_time": "2023-01-03T11:30:49.786Z"
   },
   {
    "duration": 198,
    "start_time": "2023-01-03T11:31:07.728Z"
   },
   {
    "duration": 1040,
    "start_time": "2023-01-03T11:31:22.933Z"
   },
   {
    "duration": 1391,
    "start_time": "2023-01-03T11:32:55.481Z"
   },
   {
    "duration": 951,
    "start_time": "2023-01-03T11:34:42.871Z"
   },
   {
    "duration": 193,
    "start_time": "2023-01-03T11:35:07.733Z"
   },
   {
    "duration": 499,
    "start_time": "2023-01-03T11:35:58.471Z"
   },
   {
    "duration": 483,
    "start_time": "2023-01-03T11:36:19.683Z"
   },
   {
    "duration": 520,
    "start_time": "2023-01-03T11:36:32.403Z"
   },
   {
    "duration": 498,
    "start_time": "2023-01-03T11:36:44.046Z"
   },
   {
    "duration": 505,
    "start_time": "2023-01-03T11:36:58.628Z"
   },
   {
    "duration": 520,
    "start_time": "2023-01-03T11:37:08.928Z"
   },
   {
    "duration": 229,
    "start_time": "2023-01-03T11:38:03.873Z"
   },
   {
    "duration": 448,
    "start_time": "2023-01-03T11:38:36.084Z"
   },
   {
    "duration": 235,
    "start_time": "2023-01-03T11:39:00.566Z"
   },
   {
    "duration": 377,
    "start_time": "2023-01-03T11:39:10.409Z"
   },
   {
    "duration": 218,
    "start_time": "2023-01-03T11:39:25.297Z"
   },
   {
    "duration": 4195,
    "start_time": "2023-01-03T11:39:38.987Z"
   },
   {
    "duration": 726,
    "start_time": "2023-01-03T11:39:46.804Z"
   },
   {
    "duration": 472,
    "start_time": "2023-01-03T11:40:03.743Z"
   },
   {
    "duration": 216,
    "start_time": "2023-01-03T11:43:19.987Z"
   },
   {
    "duration": 261,
    "start_time": "2023-01-03T11:43:32.889Z"
   },
   {
    "duration": 162,
    "start_time": "2023-01-03T11:44:03.369Z"
   },
   {
    "duration": 159,
    "start_time": "2023-01-03T11:44:10.387Z"
   },
   {
    "duration": 1566,
    "start_time": "2023-01-03T11:44:41.551Z"
   },
   {
    "duration": 54,
    "start_time": "2023-01-03T11:44:45.420Z"
   },
   {
    "duration": 24,
    "start_time": "2023-01-03T11:44:48.371Z"
   },
   {
    "duration": 310,
    "start_time": "2023-01-03T11:44:50.408Z"
   },
   {
    "duration": 1117,
    "start_time": "2023-01-03T11:44:54.488Z"
   },
   {
    "duration": 201,
    "start_time": "2023-01-03T11:44:58.580Z"
   },
   {
    "duration": 262,
    "start_time": "2023-01-03T11:45:02.318Z"
   },
   {
    "duration": 186,
    "start_time": "2023-01-03T11:46:43.502Z"
   },
   {
    "duration": 170,
    "start_time": "2023-01-03T11:46:46.071Z"
   },
   {
    "duration": 274,
    "start_time": "2023-01-03T11:47:06.071Z"
   },
   {
    "duration": 169,
    "start_time": "2023-01-03T11:47:13.369Z"
   },
   {
    "duration": 1124,
    "start_time": "2023-01-03T11:47:32.390Z"
   },
   {
    "duration": 204,
    "start_time": "2023-01-03T11:47:41.169Z"
   },
   {
    "duration": 272,
    "start_time": "2023-01-03T11:47:46.434Z"
   },
   {
    "duration": 259,
    "start_time": "2023-01-03T11:49:00.873Z"
   },
   {
    "duration": 139,
    "start_time": "2023-01-03T11:49:16.985Z"
   },
   {
    "duration": 22,
    "start_time": "2023-01-03T11:49:50.169Z"
   },
   {
    "duration": 20,
    "start_time": "2023-01-03T11:50:01.553Z"
   },
   {
    "duration": 14,
    "start_time": "2023-01-03T11:50:07.394Z"
   },
   {
    "duration": 23,
    "start_time": "2023-01-03T11:50:14.149Z"
   },
   {
    "duration": 16,
    "start_time": "2023-01-03T11:50:19.085Z"
   },
   {
    "duration": 260,
    "start_time": "2023-01-03T11:52:28.186Z"
   },
   {
    "duration": 16,
    "start_time": "2023-01-03T11:52:40.129Z"
   },
   {
    "duration": 18,
    "start_time": "2023-01-03T11:52:46.992Z"
   },
   {
    "duration": 20,
    "start_time": "2023-01-03T11:52:51.099Z"
   },
   {
    "duration": 16,
    "start_time": "2023-01-03T11:52:55.212Z"
   },
   {
    "duration": 17,
    "start_time": "2023-01-03T11:53:02.370Z"
   },
   {
    "duration": 17,
    "start_time": "2023-01-03T11:53:06.172Z"
   },
   {
    "duration": 15,
    "start_time": "2023-01-03T11:53:17.269Z"
   },
   {
    "duration": 17,
    "start_time": "2023-01-03T11:53:31.366Z"
   },
   {
    "duration": 258,
    "start_time": "2023-01-03T11:53:37.069Z"
   },
   {
    "duration": 17,
    "start_time": "2023-01-03T11:53:43.378Z"
   },
   {
    "duration": 27,
    "start_time": "2023-01-03T11:53:49.136Z"
   },
   {
    "duration": 16,
    "start_time": "2023-01-03T11:53:54.977Z"
   },
   {
    "duration": 15,
    "start_time": "2023-01-03T11:57:08.213Z"
   },
   {
    "duration": 14,
    "start_time": "2023-01-03T11:58:14.673Z"
   },
   {
    "duration": 16,
    "start_time": "2023-01-03T11:58:21.594Z"
   },
   {
    "duration": 15,
    "start_time": "2023-01-03T11:59:42.510Z"
   },
   {
    "duration": 20,
    "start_time": "2023-01-03T12:00:07.093Z"
   },
   {
    "duration": 23,
    "start_time": "2023-01-03T12:00:13.938Z"
   },
   {
    "duration": 25,
    "start_time": "2023-01-03T12:00:27.397Z"
   },
   {
    "duration": 329,
    "start_time": "2023-01-03T12:00:38.993Z"
   },
   {
    "duration": 25,
    "start_time": "2023-01-03T12:00:49.593Z"
   },
   {
    "duration": 7,
    "start_time": "2023-01-03T12:02:35.888Z"
   },
   {
    "duration": 18,
    "start_time": "2023-01-03T12:05:55.776Z"
   },
   {
    "duration": 224,
    "start_time": "2023-01-03T12:11:13.648Z"
   },
   {
    "duration": 247,
    "start_time": "2023-01-03T12:11:17.835Z"
   },
   {
    "duration": 228,
    "start_time": "2023-01-03T12:11:24.810Z"
   },
   {
    "duration": 241,
    "start_time": "2023-01-03T12:11:30.685Z"
   },
   {
    "duration": 279,
    "start_time": "2023-01-03T12:11:38.186Z"
   },
   {
    "duration": 230,
    "start_time": "2023-01-03T12:11:42.957Z"
   },
   {
    "duration": 210,
    "start_time": "2023-01-03T12:11:47.221Z"
   },
   {
    "duration": 1632,
    "start_time": "2023-01-03T12:11:56.780Z"
   },
   {
    "duration": 51,
    "start_time": "2023-01-03T12:12:00.295Z"
   },
   {
    "duration": 27,
    "start_time": "2023-01-03T12:12:03.009Z"
   },
   {
    "duration": 319,
    "start_time": "2023-01-03T12:12:05.116Z"
   },
   {
    "duration": 261,
    "start_time": "2023-01-03T12:12:09.858Z"
   },
   {
    "duration": 225,
    "start_time": "2023-01-03T12:12:14.350Z"
   },
   {
    "duration": 243,
    "start_time": "2023-01-03T12:12:18.052Z"
   },
   {
    "duration": 5,
    "start_time": "2023-01-03T12:12:43.236Z"
   },
   {
    "duration": 91,
    "start_time": "2023-01-03T12:12:43.244Z"
   },
   {
    "duration": 40,
    "start_time": "2023-01-03T12:12:43.336Z"
   },
   {
    "duration": 299,
    "start_time": "2023-01-03T12:12:45.621Z"
   },
   {
    "duration": 1018,
    "start_time": "2023-01-03T12:12:49.938Z"
   },
   {
    "duration": 238,
    "start_time": "2023-01-03T12:13:03.345Z"
   },
   {
    "duration": 205,
    "start_time": "2023-01-03T12:13:31.175Z"
   },
   {
    "duration": 235,
    "start_time": "2023-01-03T12:13:37.895Z"
   },
   {
    "duration": 17,
    "start_time": "2023-01-03T12:13:42.383Z"
   },
   {
    "duration": 1384,
    "start_time": "2023-01-03T12:14:04.714Z"
   },
   {
    "duration": 331,
    "start_time": "2023-01-03T12:14:10.248Z"
   },
   {
    "duration": 196,
    "start_time": "2023-01-03T12:14:33.303Z"
   },
   {
    "duration": 10,
    "start_time": "2023-01-03T12:14:37.302Z"
   },
   {
    "duration": 17,
    "start_time": "2023-01-03T12:14:51.495Z"
   },
   {
    "duration": 290,
    "start_time": "2023-01-03T12:14:57.912Z"
   },
   {
    "duration": 23,
    "start_time": "2023-01-03T12:15:18.144Z"
   },
   {
    "duration": 24,
    "start_time": "2023-01-03T12:15:33.735Z"
   },
   {
    "duration": 21,
    "start_time": "2023-01-03T12:18:17.985Z"
   },
   {
    "duration": 16,
    "start_time": "2023-01-03T12:18:22.802Z"
   },
   {
    "duration": 17,
    "start_time": "2023-01-03T12:18:34.375Z"
   },
   {
    "duration": 20,
    "start_time": "2023-01-03T12:19:17.524Z"
   },
   {
    "duration": 252,
    "start_time": "2023-01-03T12:25:04.773Z"
   },
   {
    "duration": 15,
    "start_time": "2023-01-03T12:25:14.697Z"
   },
   {
    "duration": 21,
    "start_time": "2023-01-03T12:26:09.598Z"
   },
   {
    "duration": 237,
    "start_time": "2023-01-03T12:26:41.728Z"
   },
   {
    "duration": 257,
    "start_time": "2023-01-03T12:26:53.386Z"
   },
   {
    "duration": 288,
    "start_time": "2023-01-03T12:26:58.381Z"
   },
   {
    "duration": 367,
    "start_time": "2023-01-03T12:27:04.513Z"
   },
   {
    "duration": 375,
    "start_time": "2023-01-03T12:27:11.677Z"
   },
   {
    "duration": 271,
    "start_time": "2023-01-03T12:27:16.427Z"
   },
   {
    "duration": 16,
    "start_time": "2023-01-03T12:27:27.913Z"
   },
   {
    "duration": 16,
    "start_time": "2023-01-03T12:27:37.220Z"
   },
   {
    "duration": 19,
    "start_time": "2023-01-03T12:27:42.472Z"
   },
   {
    "duration": 1577,
    "start_time": "2023-01-03T18:12:34.942Z"
   },
   {
    "duration": 128,
    "start_time": "2023-01-03T18:12:37.399Z"
   },
   {
    "duration": 26,
    "start_time": "2023-01-03T18:12:39.999Z"
   },
   {
    "duration": 253,
    "start_time": "2023-01-03T18:12:42.479Z"
   },
   {
    "duration": 1007,
    "start_time": "2023-01-03T18:12:45.570Z"
   },
   {
    "duration": 164,
    "start_time": "2023-01-03T18:12:49.235Z"
   },
   {
    "duration": 238,
    "start_time": "2023-01-03T18:12:53.596Z"
   },
   {
    "duration": 119,
    "start_time": "2023-01-03T18:13:22.467Z"
   },
   {
    "duration": 15,
    "start_time": "2023-01-03T18:13:51.814Z"
   },
   {
    "duration": 21,
    "start_time": "2023-01-03T18:14:15.462Z"
   },
   {
    "duration": 19,
    "start_time": "2023-01-03T18:14:24.181Z"
   },
   {
    "duration": 25,
    "start_time": "2023-01-03T18:14:37.599Z"
   },
   {
    "duration": 247,
    "start_time": "2023-01-03T18:14:41.762Z"
   },
   {
    "duration": 22,
    "start_time": "2023-01-03T18:15:01.749Z"
   },
   {
    "duration": 15,
    "start_time": "2023-01-03T18:15:31.825Z"
   },
   {
    "duration": 17,
    "start_time": "2023-01-03T18:15:57.052Z"
   },
   {
    "duration": 15,
    "start_time": "2023-01-03T18:16:08.054Z"
   },
   {
    "duration": 16,
    "start_time": "2023-01-03T18:16:22.726Z"
   },
   {
    "duration": 209,
    "start_time": "2023-01-03T18:22:08.331Z"
   },
   {
    "duration": 22,
    "start_time": "2023-01-03T18:22:22.271Z"
   },
   {
    "duration": 16,
    "start_time": "2023-01-03T18:22:27.409Z"
   },
   {
    "duration": 17,
    "start_time": "2023-01-03T18:22:31.454Z"
   },
   {
    "duration": 15,
    "start_time": "2023-01-03T18:22:42.222Z"
   },
   {
    "duration": 15,
    "start_time": "2023-01-03T18:22:47.271Z"
   },
   {
    "duration": 16,
    "start_time": "2023-01-03T18:23:38.345Z"
   },
   {
    "duration": 269,
    "start_time": "2023-01-03T18:23:56.177Z"
   },
   {
    "duration": 16,
    "start_time": "2023-01-03T18:24:03.282Z"
   },
   {
    "duration": 3,
    "start_time": "2023-01-03T18:29:11.262Z"
   },
   {
    "duration": 5,
    "start_time": "2023-01-03T18:56:56.826Z"
   },
   {
    "duration": 5,
    "start_time": "2023-01-03T18:58:17.004Z"
   },
   {
    "duration": 31,
    "start_time": "2023-01-03T19:00:59.387Z"
   },
   {
    "duration": 18,
    "start_time": "2023-01-03T19:25:39.580Z"
   },
   {
    "duration": 18,
    "start_time": "2023-01-03T19:26:26.663Z"
   },
   {
    "duration": 4,
    "start_time": "2023-01-03T19:26:34.711Z"
   },
   {
    "duration": 14,
    "start_time": "2023-01-03T19:26:46.912Z"
   },
   {
    "duration": 5,
    "start_time": "2023-01-03T19:27:10.985Z"
   },
   {
    "duration": 9,
    "start_time": "2023-01-03T19:27:21.705Z"
   },
   {
    "duration": 25,
    "start_time": "2023-01-03T19:27:39.045Z"
   },
   {
    "duration": 22,
    "start_time": "2023-01-03T19:27:46.608Z"
   },
   {
    "duration": 18,
    "start_time": "2023-01-03T19:27:57.220Z"
   },
   {
    "duration": 24,
    "start_time": "2023-01-03T19:27:58.230Z"
   },
   {
    "duration": 31,
    "start_time": "2023-01-03T19:28:05.207Z"
   },
   {
    "duration": 18,
    "start_time": "2023-01-03T19:28:14.227Z"
   },
   {
    "duration": 17,
    "start_time": "2023-01-03T19:28:21.438Z"
   },
   {
    "duration": 19,
    "start_time": "2023-01-03T19:29:36.280Z"
   },
   {
    "duration": 18,
    "start_time": "2023-01-03T19:30:18.651Z"
   },
   {
    "duration": 20,
    "start_time": "2023-01-03T19:30:31.027Z"
   },
   {
    "duration": 19,
    "start_time": "2023-01-03T19:30:34.751Z"
   },
   {
    "duration": 17,
    "start_time": "2023-01-03T19:30:37.796Z"
   },
   {
    "duration": 18,
    "start_time": "2023-01-03T19:31:04.974Z"
   },
   {
    "duration": 18,
    "start_time": "2023-01-03T19:31:15.049Z"
   },
   {
    "duration": 133,
    "start_time": "2023-01-03T19:31:55.015Z"
   },
   {
    "duration": 86,
    "start_time": "2023-01-03T19:55:22.082Z"
   },
   {
    "duration": 74,
    "start_time": "2023-01-03T19:55:42.754Z"
   },
   {
    "duration": 67,
    "start_time": "2023-01-03T19:55:47.920Z"
   },
   {
    "duration": 22,
    "start_time": "2023-01-03T19:56:17.057Z"
   },
   {
    "duration": 54,
    "start_time": "2023-01-03T19:56:20.976Z"
   },
   {
    "duration": 24,
    "start_time": "2023-01-03T19:56:24.135Z"
   },
   {
    "duration": 70,
    "start_time": "2023-01-03T19:58:39.501Z"
   },
   {
    "duration": 1295,
    "start_time": "2023-01-03T19:59:46.558Z"
   },
   {
    "duration": 46,
    "start_time": "2023-01-03T19:59:47.854Z"
   },
   {
    "duration": 25,
    "start_time": "2023-01-03T19:59:47.902Z"
   },
   {
    "duration": 263,
    "start_time": "2023-01-03T19:59:47.929Z"
   },
   {
    "duration": 937,
    "start_time": "2023-01-03T19:59:48.193Z"
   },
   {
    "duration": 163,
    "start_time": "2023-01-03T19:59:49.131Z"
   },
   {
    "duration": 219,
    "start_time": "2023-01-03T19:59:49.295Z"
   },
   {
    "duration": 3,
    "start_time": "2023-01-03T19:59:49.515Z"
   },
   {
    "duration": 137,
    "start_time": "2023-01-03T19:59:51.681Z"
   },
   {
    "duration": 73,
    "start_time": "2023-01-03T20:04:19.339Z"
   },
   {
    "duration": 1351,
    "start_time": "2023-01-03T20:04:41.484Z"
   },
   {
    "duration": 46,
    "start_time": "2023-01-03T20:04:42.837Z"
   },
   {
    "duration": 23,
    "start_time": "2023-01-03T20:04:42.884Z"
   },
   {
    "duration": 259,
    "start_time": "2023-01-03T20:04:42.909Z"
   },
   {
    "duration": 931,
    "start_time": "2023-01-03T20:04:43.170Z"
   },
   {
    "duration": 160,
    "start_time": "2023-01-03T20:04:44.103Z"
   },
   {
    "duration": 219,
    "start_time": "2023-01-03T20:04:44.265Z"
   },
   {
    "duration": 2,
    "start_time": "2023-01-03T20:04:44.486Z"
   },
   {
    "duration": 160,
    "start_time": "2023-01-03T20:04:44.489Z"
   },
   {
    "duration": 4,
    "start_time": "2023-01-03T20:04:44.651Z"
   },
   {
    "duration": 130,
    "start_time": "2023-01-03T20:04:52.163Z"
   },
   {
    "duration": 12,
    "start_time": "2023-01-03T20:05:37.235Z"
   },
   {
    "duration": 45,
    "start_time": "2023-01-03T20:06:19.905Z"
   },
   {
    "duration": 14,
    "start_time": "2023-01-03T20:06:24.377Z"
   },
   {
    "duration": 4,
    "start_time": "2023-01-03T20:06:56.145Z"
   },
   {
    "duration": 14,
    "start_time": "2023-01-03T20:07:03.264Z"
   },
   {
    "duration": 4,
    "start_time": "2023-01-03T20:10:10.957Z"
   },
   {
    "duration": 33356,
    "start_time": "2023-01-03T20:10:16.580Z"
   },
   {
    "duration": 4,
    "start_time": "2023-01-03T20:11:28.559Z"
   },
   {
    "duration": 13,
    "start_time": "2023-01-03T20:11:57.206Z"
   },
   {
    "duration": 27,
    "start_time": "2023-01-03T20:12:44.815Z"
   },
   {
    "duration": 29,
    "start_time": "2023-01-03T20:12:54.926Z"
   },
   {
    "duration": 27,
    "start_time": "2023-01-03T20:13:05.516Z"
   },
   {
    "duration": 5,
    "start_time": "2023-01-03T20:16:23.706Z"
   },
   {
    "duration": 4,
    "start_time": "2023-01-03T20:24:27.866Z"
   },
   {
    "duration": 4,
    "start_time": "2023-01-03T20:26:44.265Z"
   },
   {
    "duration": 31424,
    "start_time": "2023-01-03T20:26:52.296Z"
   },
   {
    "duration": 5,
    "start_time": "2023-01-03T20:29:06.406Z"
   },
   {
    "duration": 31796,
    "start_time": "2023-01-03T20:29:11.497Z"
   },
   {
    "duration": 4,
    "start_time": "2023-01-03T20:29:46.677Z"
   },
   {
    "duration": 4,
    "start_time": "2023-01-03T20:29:53.046Z"
   },
   {
    "duration": 4,
    "start_time": "2023-01-03T20:30:20.763Z"
   },
   {
    "duration": 5,
    "start_time": "2023-01-03T20:30:42.743Z"
   },
   {
    "duration": 14,
    "start_time": "2023-01-03T20:30:46.828Z"
   },
   {
    "duration": 13,
    "start_time": "2023-01-03T20:33:54.808Z"
   },
   {
    "duration": 5,
    "start_time": "2023-01-03T20:34:01.483Z"
   },
   {
    "duration": 33628,
    "start_time": "2023-01-03T20:34:05.938Z"
   },
   {
    "duration": 4,
    "start_time": "2023-01-03T20:39:51.197Z"
   },
   {
    "duration": 32079,
    "start_time": "2023-01-03T20:39:57.114Z"
   },
   {
    "duration": 5,
    "start_time": "2023-01-03T20:40:33.524Z"
   },
   {
    "duration": 20582,
    "start_time": "2023-01-03T20:40:38.905Z"
   },
   {
    "duration": 4,
    "start_time": "2023-01-03T20:41:02.109Z"
   },
   {
    "duration": 4,
    "start_time": "2023-01-03T20:41:15.648Z"
   },
   {
    "duration": 20351,
    "start_time": "2023-01-03T20:41:25.631Z"
   },
   {
    "duration": 3,
    "start_time": "2023-01-03T20:41:48.780Z"
   },
   {
    "duration": 20991,
    "start_time": "2023-01-03T20:42:12.300Z"
   },
   {
    "duration": 4,
    "start_time": "2023-01-03T20:42:40.748Z"
   },
   {
    "duration": 5,
    "start_time": "2023-01-03T20:55:59.898Z"
   },
   {
    "duration": 32008,
    "start_time": "2023-01-03T20:56:04.818Z"
   },
   {
    "duration": 3,
    "start_time": "2023-01-03T20:56:40.220Z"
   },
   {
    "duration": 5,
    "start_time": "2023-01-03T20:56:56.112Z"
   },
   {
    "duration": 33004,
    "start_time": "2023-01-03T20:57:03.266Z"
   },
   {
    "duration": 4,
    "start_time": "2023-01-03T20:57:38.951Z"
   },
   {
    "duration": 183838,
    "start_time": "2023-01-03T20:58:54.315Z"
   },
   {
    "duration": 1123,
    "start_time": "2023-01-03T21:03:50.988Z"
   },
   {
    "duration": 1958,
    "start_time": "2023-01-03T21:04:30.045Z"
   },
   {
    "duration": 8,
    "start_time": "2023-01-03T21:04:36.424Z"
   },
   {
    "duration": 3,
    "start_time": "2023-01-03T21:04:55.098Z"
   },
   {
    "duration": 8,
    "start_time": "2023-01-03T21:04:55.466Z"
   },
   {
    "duration": 24,
    "start_time": "2023-01-03T21:22:34.136Z"
   },
   {
    "duration": 19599,
    "start_time": "2023-01-03T21:26:41.502Z"
   },
   {
    "duration": 89393,
    "start_time": "2023-01-03T21:28:05.804Z"
   },
   {
    "duration": 12,
    "start_time": "2023-01-03T21:29:38.177Z"
   },
   {
    "duration": 25,
    "start_time": "2023-01-03T21:31:06.288Z"
   },
   {
    "duration": 6337,
    "start_time": "2023-01-03T21:31:51.609Z"
   },
   {
    "duration": 65142,
    "start_time": "2023-01-03T21:32:20.915Z"
   },
   {
    "duration": 211,
    "start_time": "2023-01-03T21:34:03.558Z"
   },
   {
    "duration": 218,
    "start_time": "2023-01-03T21:34:11.386Z"
   },
   {
    "duration": 244,
    "start_time": "2023-01-03T21:34:15.787Z"
   },
   {
    "duration": 210,
    "start_time": "2023-01-03T21:34:20.872Z"
   },
   {
    "duration": 11,
    "start_time": "2023-01-03T22:19:18.805Z"
   },
   {
    "duration": 11,
    "start_time": "2023-01-03T22:19:30.123Z"
   },
   {
    "duration": 14,
    "start_time": "2023-01-03T22:20:56.064Z"
   },
   {
    "duration": 1783,
    "start_time": "2023-01-03T22:21:51.420Z"
   },
   {
    "duration": 1646,
    "start_time": "2023-01-03T22:22:08.852Z"
   },
   {
    "duration": 1955,
    "start_time": "2023-01-03T22:22:34.549Z"
   },
   {
    "duration": 3,
    "start_time": "2023-01-03T22:23:18.880Z"
   },
   {
    "duration": 2,
    "start_time": "2023-01-03T22:23:40.286Z"
   },
   {
    "duration": 1881,
    "start_time": "2023-01-03T22:26:23.825Z"
   },
   {
    "duration": 1950,
    "start_time": "2023-01-03T22:26:31.452Z"
   },
   {
    "duration": 1851,
    "start_time": "2023-01-03T22:26:52.846Z"
   },
   {
    "duration": 2052,
    "start_time": "2023-01-03T22:27:11.949Z"
   },
   {
    "duration": 1993,
    "start_time": "2023-01-03T22:27:21.204Z"
   },
   {
    "duration": 1430,
    "start_time": "2023-01-03T22:40:49.492Z"
   },
   {
    "duration": 48,
    "start_time": "2023-01-03T22:40:50.924Z"
   },
   {
    "duration": 21,
    "start_time": "2023-01-03T22:40:50.974Z"
   },
   {
    "duration": 262,
    "start_time": "2023-01-03T22:40:51.002Z"
   },
   {
    "duration": 955,
    "start_time": "2023-01-03T22:40:51.266Z"
   },
   {
    "duration": 164,
    "start_time": "2023-01-03T22:40:52.224Z"
   },
   {
    "duration": 234,
    "start_time": "2023-01-03T22:40:52.390Z"
   },
   {
    "duration": 3,
    "start_time": "2023-01-03T22:40:52.625Z"
   },
   {
    "duration": 154,
    "start_time": "2023-01-03T22:40:52.630Z"
   },
   {
    "duration": 23,
    "start_time": "2023-01-03T22:40:52.786Z"
   },
   {
    "duration": 32999,
    "start_time": "2023-01-03T22:40:52.810Z"
   },
   {
    "duration": 1108,
    "start_time": "2023-01-03T22:41:25.810Z"
   },
   {
    "duration": 184162,
    "start_time": "2023-01-03T22:41:26.919Z"
   },
   {
    "duration": 3333,
    "start_time": "2023-01-03T22:44:31.083Z"
   },
   {
    "duration": 196416,
    "start_time": "2023-01-03T22:44:34.498Z"
   },
   {
    "duration": 671704,
    "start_time": "2023-01-03T22:47:50.916Z"
   },
   {
    "duration": 9,
    "start_time": "2023-01-03T22:59:02.621Z"
   },
   {
    "duration": 4085,
    "start_time": "2023-01-03T22:59:02.631Z"
   },
   {
    "duration": 80,
    "start_time": "2023-01-03T22:59:06.719Z"
   },
   {
    "duration": 3255,
    "start_time": "2023-01-03T23:01:20.989Z"
   },
   {
    "duration": 4089,
    "start_time": "2023-01-03T23:01:49.052Z"
   },
   {
    "duration": 3618,
    "start_time": "2023-01-03T23:01:59.595Z"
   },
   {
    "duration": 182,
    "start_time": "2023-01-03T23:02:10.232Z"
   },
   {
    "duration": 333,
    "start_time": "2023-01-03T23:03:14.250Z"
   },
   {
    "duration": 393,
    "start_time": "2023-01-03T23:03:35.351Z"
   },
   {
    "duration": 365,
    "start_time": "2023-01-03T23:03:40.448Z"
   },
   {
    "duration": 460,
    "start_time": "2023-01-03T23:03:49.446Z"
   },
   {
    "duration": 59,
    "start_time": "2023-01-03T23:04:01.728Z"
   },
   {
    "duration": 398,
    "start_time": "2023-01-03T23:04:12.821Z"
   },
   {
    "duration": 417,
    "start_time": "2023-01-03T23:04:21.357Z"
   },
   {
    "duration": 350,
    "start_time": "2023-01-03T23:04:38.843Z"
   },
   {
    "duration": 389,
    "start_time": "2023-01-03T23:06:24.204Z"
   },
   {
    "duration": 406,
    "start_time": "2023-01-03T23:06:46.984Z"
   },
   {
    "duration": 400,
    "start_time": "2023-01-03T23:06:54.393Z"
   },
   {
    "duration": 379,
    "start_time": "2023-01-03T23:07:17.118Z"
   },
   {
    "duration": 2497,
    "start_time": "2023-01-03T23:07:30.215Z"
   },
   {
    "duration": 2238,
    "start_time": "2023-01-03T23:07:48.856Z"
   },
   {
    "duration": 2271,
    "start_time": "2023-01-03T23:08:11.121Z"
   },
   {
    "duration": 2345,
    "start_time": "2023-01-03T23:09:00.076Z"
   },
   {
    "duration": 2374,
    "start_time": "2023-01-03T23:10:18.768Z"
   },
   {
    "duration": 2326,
    "start_time": "2023-01-03T23:10:51.276Z"
   },
   {
    "duration": 1330,
    "start_time": "2023-01-03T23:11:35.647Z"
   },
   {
    "duration": 48,
    "start_time": "2023-01-03T23:11:36.979Z"
   },
   {
    "duration": 22,
    "start_time": "2023-01-03T23:11:37.029Z"
   },
   {
    "duration": 255,
    "start_time": "2023-01-03T23:11:37.053Z"
   },
   {
    "duration": 935,
    "start_time": "2023-01-03T23:11:37.310Z"
   },
   {
    "duration": 161,
    "start_time": "2023-01-03T23:11:38.247Z"
   },
   {
    "duration": 219,
    "start_time": "2023-01-03T23:11:38.409Z"
   },
   {
    "duration": 3,
    "start_time": "2023-01-03T23:11:38.629Z"
   },
   {
    "duration": 154,
    "start_time": "2023-01-03T23:11:38.633Z"
   },
   {
    "duration": 8,
    "start_time": "2023-01-03T23:11:38.790Z"
   },
   {
    "duration": 20750,
    "start_time": "2023-01-03T23:11:38.799Z"
   },
   {
    "duration": 118326,
    "start_time": "2023-01-03T23:11:59.551Z"
   },
   {
    "duration": 421,
    "start_time": "2023-01-03T23:13:57.879Z"
   },
   {
    "duration": 1397,
    "start_time": "2023-01-03T23:13:58.302Z"
   },
   {
    "duration": 13413,
    "start_time": "2023-01-03T23:13:59.700Z"
   },
   {
    "duration": 44697,
    "start_time": "2023-01-03T23:14:13.115Z"
   },
   {
    "duration": 88,
    "start_time": "2023-01-03T23:14:57.814Z"
   },
   {
    "duration": 2396,
    "start_time": "2023-01-03T23:14:57.904Z"
   },
   {
    "duration": 3,
    "start_time": "2023-01-03T23:15:00.302Z"
   },
   {
    "duration": 2396,
    "start_time": "2023-01-03T23:15:45.300Z"
   },
   {
    "duration": 8,
    "start_time": "2023-01-03T23:16:29.830Z"
   },
   {
    "duration": 2372,
    "start_time": "2023-01-03T23:18:29.028Z"
   },
   {
    "duration": 2188,
    "start_time": "2023-01-03T23:19:02.314Z"
   },
   {
    "duration": 10,
    "start_time": "2023-01-03T23:19:18.821Z"
   },
   {
    "duration": 125,
    "start_time": "2023-01-03T23:19:57.979Z"
   },
   {
    "duration": 1019,
    "start_time": "2023-01-03T23:20:00.680Z"
   },
   {
    "duration": 8,
    "start_time": "2023-01-03T23:20:09.921Z"
   },
   {
    "duration": 2429,
    "start_time": "2023-01-03T23:20:14.858Z"
   },
   {
    "duration": 2116,
    "start_time": "2023-01-03T23:20:24.773Z"
   },
   {
    "duration": 1438,
    "start_time": "2023-01-03T23:22:23.382Z"
   },
   {
    "duration": 49,
    "start_time": "2023-01-03T23:22:24.822Z"
   },
   {
    "duration": 21,
    "start_time": "2023-01-03T23:22:24.872Z"
   },
   {
    "duration": 254,
    "start_time": "2023-01-03T23:22:24.895Z"
   },
   {
    "duration": 962,
    "start_time": "2023-01-03T23:22:25.151Z"
   },
   {
    "duration": 174,
    "start_time": "2023-01-03T23:22:26.115Z"
   },
   {
    "duration": 226,
    "start_time": "2023-01-03T23:22:26.291Z"
   },
   {
    "duration": 2,
    "start_time": "2023-01-03T23:22:26.519Z"
   },
   {
    "duration": 150,
    "start_time": "2023-01-03T23:22:26.523Z"
   },
   {
    "duration": 4,
    "start_time": "2023-01-03T23:22:26.676Z"
   },
   {
    "duration": 20361,
    "start_time": "2023-01-03T23:22:26.681Z"
   },
   {
    "duration": 112528,
    "start_time": "2023-01-03T23:22:47.044Z"
   },
   {
    "duration": 323,
    "start_time": "2023-01-03T23:24:39.574Z"
   },
   {
    "duration": 1405,
    "start_time": "2023-01-03T23:24:39.899Z"
   },
   {
    "duration": 12391,
    "start_time": "2023-01-03T23:24:41.306Z"
   },
   {
    "duration": 38400,
    "start_time": "2023-01-03T23:24:53.699Z"
   },
   {
    "duration": 8,
    "start_time": "2023-01-03T23:25:32.101Z"
   },
   {
    "duration": 2486,
    "start_time": "2023-01-03T23:25:32.110Z"
   },
   {
    "duration": 2,
    "start_time": "2023-01-03T23:25:34.598Z"
   },
   {
    "duration": 1709,
    "start_time": "2023-01-03T23:26:02.197Z"
   },
   {
    "duration": 2200,
    "start_time": "2023-01-03T23:26:28.302Z"
   },
   {
    "duration": 1679,
    "start_time": "2023-01-03T23:26:39.321Z"
   },
   {
    "duration": 2267,
    "start_time": "2023-01-03T23:26:59.336Z"
   },
   {
    "duration": 2150,
    "start_time": "2023-01-03T23:30:31.550Z"
   },
   {
    "duration": 2219,
    "start_time": "2023-01-03T23:30:48.470Z"
   },
   {
    "duration": 2135,
    "start_time": "2023-01-03T23:31:04.567Z"
   },
   {
    "duration": 2350,
    "start_time": "2023-01-03T23:31:13.138Z"
   },
   {
    "duration": 1421,
    "start_time": "2023-01-03T23:34:12.167Z"
   },
   {
    "duration": 48,
    "start_time": "2023-01-03T23:34:13.590Z"
   },
   {
    "duration": 20,
    "start_time": "2023-01-03T23:34:13.640Z"
   },
   {
    "duration": 256,
    "start_time": "2023-01-03T23:34:13.661Z"
   },
   {
    "duration": 946,
    "start_time": "2023-01-03T23:34:13.919Z"
   },
   {
    "duration": 168,
    "start_time": "2023-01-03T23:34:14.868Z"
   },
   {
    "duration": 265,
    "start_time": "2023-01-03T23:34:15.038Z"
   },
   {
    "duration": 3,
    "start_time": "2023-01-03T23:34:15.305Z"
   },
   {
    "duration": 158,
    "start_time": "2023-01-03T23:34:15.310Z"
   },
   {
    "duration": 4,
    "start_time": "2023-01-03T23:34:15.471Z"
   },
   {
    "duration": 21061,
    "start_time": "2023-01-03T23:34:15.477Z"
   },
   {
    "duration": 120769,
    "start_time": "2023-01-03T23:34:36.540Z"
   },
   {
    "duration": 394,
    "start_time": "2023-01-03T23:36:37.311Z"
   },
   {
    "duration": 1498,
    "start_time": "2023-01-03T23:36:37.799Z"
   },
   {
    "duration": 13000,
    "start_time": "2023-01-03T23:36:39.299Z"
   },
   {
    "duration": 42901,
    "start_time": "2023-01-03T23:36:52.301Z"
   },
   {
    "duration": 9,
    "start_time": "2023-01-03T23:37:35.204Z"
   },
   {
    "duration": 2892,
    "start_time": "2023-01-03T23:37:35.215Z"
   },
   {
    "duration": 1373,
    "start_time": "2023-01-03T23:38:19.132Z"
   },
   {
    "duration": 48,
    "start_time": "2023-01-03T23:38:20.506Z"
   },
   {
    "duration": 20,
    "start_time": "2023-01-03T23:38:20.555Z"
   },
   {
    "duration": 258,
    "start_time": "2023-01-03T23:38:20.578Z"
   },
   {
    "duration": 935,
    "start_time": "2023-01-03T23:38:20.838Z"
   },
   {
    "duration": 167,
    "start_time": "2023-01-03T23:38:21.775Z"
   },
   {
    "duration": 227,
    "start_time": "2023-01-03T23:38:21.943Z"
   },
   {
    "duration": 2,
    "start_time": "2023-01-03T23:38:22.171Z"
   },
   {
    "duration": 157,
    "start_time": "2023-01-03T23:38:22.175Z"
   },
   {
    "duration": 4,
    "start_time": "2023-01-03T23:38:22.334Z"
   },
   {
    "duration": 21338,
    "start_time": "2023-01-03T23:38:22.339Z"
   },
   {
    "duration": 116236,
    "start_time": "2023-01-03T23:38:43.679Z"
   },
   {
    "duration": 283,
    "start_time": "2023-01-03T23:40:39.917Z"
   },
   {
    "duration": 1295,
    "start_time": "2023-01-03T23:40:40.201Z"
   },
   {
    "duration": 13303,
    "start_time": "2023-01-03T23:40:41.498Z"
   },
   {
    "duration": 40499,
    "start_time": "2023-01-03T23:40:54.803Z"
   },
   {
    "duration": 9,
    "start_time": "2023-01-03T23:41:35.304Z"
   },
   {
    "duration": 2491,
    "start_time": "2023-01-03T23:41:35.316Z"
   },
   {
    "duration": 4,
    "start_time": "2023-01-03T23:45:25.059Z"
   },
   {
    "duration": 2404,
    "start_time": "2023-01-03T23:47:18.312Z"
   },
   {
    "duration": 2215,
    "start_time": "2023-01-03T23:47:27.785Z"
   },
   {
    "duration": 1524,
    "start_time": "2023-01-04T09:12:22.846Z"
   },
   {
    "duration": 117,
    "start_time": "2023-01-04T09:12:24.372Z"
   },
   {
    "duration": 25,
    "start_time": "2023-01-04T09:12:24.490Z"
   },
   {
    "duration": 285,
    "start_time": "2023-01-04T09:12:24.518Z"
   },
   {
    "duration": 1020,
    "start_time": "2023-01-04T09:12:24.805Z"
   },
   {
    "duration": 208,
    "start_time": "2023-01-04T09:12:25.828Z"
   },
   {
    "duration": 249,
    "start_time": "2023-01-04T09:12:26.038Z"
   },
   {
    "duration": 7,
    "start_time": "2023-01-04T09:12:26.289Z"
   },
   {
    "duration": 148,
    "start_time": "2023-01-04T09:12:26.298Z"
   },
   {
    "duration": 4,
    "start_time": "2023-01-04T09:12:26.449Z"
   },
   {
    "duration": 20597,
    "start_time": "2023-01-04T09:12:26.455Z"
   },
   {
    "duration": 115473,
    "start_time": "2023-01-04T09:12:47.053Z"
   },
   {
    "duration": 572,
    "start_time": "2023-01-04T09:14:42.528Z"
   },
   {
    "duration": 1302,
    "start_time": "2023-01-04T09:14:43.102Z"
   },
   {
    "duration": 7958,
    "start_time": "2023-01-04T09:14:44.406Z"
   },
   {
    "duration": 0,
    "start_time": "2023-01-04T09:14:52.365Z"
   },
   {
    "duration": 0,
    "start_time": "2023-01-04T09:14:52.366Z"
   },
   {
    "duration": 0,
    "start_time": "2023-01-04T09:14:52.367Z"
   },
   {
    "duration": 10637,
    "start_time": "2023-01-04T09:15:01.460Z"
   },
   {
    "duration": 13986,
    "start_time": "2023-01-04T09:15:21.816Z"
   },
   {
    "duration": 9,
    "start_time": "2023-01-04T09:16:19.212Z"
   },
   {
    "duration": 13252,
    "start_time": "2023-01-04T09:16:31.153Z"
   },
   {
    "duration": 8,
    "start_time": "2023-01-04T09:16:46.230Z"
   },
   {
    "duration": 1408,
    "start_time": "2023-01-04T09:17:41.886Z"
   },
   {
    "duration": 49,
    "start_time": "2023-01-04T09:17:43.297Z"
   },
   {
    "duration": 25,
    "start_time": "2023-01-04T09:17:43.347Z"
   },
   {
    "duration": 253,
    "start_time": "2023-01-04T09:17:43.374Z"
   },
   {
    "duration": 917,
    "start_time": "2023-01-04T09:17:43.628Z"
   },
   {
    "duration": 160,
    "start_time": "2023-01-04T09:17:44.547Z"
   },
   {
    "duration": 213,
    "start_time": "2023-01-04T09:17:44.709Z"
   },
   {
    "duration": 3,
    "start_time": "2023-01-04T09:17:44.923Z"
   },
   {
    "duration": 163,
    "start_time": "2023-01-04T09:17:44.927Z"
   },
   {
    "duration": 3,
    "start_time": "2023-01-04T09:17:45.093Z"
   },
   {
    "duration": 32280,
    "start_time": "2023-01-04T09:17:45.098Z"
   },
   {
    "duration": 181945,
    "start_time": "2023-01-04T09:18:17.379Z"
   },
   {
    "duration": 872,
    "start_time": "2023-01-04T09:21:19.326Z"
   },
   {
    "duration": 2414,
    "start_time": "2023-01-04T09:21:20.200Z"
   },
   {
    "duration": 136095,
    "start_time": "2023-01-04T09:21:22.617Z"
   },
   {
    "duration": 20606,
    "start_time": "2023-01-04T09:23:38.797Z"
   },
   {
    "duration": 9,
    "start_time": "2023-01-04T09:23:59.404Z"
   },
   {
    "duration": 2591,
    "start_time": "2023-01-04T09:23:59.414Z"
   }
  ],
  "kernelspec": {
   "display_name": "Python 3 (ipykernel)",
   "language": "python",
   "name": "python3"
  },
  "language_info": {
   "codemirror_mode": {
    "name": "ipython",
    "version": 3
   },
   "file_extension": ".py",
   "mimetype": "text/x-python",
   "name": "python",
   "nbconvert_exporter": "python",
   "pygments_lexer": "ipython3",
   "version": "3.9.12"
  },
  "toc": {
   "base_numbering": 1,
   "nav_menu": {},
   "number_sections": true,
   "sideBar": true,
   "skip_h1_title": true,
   "title_cell": "Содержание",
   "title_sidebar": "Contents",
   "toc_cell": true,
   "toc_position": {},
   "toc_section_display": true,
   "toc_window_display": false
  }
 },
 "nbformat": 4,
 "nbformat_minor": 4
}
