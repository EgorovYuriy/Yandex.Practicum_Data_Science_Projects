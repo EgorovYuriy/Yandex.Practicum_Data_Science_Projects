{
 "cells": [
  {
   "cell_type": "markdown",
   "metadata": {
    "tags": [],
    "toc": true
   },
   "source": [
    "<h1>Содержание<span class=\"tocSkip\"></span></h1>\n",
    "<div class=\"toc\"><ul class=\"toc-item\"><li><span><a href=\"#Подготовка\" data-toc-modified-id=\"Подготовка-1\"><span class=\"toc-item-num\">1&nbsp;&nbsp;</span>Подготовка</a></span></li><li><span><a href=\"#Обучение\" data-toc-modified-id=\"Обучение-2\"><span class=\"toc-item-num\">2&nbsp;&nbsp;</span>Обучение</a></span><ul class=\"toc-item\"><li><span><a href=\"#Подготовка\" data-toc-modified-id=\"Подготовка-2.1\"><span class=\"toc-item-num\">2.1&nbsp;&nbsp;</span>Подготовка</a></span></li><li><span><a href=\"#SKLearn\" data-toc-modified-id=\"SKLearn-2.2\"><span class=\"toc-item-num\">2.2&nbsp;&nbsp;</span>SKLearn</a></span></li><li><span><a href=\"#Boosting\" data-toc-modified-id=\"Boosting-2.3\"><span class=\"toc-item-num\">2.3&nbsp;&nbsp;</span>Boosting</a></span></li></ul></li><li><span><a href=\"#BERT\" data-toc-modified-id=\"BERT-3\"><span class=\"toc-item-num\">3&nbsp;&nbsp;</span>BERT</a></span><ul class=\"toc-item\"><li><span><a href=\"#Подготовка\" data-toc-modified-id=\"Подготовка-3.1\"><span class=\"toc-item-num\">3.1&nbsp;&nbsp;</span>Подготовка</a></span></li><li><span><a href=\"#Обучение\" data-toc-modified-id=\"Обучение-3.2\"><span class=\"toc-item-num\">3.2&nbsp;&nbsp;</span>Обучение</a></span></li></ul></li><li><span><a href=\"#Выводы\" data-toc-modified-id=\"Выводы-4\"><span class=\"toc-item-num\">4&nbsp;&nbsp;</span>Выводы</a></span></li><li><span><a href=\"#Чек-лист-проверки\" data-toc-modified-id=\"Чек-лист-проверки-5\"><span class=\"toc-item-num\">5&nbsp;&nbsp;</span>Чек-лист проверки</a></span></li></ul></div>"
   ]
  },
  {
   "cell_type": "markdown",
   "metadata": {
    "tags": []
   },
   "source": [
    "## Проект для «Викишоп» с BERT"
   ]
  },
  {
   "cell_type": "markdown",
   "metadata": {},
   "source": [
    "Интернет-магазин «Викишоп» запускает новый сервис. Теперь пользователи могут редактировать и дополнять описания товаров, как в вики-сообществах. То есть клиенты предлагают свои правки и комментируют изменения других. Магазину нужен инструмент, который будет искать токсичные комментарии и отправлять их на модерацию. \n",
    "\n",
    "Обучите модель классифицировать комментарии на позитивные и негативные. В вашем распоряжении набор данных с разметкой о токсичности правок.\n",
    "\n",
    "Постройте модель со значением метрики качества *F1* не меньше 0.75. \n",
    "\n",
    "**Инструкция по выполнению проекта**\n",
    "\n",
    "1. Загрузите и подготовьте данные.\n",
    "2. Обучите разные модели. \n",
    "3. Сделайте выводы.\n",
    "\n",
    "Для выполнения проекта применять *BERT* необязательно, но вы можете попробовать.\n",
    "\n",
    "**Описание данных**\n",
    "\n",
    "Данные находятся в файле `toxic_comments.csv`. Столбец *text* в нём содержит текст комментария, а *toxic* — целевой признак."
   ]
  },
  {
   "cell_type": "markdown",
   "metadata": {
    "tags": []
   },
   "source": [
    "## Подготовка"
   ]
  },
  {
   "cell_type": "markdown",
   "metadata": {},
   "source": [
    "импорты"
   ]
  },
  {
   "cell_type": "code",
   "execution_count": 1,
   "metadata": {},
   "outputs": [],
   "source": [
    "import sys\n",
    "import time\n",
    "import re\n",
    "import warnings\n",
    "import torch\n",
    "import transformers\n",
    "from tqdm import (\n",
    "    notebook,\n",
    "    tqdm\n",
    ")\n",
    "import pandas as pd\n",
    "import numpy as np\n",
    "import matplotlib.pyplot as plt\n",
    "\n",
    "import nltk\n",
    "from nltk.stem import WordNetLemmatizer\n",
    "from nltk.corpus import(\n",
    "    wordnet, \n",
    "    stopwords as nltk_stopwords\n",
    ")\n",
    "from torch.nn.utils.rnn import pad_sequence\n",
    "from sklearn.feature_extraction.text import (\n",
    "    TfidfVectorizer,\n",
    "    CountVectorizer\n",
    ")\n",
    "from sklearn.model_selection import (\n",
    "    KFold,\n",
    "    train_test_split, \n",
    "    RandomizedSearchCV\n",
    ")\n",
    "from sklearn.pipeline import Pipeline\n",
    "from sklearn.linear_model import LogisticRegression\n",
    "from lightgbm import LGBMClassifier\n",
    "from sklearn.metrics import f1_score\n",
    "\n",
    "warnings.filterwarnings('ignore')\n",
    "pd.set_option(\"display.float_format\", lambda x: \"%.4f\" % x)\n",
    "\n",
    "RS = 17"
   ]
  },
  {
   "cell_type": "markdown",
   "metadata": {},
   "source": [
    "чтение\n",
    "\n",
    "сразу сделаем копию датасета для Берта с 1000 семплами, т.к. исходный датасет будет преобразован с помощью сторонных модулей предобработки данных"
   ]
  },
  {
   "cell_type": "code",
   "execution_count": 2,
   "metadata": {},
   "outputs": [
    {
     "name": "stdout",
     "output_type": "stream",
     "text": [
      "<class 'pandas.core.frame.DataFrame'>\n",
      "Int64Index: 159292 entries, 0 to 159450\n",
      "Data columns (total 2 columns):\n",
      " #   Column  Non-Null Count   Dtype \n",
      "---  ------  --------------   ----- \n",
      " 0   text    159292 non-null  object\n",
      " 1   toxic   159292 non-null  int64 \n",
      "dtypes: int64(1), object(1)\n",
      "memory usage: 3.6+ MB\n"
     ]
    },
    {
     "data": {
      "text/plain": [
       "None"
      ]
     },
     "metadata": {},
     "output_type": "display_data"
    },
    {
     "data": {
      "text/html": [
       "<div>\n",
       "<style scoped>\n",
       "    .dataframe tbody tr th:only-of-type {\n",
       "        vertical-align: middle;\n",
       "    }\n",
       "\n",
       "    .dataframe tbody tr th {\n",
       "        vertical-align: top;\n",
       "    }\n",
       "\n",
       "    .dataframe thead th {\n",
       "        text-align: right;\n",
       "    }\n",
       "</style>\n",
       "<table border=\"1\" class=\"dataframe\">\n",
       "  <thead>\n",
       "    <tr style=\"text-align: right;\">\n",
       "      <th></th>\n",
       "      <th>text</th>\n",
       "      <th>toxic</th>\n",
       "    </tr>\n",
       "  </thead>\n",
       "  <tbody>\n",
       "    <tr>\n",
       "      <th>0</th>\n",
       "      <td>Explanation\\nWhy the edits made under my usern...</td>\n",
       "      <td>0</td>\n",
       "    </tr>\n",
       "    <tr>\n",
       "      <th>1</th>\n",
       "      <td>D'aww! He matches this background colour I'm s...</td>\n",
       "      <td>0</td>\n",
       "    </tr>\n",
       "    <tr>\n",
       "      <th>2</th>\n",
       "      <td>Hey man, I'm really not trying to edit war. It...</td>\n",
       "      <td>0</td>\n",
       "    </tr>\n",
       "    <tr>\n",
       "      <th>3</th>\n",
       "      <td>\"\\nMore\\nI can't make any real suggestions on ...</td>\n",
       "      <td>0</td>\n",
       "    </tr>\n",
       "    <tr>\n",
       "      <th>4</th>\n",
       "      <td>You, sir, are my hero. Any chance you remember...</td>\n",
       "      <td>0</td>\n",
       "    </tr>\n",
       "  </tbody>\n",
       "</table>\n",
       "</div>"
      ],
      "text/plain": [
       "                                                text  toxic\n",
       "0  Explanation\\nWhy the edits made under my usern...      0\n",
       "1  D'aww! He matches this background colour I'm s...      0\n",
       "2  Hey man, I'm really not trying to edit war. It...      0\n",
       "3  \"\\nMore\\nI can't make any real suggestions on ...      0\n",
       "4  You, sir, are my hero. Any chance you remember...      0"
      ]
     },
     "metadata": {},
     "output_type": "display_data"
    }
   ],
   "source": [
    "try:\n",
    "    df = pd.read_csv('/datasets/toxic_comments.csv', index_col=[0])\n",
    "except:\n",
    "    df = pd.read_csv('https://code.s3.yandex.net/datasets/toxic_comments.csv', index_col=[0])\n",
    "\n",
    "df_bert = df.copy().sample(1000).reset_index(drop=True)\n",
    "\n",
    "display(df.info())\n",
    "display(df.head())"
   ]
  },
  {
   "cell_type": "markdown",
   "metadata": {},
   "source": [
    "загрузим пакет stopwords со списком стоп-слов, вызовем функцию stopwords.words(), передадим ей аргумент 'english', т.к. корпус тестов на английском"
   ]
  },
  {
   "cell_type": "code",
   "execution_count": 3,
   "metadata": {},
   "outputs": [
    {
     "name": "stderr",
     "output_type": "stream",
     "text": [
      "[nltk_data] Downloading package stopwords to\n",
      "[nltk_data]     C:\\Users\\uber4\\AppData\\Roaming\\nltk_data...\n",
      "[nltk_data]   Package stopwords is already up-to-date!\n",
      "[nltk_data] Downloading package wordnet to\n",
      "[nltk_data]     C:\\Users\\uber4\\AppData\\Roaming\\nltk_data...\n",
      "[nltk_data]   Package wordnet is already up-to-date!\n"
     ]
    }
   ],
   "source": [
    "nltk.download('stopwords')\n",
    "nltk.download('wordnet')\n",
    "# для пос-тегов\n",
    "# nltk.download('averaged_perceptron_tagger')\n",
    "stopwords = set(nltk_stopwords.words('english'))"
   ]
  },
  {
   "cell_type": "markdown",
   "metadata": {},
   "source": [
    "объявим функцию, внутри нее произведем очистку текстов регулярными выражениями, токенизацию, лемматизацию, и на выходе получим преобразованный корпус текстов"
   ]
  },
  {
   "cell_type": "code",
   "execution_count": 4,
   "metadata": {
    "scrolled": true,
    "tags": []
   },
   "outputs": [
    {
     "name": "stderr",
     "output_type": "stream",
     "text": [
      "100%|██████████| 159292/159292 [01:04<00:00, 2465.73it/s]\n"
     ]
    },
    {
     "data": {
      "text/html": [
       "<div>\n",
       "<style scoped>\n",
       "    .dataframe tbody tr th:only-of-type {\n",
       "        vertical-align: middle;\n",
       "    }\n",
       "\n",
       "    .dataframe tbody tr th {\n",
       "        vertical-align: top;\n",
       "    }\n",
       "\n",
       "    .dataframe thead th {\n",
       "        text-align: right;\n",
       "    }\n",
       "</style>\n",
       "<table border=\"1\" class=\"dataframe\">\n",
       "  <thead>\n",
       "    <tr style=\"text-align: right;\">\n",
       "      <th></th>\n",
       "      <th>text</th>\n",
       "      <th>toxic</th>\n",
       "    </tr>\n",
       "  </thead>\n",
       "  <tbody>\n",
       "    <tr>\n",
       "      <th>0</th>\n",
       "      <td>edits made username hardcore metallica fan re...</td>\n",
       "      <td>0</td>\n",
       "    </tr>\n",
       "    <tr>\n",
       "      <th>1</th>\n",
       "      <td>aww match background colour seemingly stuck t...</td>\n",
       "      <td>0</td>\n",
       "    </tr>\n",
       "    <tr>\n",
       "      <th>2</th>\n",
       "      <td>man really trying edit war guy constantly rem...</td>\n",
       "      <td>0</td>\n",
       "    </tr>\n",
       "    <tr>\n",
       "      <th>3</th>\n",
       "      <td>make real suggestion improvement wondered sec...</td>\n",
       "      <td>0</td>\n",
       "    </tr>\n",
       "    <tr>\n",
       "      <th>4</th>\n",
       "      <td>sir hero chance remember page</td>\n",
       "      <td>0</td>\n",
       "    </tr>\n",
       "  </tbody>\n",
       "</table>\n",
       "</div>"
      ],
      "text/plain": [
       "                                                text  toxic\n",
       "0   edits made username hardcore metallica fan re...      0\n",
       "1   aww match background colour seemingly stuck t...      0\n",
       "2   man really trying edit war guy constantly rem...      0\n",
       "3   make real suggestion improvement wondered sec...      0\n",
       "4                     sir hero chance remember page       0"
      ]
     },
     "execution_count": 4,
     "metadata": {},
     "output_type": "execute_result"
    }
   ],
   "source": [
    "tqdm.pandas()\n",
    "\n",
    "lem = nltk.WordNetLemmatizer()\n",
    "\n",
    "# с пос-тегами значение метрики варьируется в тысячных долях в разные стороны для разных моделей, поэтому смысла в них нет\n",
    "# def get_wordnet_pos(word):\n",
    "    \n",
    "#     tag = nltk.pos_tag([word])[0][1][0]\n",
    "#     tag_dict = {\"J\": 'a',\n",
    "#                 \"N\": 'n',\n",
    "#                 \"V\": 'v',\n",
    "#                 \"R\": 'r'}\n",
    "#     return tag_dict.get(tag, wordnet.NOUN)\n",
    "\n",
    "def lemmatized_clear_text(text):\n",
    "    \n",
    "    text = re.sub('[0-9]+', ' ', text.lower())\n",
    "    text = re.sub(r'^[a-zA-Z]+', ' ', text.lower())\n",
    "    text = re.split('\\W+', text)\n",
    "    \n",
    "    # lem.lemmatize(x, get_wordnet_pos(x)) для pos-teg\n",
    "    text = ' '.join([lem.lemmatize(x) for x in text if x not in stopwords]) \n",
    "    return text\n",
    "    \n",
    "df['text'] = df['text'].progress_apply(lemmatized_clear_text)\n",
    "\n",
    "# для преобразованного датасета с пос-тегами\n",
    "#df['text'].to_csv('df_text_lemmatized')\n",
    "\n",
    "df.head()"
   ]
  },
  {
   "cell_type": "markdown",
   "metadata": {},
   "source": [
    "разделим данные на трейн и тест"
   ]
  },
  {
   "cell_type": "code",
   "execution_count": 5,
   "metadata": {},
   "outputs": [],
   "source": [
    "X, X_test, y, y_test = train_test_split(\n",
    "    df['text'],\n",
    "    df['toxic'],\n",
    "    test_size=.25,\n",
    "    stratify=df['toxic'],\n",
    "    random_state=RS)"
   ]
  },
  {
   "cell_type": "markdown",
   "metadata": {},
   "source": [
    "проверим баланс класов"
   ]
  },
  {
   "cell_type": "code",
   "execution_count": 6,
   "metadata": {},
   "outputs": [
    {
     "name": "stdout",
     "output_type": "stream",
     "text": [
      "----------------------------------------\n",
      "отношение классов 143106:16186\n",
      "                     8.8:1\n",
      "----------------------------------------\n"
     ]
    },
    {
     "data": {
      "image/png": "[encoded data removed]",
      "text/plain": [
       "<Figure size 360x360 with 1 Axes>"
      ]
     },
     "metadata": {},
     "output_type": "display_data"
    }
   ],
   "source": [
    "df['toxic'].value_counts().plot(\n",
    "    kind='pie',\n",
    "    title='balance ratio',\n",
    "    ylabel='',\n",
    "    labels=['no-toxic','toxic'],\n",
    "    autopct='%.1f%%',\n",
    "    explode=[0.05,0.05],\n",
    "    figsize=(5,5),\n",
    "    fontsize=13,\n",
    "    wedgeprops = {'linewidth':0.5,'edgecolor':'k'},\n",
    "    colors=['0.6','0.8']\n",
    "    \n",
    ");\n",
    "print('-'*40)\n",
    "print(f'отношение классов {df[\"toxic\"].value_counts()[0]}:{df[\"toxic\"].value_counts()[1]}')\n",
    "print(' '*20,f'{df[\"toxic\"].value_counts()[0]/df[\"toxic\"].value_counts()[1]:.1f}:1')\n",
    "print('-'*40)"
   ]
  },
  {
   "cell_type": "markdown",
   "metadata": {},
   "source": [
    "выявлен дисбаланс классов с большим весом у класса 0 почти в 9 раз.есть 3 способа устранения дисбаласна: задать для модели параметр class_weight, downsampled, upsampled. 2ой и 3ий методы пропускаем ввиду необходимости подключения дополнительных модулей типа SMOTE и Imblearn для корректного отображения метрик после кросс-валидации по причине переобучения моделей, оставляем первый вариант, как простой в эксплуатации и эффективный с точки зрения его эксплуатации в ранних проектах. еще стоит учесть, что борьба с дисбалансом с помощью семплирования не единственный метод, подбор модели и ее параметров даст результат лучше. поэтому балансировку произведем только для линеных моделей"
   ]
  },
  {
   "cell_type": "markdown",
   "metadata": {},
   "source": [
    "**Вывод по подготовке данных:**\n",
    "\n",
    "- загружены данные, импорты, пакеты для работы с тестовыми данными на английском языке;\n",
    "- данные токенизированы, лемматизированны, очищены, разбиты на выборки;\n",
    "- выборки преобразованы для обучения моделей разными методами.\n",
    "\n",
    "Данные готовы к обучению."
   ]
  },
  {
   "cell_type": "markdown",
   "metadata": {
    "tags": []
   },
   "source": [
    "## Обучение"
   ]
  },
  {
   "cell_type": "markdown",
   "metadata": {},
   "source": [
    "Обучим модели sklearn (логистическая регрессия) и бустинга (lgbm) с помощью pipeline и cv"
   ]
  },
  {
   "cell_type": "code",
   "execution_count": 7,
   "metadata": {},
   "outputs": [],
   "source": [
    "def classifier_cv(model, params):\n",
    "    \n",
    "    classifier = RandomizedSearchCV(\n",
    "         model, \n",
    "         params, \n",
    "         cv = KFold(5, shuffle=True, random_state=RS),\n",
    "         scoring = 'f1',\n",
    "         n_jobs = -1,\n",
    "         verbose = 10\n",
    "    )\n",
    "    classifier.fit(X, y)\n",
    "    \n",
    "    f1_cv = classifier.best_score_.round(4)  \n",
    "    best_params = classifier.best_params_\n",
    "    best_model = classifier.best_estimator_\n",
    "    \n",
    "    return f1_cv, best_params, best_model"
   ]
  },
  {
   "cell_type": "markdown",
   "metadata": {
    "tags": []
   },
   "source": [
    "### SKLearn"
   ]
  },
  {
   "cell_type": "markdown",
   "metadata": {},
   "source": [
    "**Logistic Regression Tf-Idf**"
   ]
  },
  {
   "cell_type": "code",
   "execution_count": 8,
   "metadata": {},
   "outputs": [
    {
     "name": "stdout",
     "output_type": "stream",
     "text": [
      "Fitting 5 folds for each of 1 candidates, totalling 5 fits\n",
      "CPU times: total: 25.6 s\n",
      "Wall time: 36.5 s\n"
     ]
    }
   ],
   "source": [
    "%%time\n",
    "pipe_lr_tfidf = Pipeline([\n",
    "    ('tfidf', TfidfVectorizer()),\n",
    "    ('logreg', LogisticRegression(class_weight='balanced',random_state=RS))\n",
    "])\n",
    "params_lr = {\n",
    "    'logreg__solver':['liblinear'],\n",
    "    'logreg__C': [10]\n",
    "}\n",
    "lr_tfidf_f1_cv, lr_tfidf_best_params, lr_tfidf_best_model = classifier_cv(\n",
    "    pipe_lr_tfidf, \n",
    "    params_lr\n",
    ")"
   ]
  },
  {
   "cell_type": "markdown",
   "metadata": {},
   "source": [
    "**Logistic Regression Bow**"
   ]
  },
  {
   "cell_type": "code",
   "execution_count": 9,
   "metadata": {},
   "outputs": [
    {
     "name": "stdout",
     "output_type": "stream",
     "text": [
      "Fitting 5 folds for each of 1 candidates, totalling 5 fits\n",
      "CPU times: total: 38.6 s\n",
      "Wall time: 40.2 s\n"
     ]
    }
   ],
   "source": [
    "%%time\n",
    "pipe_lr_bow = Pipeline([\n",
    "    ('bow', CountVectorizer()),\n",
    "    ('logreg', LogisticRegression(class_weight='balanced',random_state=RS))\n",
    "])\n",
    "params_lr_bow = {\n",
    "    'logreg__solver':['lbfgs'],\n",
    "    'logreg__C': [1]\n",
    "}\n",
    "lr_bow_f1_cv, lr_bow_best_params, lr_bow_best_model = classifier_cv(\n",
    "    pipe_lr_bow, \n",
    "    params_lr_bow\n",
    ")"
   ]
  },
  {
   "cell_type": "markdown",
   "metadata": {
    "tags": []
   },
   "source": [
    "### Boosting"
   ]
  },
  {
   "cell_type": "markdown",
   "metadata": {},
   "source": [
    "**LightGBM Classifier Tf-Idf**"
   ]
  },
  {
   "cell_type": "code",
   "execution_count": 10,
   "metadata": {
    "tags": []
   },
   "outputs": [
    {
     "name": "stdout",
     "output_type": "stream",
     "text": [
      "Fitting 5 folds for each of 1 candidates, totalling 5 fits\n",
      "CPU times: total: 9min 13s\n",
      "Wall time: 7min 4s\n"
     ]
    }
   ],
   "source": [
    "%%time\n",
    "pipe_lgbm_tfidf = Pipeline([\n",
    "    ('tfidf', TfidfVectorizer()),\n",
    "    ('lgbm', LGBMClassifier(random_state=RS))\n",
    "])\n",
    "params_lgbm_tfidf = {\n",
    "    'lgbm__n_estimators':[500],\n",
    "    'lgbm__learning_rate':[0.1],\n",
    "    'lgbm__max_depth':[50]\n",
    "}\n",
    "lgbm_tfidf_f1_cv, lgbm_tfidf_best_params, lgbm_tfidf_best_model = classifier_cv(\n",
    "    pipe_lgbm_tfidf, \n",
    "    params_lgbm_tfidf\n",
    ")"
   ]
  },
  {
   "cell_type": "markdown",
   "metadata": {},
   "source": [
    "**LightGBM Classifier Bow**"
   ]
  },
  {
   "cell_type": "code",
   "execution_count": 11,
   "metadata": {},
   "outputs": [
    {
     "name": "stdout",
     "output_type": "stream",
     "text": [
      "Fitting 5 folds for each of 1 candidates, totalling 5 fits\n",
      "CPU times: total: 2min 29s\n",
      "Wall time: 2min 30s\n"
     ]
    }
   ],
   "source": [
    "%%time\n",
    "pipe_lgbm_bow = Pipeline([\n",
    "    ('bow', CountVectorizer(dtype='float')),\n",
    "    ('lgbm', LGBMClassifier(random_state=RS)),\n",
    "])\n",
    "params_lgbm_bow = {\n",
    "    'lgbm__n_estimators':[500],\n",
    "    'lgbm__learning_rate':[0.1],\n",
    "    'lgbm__max_depth':[50]\n",
    "}\n",
    "lgbm_bow_f1_cv, lgbm_bow_best_params, lgbm_bow_best_model = classifier_cv(\n",
    "    pipe_lgbm_bow, \n",
    "    params_lgbm_bow\n",
    ")"
   ]
  },
  {
   "cell_type": "markdown",
   "metadata": {},
   "source": [
    "выведем результаты"
   ]
  },
  {
   "cell_type": "code",
   "execution_count": 12,
   "metadata": {},
   "outputs": [
    {
     "name": "stdout",
     "output_type": "stream",
     "text": [
      "\n",
      "************** F1 CV ML **************\n"
     ]
    },
    {
     "data": {
      "text/html": [
       "<div>\n",
       "<style scoped>\n",
       "    .dataframe tbody tr th:only-of-type {\n",
       "        vertical-align: middle;\n",
       "    }\n",
       "\n",
       "    .dataframe tbody tr th {\n",
       "        vertical-align: top;\n",
       "    }\n",
       "\n",
       "    .dataframe thead th {\n",
       "        text-align: right;\n",
       "    }\n",
       "</style>\n",
       "<table border=\"1\" class=\"dataframe\">\n",
       "  <thead>\n",
       "    <tr style=\"text-align: right;\">\n",
       "      <th></th>\n",
       "      <th>Logistic Regression</th>\n",
       "      <th>LightGBM Classifier</th>\n",
       "    </tr>\n",
       "  </thead>\n",
       "  <tbody>\n",
       "    <tr>\n",
       "      <th>Tf-Ifd</th>\n",
       "      <td>0.7526</td>\n",
       "      <td>0.7657</td>\n",
       "    </tr>\n",
       "    <tr>\n",
       "      <th>Bow</th>\n",
       "      <td>0.7441</td>\n",
       "      <td>0.7623</td>\n",
       "    </tr>\n",
       "  </tbody>\n",
       "</table>\n",
       "</div>"
      ],
      "text/plain": [
       "        Logistic Regression  LightGBM Classifier\n",
       "Tf-Ifd               0.7526               0.7657\n",
       "Bow                  0.7441               0.7623"
      ]
     },
     "execution_count": 12,
     "metadata": {},
     "output_type": "execute_result"
    }
   ],
   "source": [
    "print()\n",
    "print('*'*14,'F1 CV ML','*'*14)\n",
    "pd.DataFrame({\n",
    "     'Logistic Regression':[lr_tfidf_f1_cv,\n",
    "                           lr_bow_f1_cv],\n",
    "     'LightGBM Classifier':[lgbm_tfidf_f1_cv,\n",
    "                            lgbm_bow_f1_cv]\n",
    "     },\n",
    "     index=['Tf-Ifd',\n",
    "           'Bow']\n",
    ")"
   ]
  },
  {
   "cell_type": "markdown",
   "metadata": {},
   "source": [
    "проведем тест для модели с лучшим значением метрики"
   ]
  },
  {
   "cell_type": "code",
   "execution_count": 13,
   "metadata": {
    "tags": []
   },
   "outputs": [
    {
     "name": "stdout",
     "output_type": "stream",
     "text": [
      "\n",
      "***** F1 LGBM TF-IFD *****\n",
      "\n"
     ]
    },
    {
     "data": {
      "text/html": [
       "<div>\n",
       "<style scoped>\n",
       "    .dataframe tbody tr th:only-of-type {\n",
       "        vertical-align: middle;\n",
       "    }\n",
       "\n",
       "    .dataframe tbody tr th {\n",
       "        vertical-align: top;\n",
       "    }\n",
       "\n",
       "    .dataframe thead th {\n",
       "        text-align: right;\n",
       "    }\n",
       "</style>\n",
       "<table border=\"1\" class=\"dataframe\">\n",
       "  <thead>\n",
       "    <tr style=\"text-align: right;\">\n",
       "      <th></th>\n",
       "      <th>LightGBM Classifier</th>\n",
       "    </tr>\n",
       "  </thead>\n",
       "  <tbody>\n",
       "    <tr>\n",
       "      <th>f1 train</th>\n",
       "      <td>0.7657</td>\n",
       "    </tr>\n",
       "    <tr>\n",
       "      <th>f1 test</th>\n",
       "      <td>0.7764</td>\n",
       "    </tr>\n",
       "  </tbody>\n",
       "</table>\n",
       "</div>"
      ],
      "text/plain": [
       "          LightGBM Classifier\n",
       "f1 train               0.7657\n",
       "f1 test                0.7764"
      ]
     },
     "execution_count": 13,
     "metadata": {},
     "output_type": "execute_result"
    }
   ],
   "source": [
    "lgbm_tfidf_f1_test = f1_score(\n",
    "    y_test, lgbm_tfidf_best_model.predict(X_test)).round(4)\n",
    "\n",
    "print()\n",
    "print('*'*5,'F1 LGBM TF-IFD','*'*5)\n",
    "print()\n",
    "pd.DataFrame({\n",
    "     'LightGBM Classifier':[lgbm_tfidf_f1_cv,\n",
    "                            lgbm_tfidf_f1_test]\n",
    "     },\n",
    "     index=['f1 train',\n",
    "            'f1 test']\n",
    ")"
   ]
  },
  {
   "cell_type": "markdown",
   "metadata": {},
   "source": [
    "удалим ненужные переменные для оптимизации памяти и ресурсов платформы"
   ]
  },
  {
   "cell_type": "code",
   "execution_count": 14,
   "metadata": {},
   "outputs": [],
   "source": [
    "del X\n",
    "del X_test\n",
    "del y\n",
    "del y_test"
   ]
  },
  {
   "cell_type": "markdown",
   "metadata": {
    "tags": []
   },
   "source": [
    "## BERT"
   ]
  },
  {
   "cell_type": "markdown",
   "metadata": {
    "tags": []
   },
   "source": [
    "### Подготовка"
   ]
  },
  {
   "cell_type": "markdown",
   "metadata": {},
   "source": [
    "датасет для Берта был создан в начале проекта, используем Toxic Bert"
   ]
  },
  {
   "cell_type": "code",
   "execution_count": 15,
   "metadata": {},
   "outputs": [
    {
     "name": "stderr",
     "output_type": "stream",
     "text": [
      "Some weights of the model checkpoint at unitary/toxic-bert were not used when initializing BertModel: ['classifier.weight', 'classifier.bias']\n",
      "- This IS expected if you are initializing BertModel from the checkpoint of a model trained on another task or with another architecture (e.g. initializing a BertForSequenceClassification model from a BertForPreTraining model).\n",
      "- This IS NOT expected if you are initializing BertModel from the checkpoint of a model that you expect to be exactly identical (initializing a BertForSequenceClassification model from a BertForSequenceClassification model).\n",
      "100%|██████████| 1000/1000 [00:03<00:00, 299.91it/s]\n"
     ]
    }
   ],
   "source": [
    "tqdm.pandas()\n",
    "\n",
    "tokenizer = transformers.BertTokenizer.from_pretrained('unitary/toxic-bert')\n",
    "config = transformers.BertConfig.from_pretrained('unitary/toxic-bert')\n",
    "model = transformers.BertModel.from_pretrained('unitary/toxic-bert', config=config)\n",
    "\n",
    "tokenized = df_bert['text'].progress_apply(\n",
    "lambda x: tokenizer.encode(x, max_length=512, truncation=True, add_special_tokens=True)) \n",
    "\n",
    "padded = pad_sequence([torch.as_tensor(seq) for seq in tokenized], batch_first=True)  \n",
    "\n",
    "attention_mask = padded > 0\n",
    "attention_mask = attention_mask.type(torch.LongTensor)"
   ]
  },
  {
   "cell_type": "code",
   "execution_count": 16,
   "metadata": {
    "tags": []
   },
   "outputs": [
    {
     "data": {
      "application/vnd.jupyter.widget-view+json": {
       "model_id": "0bef8d59add749bca4952d8bb2100ec8",
       "version_major": 2,
       "version_minor": 0
      },
      "text/plain": [
       "  0%|          | 0/200 [00:00<?, ?it/s]"
      ]
     },
     "metadata": {},
     "output_type": "display_data"
    }
   ],
   "source": [
    "batch_size = 5\n",
    "embeddings = []\n",
    "\n",
    "for i in notebook.tqdm(range(padded.shape[0] // batch_size)):\n",
    "        batch = torch.LongTensor(padded[batch_size*i:batch_size*(i+1)]) \n",
    "        attention_mask_batch = torch.LongTensor(attention_mask[batch_size*i:batch_size*(i+1)])\n",
    "        \n",
    "        with torch.no_grad():\n",
    "            batch_embeddings = model(batch, attention_mask=attention_mask_batch)\n",
    "        \n",
    "        embeddings.append(batch_embeddings[0][:,0,:].numpy())\n",
    "\n",
    "features = np.concatenate(embeddings)\n",
    "np.save('embeddings', features)"
   ]
  },
  {
   "cell_type": "markdown",
   "metadata": {},
   "source": [
    "батчи готовы и преобразованы в признаки для обучения, подготовим данные для обучения"
   ]
  },
  {
   "cell_type": "code",
   "execution_count": 17,
   "metadata": {},
   "outputs": [
    {
     "name": "stdout",
     "output_type": "stream",
     "text": [
      "Размеры выборок для метода BERT\n",
      "-----------------------------------\n",
      "размер трейна (750, 768) -- таргета на трейне (750,)\n",
      "--------------------------------------------------\n",
      "размер теста   (250, 768) -- таргета на тесте (250,)\n"
     ]
    }
   ],
   "source": [
    "X, X_test, y, y_test = train_test_split(\n",
    "    features, \n",
    "    df_bert['toxic'], \n",
    "    test_size=.25,\n",
    "    stratify=df_bert['toxic'],\n",
    "    random_state=RS\n",
    ")\n",
    "print('Размеры выборок для метода BERT')\n",
    "print('-'*35)\n",
    "print(f'размер трейна {X.shape} -- таргета на трейне {y.shape}')\n",
    "print('-'*50)\n",
    "print(f'размер теста   {X_test.shape} -- таргета на тесте {y_test.shape}')"
   ]
  },
  {
   "cell_type": "markdown",
   "metadata": {
    "tags": []
   },
   "source": [
    "### Обучение"
   ]
  },
  {
   "cell_type": "markdown",
   "metadata": {},
   "source": [
    "**Logistic Regression BERT**"
   ]
  },
  {
   "cell_type": "code",
   "execution_count": 18,
   "metadata": {},
   "outputs": [
    {
     "name": "stdout",
     "output_type": "stream",
     "text": [
      "Fitting 5 folds for each of 1 candidates, totalling 5 fits\n",
      "CPU times: total: 344 ms\n",
      "Wall time: 9.33 s\n"
     ]
    }
   ],
   "source": [
    "%%time\n",
    "pipe_lr_bert = Pipeline([\n",
    "    ('logreg', LogisticRegression(class_weight='balanced',random_state=RS)),\n",
    "])\n",
    "params_lr_bert = {\n",
    "    'logreg__solver':['liblinear'],\n",
    "    'logreg__C':[1]\n",
    "}\n",
    "lr_bert_f1_cv, lr_bert_best_params, lr_bert_best_model = classifier_cv(\n",
    "    pipe_lr_bert, \n",
    "    params_lr_bert\n",
    ")"
   ]
  },
  {
   "cell_type": "markdown",
   "metadata": {},
   "source": [
    "**LightGBM Classifier BERT**"
   ]
  },
  {
   "cell_type": "code",
   "execution_count": 19,
   "metadata": {},
   "outputs": [
    {
     "name": "stdout",
     "output_type": "stream",
     "text": [
      "Fitting 5 folds for each of 1 candidates, totalling 5 fits\n",
      "CPU times: total: 6.91 s\n",
      "Wall time: 11 s\n"
     ]
    }
   ],
   "source": [
    "%%time\n",
    "pipe_lgbm_bert = Pipeline([\n",
    "    ('lgbm', LGBMClassifier(random_state=RS)),\n",
    "])\n",
    "params_lgbm_bert = {\n",
    "    'lgbm__n_estimators':[500],\n",
    "    'lgbm__learning_rate':[0.5],\n",
    "    'lgbm__max_depth':[25]\n",
    "}\n",
    "lgbm_bert_f1_cv, lgbm_bert_best_params, lgbm_bert_best_model = classifier_cv(\n",
    "    pipe_lgbm_bert, \n",
    "    params_lgbm_bert\n",
    ")"
   ]
  },
  {
   "cell_type": "markdown",
   "metadata": {},
   "source": [
    "выведем результаты"
   ]
  },
  {
   "cell_type": "code",
   "execution_count": 20,
   "metadata": {},
   "outputs": [
    {
     "name": "stdout",
     "output_type": "stream",
     "text": [
      "\n",
      "************ F1 CV BERT ************\n",
      "\n"
     ]
    },
    {
     "data": {
      "text/html": [
       "<div>\n",
       "<style scoped>\n",
       "    .dataframe tbody tr th:only-of-type {\n",
       "        vertical-align: middle;\n",
       "    }\n",
       "\n",
       "    .dataframe tbody tr th {\n",
       "        vertical-align: top;\n",
       "    }\n",
       "\n",
       "    .dataframe thead th {\n",
       "        text-align: right;\n",
       "    }\n",
       "</style>\n",
       "<table border=\"1\" class=\"dataframe\">\n",
       "  <thead>\n",
       "    <tr style=\"text-align: right;\">\n",
       "      <th></th>\n",
       "      <th>Logistic Regression</th>\n",
       "      <th>LightGBM Classifier</th>\n",
       "    </tr>\n",
       "  </thead>\n",
       "  <tbody>\n",
       "    <tr>\n",
       "      <th>Bert</th>\n",
       "      <td>0.9590</td>\n",
       "      <td>0.9633</td>\n",
       "    </tr>\n",
       "  </tbody>\n",
       "</table>\n",
       "</div>"
      ],
      "text/plain": [
       "      Logistic Regression  LightGBM Classifier\n",
       "Bert               0.9590               0.9633"
      ]
     },
     "execution_count": 20,
     "metadata": {},
     "output_type": "execute_result"
    }
   ],
   "source": [
    "print()\n",
    "print('*'*12,'F1 CV BERT','*'*12)\n",
    "print()\n",
    "pd.DataFrame({\n",
    "     'Logistic Regression':[lr_bert_f1_cv],\n",
    "     'LightGBM Classifier':[lgbm_bert_f1_cv]\n",
    "     },\n",
    "     index=['Bert']\n",
    ")"
   ]
  },
  {
   "cell_type": "markdown",
   "metadata": {},
   "source": [
    "проведем тест для модели с лучшим значением метрики"
   ]
  },
  {
   "cell_type": "code",
   "execution_count": 25,
   "metadata": {},
   "outputs": [
    {
     "name": "stdout",
     "output_type": "stream",
     "text": [
      "\n",
      "***** F1 LGBM BERT *****\n",
      "\n"
     ]
    },
    {
     "data": {
      "text/html": [
       "<div>\n",
       "<style scoped>\n",
       "    .dataframe tbody tr th:only-of-type {\n",
       "        vertical-align: middle;\n",
       "    }\n",
       "\n",
       "    .dataframe tbody tr th {\n",
       "        vertical-align: top;\n",
       "    }\n",
       "\n",
       "    .dataframe thead th {\n",
       "        text-align: right;\n",
       "    }\n",
       "</style>\n",
       "<table border=\"1\" class=\"dataframe\">\n",
       "  <thead>\n",
       "    <tr style=\"text-align: right;\">\n",
       "      <th></th>\n",
       "      <th>LightGBM Classifier</th>\n",
       "    </tr>\n",
       "  </thead>\n",
       "  <tbody>\n",
       "    <tr>\n",
       "      <th>f1 train</th>\n",
       "      <td>0.9633</td>\n",
       "    </tr>\n",
       "    <tr>\n",
       "      <th>f1 test</th>\n",
       "      <td>0.8936</td>\n",
       "    </tr>\n",
       "  </tbody>\n",
       "</table>\n",
       "</div>"
      ],
      "text/plain": [
       "          LightGBM Classifier\n",
       "f1 train               0.9633\n",
       "f1 test                0.8936"
      ]
     },
     "execution_count": 25,
     "metadata": {},
     "output_type": "execute_result"
    }
   ],
   "source": [
    "lgbm_bert_f1_test = f1_score(y_test, lgbm_bert_best_model.predict(X_test)).round(4)\n",
    "\n",
    "print()\n",
    "print('*'*5,'F1 LGBM BERT','*'*5)\n",
    "print()\n",
    "pd.DataFrame({\n",
    "     'LightGBM Classifier':[lgbm_bert_f1_cv,\n",
    "                            lgbm_bert_f1_test]\n",
    "     },\n",
    "     index=['f1 train',\n",
    "            'f1 test']\n",
    ")"
   ]
  },
  {
   "cell_type": "markdown",
   "metadata": {
    "tags": []
   },
   "source": [
    "## Выводы"
   ]
  },
  {
   "cell_type": "markdown",
   "metadata": {},
   "source": [
    "Интернет-магазин «Викишоп» запускает новый сервис. Теперь пользователи могут редактировать и дополнять описания товаров, как в вики-сообществах. То есть клиенты предлагают свои правки и комментируют изменения других.\n",
    "\n",
    "Нашей задачей является создание модели задачи классификации, которая будет на основе содержания комментариев выявлять из них негативные для дальнейшней модерации. В вашем распоряжении набор данных с разметкой о токсичности правок.\n",
    "\n",
    "В течение проекта были проделаны следующие шаги:\n",
    "\n",
    "- загружены и изучены данные в иде корпуса текстов;\n",
    "- для работы с моделью Берт выделена часть данных;\n",
    "- для работы моделей модулей sklearn и boosting подготовим данные: проведем чистку, токенизацию, лемматизацию;\n",
    "- был выявлен дисбаланс классов и предложены методы работы моделей с ним;\n",
    "- проведена кросс-валидация данных на разных моделях **sklearn** и **boosting** с перебором параметров, получены значения метрик для каждого варианта модели;\n",
    "- на основе полученных значений метрик моделей выбрана модель с лучшим показателем и осуществлена ее проверка на тестовых данных;\n",
    "- результаты на тестовых данных выведены в таблицу;\n",
    "- проведена кросс-валидация данных на разных моделях методом **Берт** с перебором параметров, получены значения метрик для каждого варианта модели;\n",
    "- на основе полученных значений метрик моделей выбрана модель с лучшим показателем и осуществлена ее проверка на тестовых данных;\n",
    "- результаты на тестовых данных выведены в таблицу.\n",
    "\n",
    "На основе полученных результатов на тестовых данных выработана рекомендация к дальнейшей эксплуатации модели LightGBM Classifier методом Берт не только благодаря лучшему значению метрики, а также специализированной направленности для работы с корпусами текстов. Минусом данного метода является длительное время создания эмбедингов, плюсом - быстрое время обучения моделей с большим количеством перебираемых параметров. Недостаток данного метода можно устранить, используя сторонние ресурсы и облачные технологии со стороны заказчика. Альтернативным методом можно предложить модель LightGBM Classifier, обученный методом TF-IFD. Данная альтернатива показывает чуть худший результат и имеет такой же недостаток длительного обучения модели: с увеличением количества перебираемых параметров и их значений увеличивается время работы модели. Данный недостаток устраняется методом, аналогиному описанному выше.\n",
    "\n",
    "Итогом работы над проектом является рекомендация эксплуатации модели LightGBM Classifier методом Берт."
   ]
  }
 ],
 "metadata": {
  "ExecuteTimeLog": [
   {
    "duration": 1785,
    "start_time": "2023-01-11T09:39:58.273Z"
   },
   {
    "duration": 52,
    "start_time": "2023-01-11T19:52:08.250Z"
   },
   {
    "duration": 1781,
    "start_time": "2023-01-11T19:52:10.536Z"
   },
   {
    "duration": 1215,
    "start_time": "2023-01-11T19:52:12.319Z"
   },
   {
    "duration": 131,
    "start_time": "2023-01-11T19:52:32.274Z"
   },
   {
    "duration": 1559,
    "start_time": "2023-01-11T19:53:42.287Z"
   },
   {
    "duration": 1190,
    "start_time": "2023-01-11T19:53:43.847Z"
   },
   {
    "duration": 126,
    "start_time": "2023-01-11T19:53:45.038Z"
   },
   {
    "duration": 1533,
    "start_time": "2023-01-11T19:54:11.604Z"
   },
   {
    "duration": 1210,
    "start_time": "2023-01-11T19:54:13.138Z"
   },
   {
    "duration": 203,
    "start_time": "2023-01-11T19:54:14.350Z"
   },
   {
    "duration": 1577,
    "start_time": "2023-01-11T19:54:50.354Z"
   },
   {
    "duration": 843,
    "start_time": "2023-01-11T19:54:51.933Z"
   },
   {
    "duration": 170,
    "start_time": "2023-01-11T19:54:52.778Z"
   },
   {
    "duration": 90489,
    "start_time": "2023-01-11T19:54:52.949Z"
   },
   {
    "duration": 988,
    "start_time": "2023-01-11T20:02:20.521Z"
   },
   {
    "duration": 73030,
    "start_time": "2023-01-11T20:02:39.161Z"
   },
   {
    "duration": 726,
    "start_time": "2023-01-11T20:20:16.917Z"
   },
   {
    "duration": 7189,
    "start_time": "2023-01-11T20:20:30.594Z"
   },
   {
    "duration": 6334,
    "start_time": "2023-01-11T20:23:41.146Z"
   },
   {
    "duration": 6617,
    "start_time": "2023-01-11T20:24:05.546Z"
   },
   {
    "duration": 6280,
    "start_time": "2023-01-11T20:24:26.450Z"
   },
   {
    "duration": 6361,
    "start_time": "2023-01-11T20:24:41.588Z"
   },
   {
    "duration": 129,
    "start_time": "2023-01-11T20:35:30.989Z"
   },
   {
    "duration": 131,
    "start_time": "2023-01-11T20:36:10.361Z"
   },
   {
    "duration": 125,
    "start_time": "2023-01-11T20:36:15.272Z"
   },
   {
    "duration": 94,
    "start_time": "2023-01-11T20:36:21.962Z"
   },
   {
    "duration": 99,
    "start_time": "2023-01-11T20:36:26.386Z"
   },
   {
    "duration": 104,
    "start_time": "2023-01-11T20:36:30.308Z"
   },
   {
    "duration": 120,
    "start_time": "2023-01-11T20:36:34.886Z"
   },
   {
    "duration": 105,
    "start_time": "2023-01-11T20:37:31.849Z"
   },
   {
    "duration": 109,
    "start_time": "2023-01-11T20:39:25.431Z"
   },
   {
    "duration": 3,
    "start_time": "2023-01-11T20:40:01.894Z"
   },
   {
    "duration": 51,
    "start_time": "2023-01-11T20:40:04.977Z"
   },
   {
    "duration": 44,
    "start_time": "2023-01-11T20:40:16.855Z"
   },
   {
    "duration": 49,
    "start_time": "2023-01-11T20:40:21.298Z"
   },
   {
    "duration": 123,
    "start_time": "2023-01-11T20:40:38.025Z"
   },
   {
    "duration": 104,
    "start_time": "2023-01-11T20:40:48.157Z"
   },
   {
    "duration": 58,
    "start_time": "2023-01-11T20:41:04.717Z"
   },
   {
    "duration": 102,
    "start_time": "2023-01-11T20:41:09.968Z"
   },
   {
    "duration": 221,
    "start_time": "2023-01-11T20:41:15.341Z"
   },
   {
    "duration": 103,
    "start_time": "2023-01-11T20:41:20.506Z"
   },
   {
    "duration": 120,
    "start_time": "2023-01-11T20:41:23.504Z"
   },
   {
    "duration": 102,
    "start_time": "2023-01-11T20:41:27.350Z"
   },
   {
    "duration": 104,
    "start_time": "2023-01-11T20:41:31.104Z"
   },
   {
    "duration": 108,
    "start_time": "2023-01-11T20:41:35.055Z"
   },
   {
    "duration": 110,
    "start_time": "2023-01-11T20:41:40.501Z"
   },
   {
    "duration": 110,
    "start_time": "2023-01-11T20:41:43.741Z"
   },
   {
    "duration": 102,
    "start_time": "2023-01-11T20:41:47.704Z"
   },
   {
    "duration": 105,
    "start_time": "2023-01-11T20:42:01.361Z"
   },
   {
    "duration": 107,
    "start_time": "2023-01-11T20:42:07.482Z"
   },
   {
    "duration": 100,
    "start_time": "2023-01-11T20:42:11.193Z"
   },
   {
    "duration": 100,
    "start_time": "2023-01-11T20:42:16.799Z"
   },
   {
    "duration": 100,
    "start_time": "2023-01-11T20:42:21.039Z"
   },
   {
    "duration": 109,
    "start_time": "2023-01-11T20:42:38.527Z"
   },
   {
    "duration": 109,
    "start_time": "2023-01-11T20:42:47.504Z"
   },
   {
    "duration": 187,
    "start_time": "2023-01-11T20:43:35.725Z"
   },
   {
    "duration": 78,
    "start_time": "2023-01-11T20:44:01.916Z"
   },
   {
    "duration": 90,
    "start_time": "2023-01-11T20:44:08.954Z"
   },
   {
    "duration": 84,
    "start_time": "2023-01-11T20:44:12.624Z"
   },
   {
    "duration": 83,
    "start_time": "2023-01-11T20:44:16.226Z"
   },
   {
    "duration": 86,
    "start_time": "2023-01-11T20:44:21.684Z"
   },
   {
    "duration": 84,
    "start_time": "2023-01-11T20:44:25.388Z"
   },
   {
    "duration": 86,
    "start_time": "2023-01-11T20:44:29.109Z"
   },
   {
    "duration": 87,
    "start_time": "2023-01-11T20:44:36.460Z"
   },
   {
    "duration": 97,
    "start_time": "2023-01-11T20:45:19.981Z"
   },
   {
    "duration": 95,
    "start_time": "2023-01-11T20:45:37.472Z"
   },
   {
    "duration": 81,
    "start_time": "2023-01-11T20:45:41.079Z"
   },
   {
    "duration": 80,
    "start_time": "2023-01-11T20:45:45.126Z"
   },
   {
    "duration": 83,
    "start_time": "2023-01-11T20:45:48.756Z"
   },
   {
    "duration": 91,
    "start_time": "2023-01-11T20:45:51.602Z"
   },
   {
    "duration": 91,
    "start_time": "2023-01-11T20:45:56.756Z"
   },
   {
    "duration": 98,
    "start_time": "2023-01-11T20:46:15.931Z"
   },
   {
    "duration": 193,
    "start_time": "2023-01-11T20:46:30.094Z"
   },
   {
    "duration": 88,
    "start_time": "2023-01-11T20:47:02.206Z"
   },
   {
    "duration": 94,
    "start_time": "2023-01-11T20:47:08.551Z"
   },
   {
    "duration": 103,
    "start_time": "2023-01-11T20:47:15.066Z"
   },
   {
    "duration": 104,
    "start_time": "2023-01-11T20:47:34.952Z"
   },
   {
    "duration": 83,
    "start_time": "2023-01-11T20:47:52.595Z"
   },
   {
    "duration": 47,
    "start_time": "2023-01-11T20:48:32.234Z"
   },
   {
    "duration": 52,
    "start_time": "2023-01-11T20:48:36.209Z"
   },
   {
    "duration": 104,
    "start_time": "2023-01-11T20:48:42.619Z"
   },
   {
    "duration": 103,
    "start_time": "2023-01-11T20:49:37.566Z"
   },
   {
    "duration": 89,
    "start_time": "2023-01-11T20:49:46.403Z"
   },
   {
    "duration": 99,
    "start_time": "2023-01-11T20:49:58.599Z"
   },
   {
    "duration": 89,
    "start_time": "2023-01-11T20:50:15.975Z"
   },
   {
    "duration": 43,
    "start_time": "2023-01-11T20:52:45.460Z"
   },
   {
    "duration": 53,
    "start_time": "2023-01-11T20:53:10.122Z"
   },
   {
    "duration": 134,
    "start_time": "2023-01-11T20:53:45.108Z"
   },
   {
    "duration": 91,
    "start_time": "2023-01-11T20:54:24.226Z"
   },
   {
    "duration": 94,
    "start_time": "2023-01-11T20:56:56.839Z"
   },
   {
    "duration": 5,
    "start_time": "2023-01-11T20:57:28.614Z"
   },
   {
    "duration": 1598,
    "start_time": "2023-01-11T20:57:35.874Z"
   },
   {
    "duration": 870,
    "start_time": "2023-01-11T20:57:37.477Z"
   },
   {
    "duration": 5,
    "start_time": "2023-01-11T20:57:38.349Z"
   },
   {
    "duration": 169,
    "start_time": "2023-01-11T20:57:38.356Z"
   },
   {
    "duration": 94145,
    "start_time": "2023-01-11T20:57:38.527Z"
   },
   {
    "duration": 6627,
    "start_time": "2023-01-11T20:59:12.677Z"
   },
   {
    "duration": 113,
    "start_time": "2023-01-11T20:59:19.306Z"
   },
   {
    "duration": 263,
    "start_time": "2023-01-11T20:59:45.161Z"
   },
   {
    "duration": 105,
    "start_time": "2023-01-11T21:00:03.831Z"
   },
   {
    "duration": 112,
    "start_time": "2023-01-11T21:00:24.059Z"
   },
   {
    "duration": 108,
    "start_time": "2023-01-11T21:00:46.480Z"
   },
   {
    "duration": 134,
    "start_time": "2023-01-11T21:01:05.277Z"
   },
   {
    "duration": 113,
    "start_time": "2023-01-11T21:06:49.485Z"
   },
   {
    "duration": 102,
    "start_time": "2023-01-11T21:06:56.730Z"
   },
   {
    "duration": 107,
    "start_time": "2023-01-11T21:07:01.657Z"
   },
   {
    "duration": 115,
    "start_time": "2023-01-11T21:07:06.336Z"
   },
   {
    "duration": 107,
    "start_time": "2023-01-11T21:07:32.732Z"
   },
   {
    "duration": 128,
    "start_time": "2023-01-11T21:08:24.854Z"
   },
   {
    "duration": 6405,
    "start_time": "2023-01-11T21:32:24.468Z"
   },
   {
    "duration": 6636,
    "start_time": "2023-01-11T21:32:58.121Z"
   },
   {
    "duration": 6448,
    "start_time": "2023-01-11T21:33:20.117Z"
   },
   {
    "duration": 6905,
    "start_time": "2023-01-11T21:33:41.293Z"
   },
   {
    "duration": 3,
    "start_time": "2023-01-11T21:41:46.948Z"
   },
   {
    "duration": 4,
    "start_time": "2023-01-11T21:45:23.466Z"
   },
   {
    "duration": 4,
    "start_time": "2023-01-11T21:52:39.300Z"
   },
   {
    "duration": 281839,
    "start_time": "2023-01-11T21:52:40.242Z"
   },
   {
    "duration": 11,
    "start_time": "2023-01-11T21:57:37.147Z"
   },
   {
    "duration": 3755,
    "start_time": "2023-01-20T04:04:23.853Z"
   },
   {
    "duration": 2309,
    "start_time": "2023-01-20T04:04:27.610Z"
   },
   {
    "duration": 400,
    "start_time": "2023-01-20T04:04:29.920Z"
   },
   {
    "duration": 24976,
    "start_time": "2023-01-20T04:04:30.321Z"
   },
   {
    "duration": 78,
    "start_time": "2023-01-20T04:04:55.300Z"
   },
   {
    "duration": 4928,
    "start_time": "2023-01-20T04:04:55.379Z"
   },
   {
    "duration": 4728,
    "start_time": "2023-01-20T04:05:00.309Z"
   },
   {
    "duration": 125,
    "start_time": "2023-01-20T04:05:05.039Z"
   },
   {
    "duration": 5,
    "start_time": "2023-01-20T04:05:05.166Z"
   },
   {
    "duration": 154789,
    "start_time": "2023-01-20T04:05:05.173Z"
   }
  ],
  "kernelspec": {
   "display_name": "Python 3 (ipykernel)",
   "language": "python",
   "name": "python3"
  },
  "language_info": {
   "codemirror_mode": {
    "name": "ipython",
    "version": 3
   },
   "file_extension": ".py",
   "mimetype": "text/x-python",
   "name": "python",
   "nbconvert_exporter": "python",
   "pygments_lexer": "ipython3",
   "version": "3.9.12"
  },
  "toc": {
   "base_numbering": 1,
   "nav_menu": {},
   "number_sections": true,
   "sideBar": true,
   "skip_h1_title": true,
   "title_cell": "Содержание",
   "title_sidebar": "Contents",
   "toc_cell": true,
   "toc_position": {
    "height": "calc(100% - 180px)",
    "left": "10px",
    "top": "150px",
    "width": "302.391px"
   },
   "toc_section_display": true,
   "toc_window_display": false
  }
 },
 "nbformat": 4,
 "nbformat_minor": 4
}
